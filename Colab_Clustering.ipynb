{
  "nbformat": 4,
  "nbformat_minor": 0,
  "metadata": {
    "colab": {
      "provenance": [],
      "gpuType": "T4"
    },
    "kernelspec": {
      "name": "python3",
      "display_name": "Python 3"
    },
    "language_info": {
      "name": "python"
    },
    "accelerator": "GPU",
    "gpuClass": "standard",
    "widgets": {
      "application/vnd.jupyter.widget-state+json": {
        "e932121d73cd4e49b1895d1ae6792ec4": {
          "model_module": "@jupyter-widgets/controls",
          "model_name": "HBoxModel",
          "model_module_version": "1.5.0",
          "state": {
            "_dom_classes": [],
            "_model_module": "@jupyter-widgets/controls",
            "_model_module_version": "1.5.0",
            "_model_name": "HBoxModel",
            "_view_count": null,
            "_view_module": "@jupyter-widgets/controls",
            "_view_module_version": "1.5.0",
            "_view_name": "HBoxView",
            "box_style": "",
            "children": [
              "IPY_MODEL_732495730ee6470f9264aeb3bf73005b",
              "IPY_MODEL_ea58a23d3b624f7c98f87f958a9c9bb7",
              "IPY_MODEL_a62788616a3e455db6dd32cbc63a26ec"
            ],
            "layout": "IPY_MODEL_563a27b0468c4e5c92b299fbb5de543d"
          }
        },
        "732495730ee6470f9264aeb3bf73005b": {
          "model_module": "@jupyter-widgets/controls",
          "model_name": "HTMLModel",
          "model_module_version": "1.5.0",
          "state": {
            "_dom_classes": [],
            "_model_module": "@jupyter-widgets/controls",
            "_model_module_version": "1.5.0",
            "_model_name": "HTMLModel",
            "_view_count": null,
            "_view_module": "@jupyter-widgets/controls",
            "_view_module_version": "1.5.0",
            "_view_name": "HTMLView",
            "description": "",
            "description_tooltip": null,
            "layout": "IPY_MODEL_071d0e2d50654233a2b5b91555d85e62",
            "placeholder": "​",
            "style": "IPY_MODEL_d5ff37f836e24f25aa93d7af7e64dbea",
            "value": "Downloading (…)rocessor_config.json: 100%"
          }
        },
        "ea58a23d3b624f7c98f87f958a9c9bb7": {
          "model_module": "@jupyter-widgets/controls",
          "model_name": "FloatProgressModel",
          "model_module_version": "1.5.0",
          "state": {
            "_dom_classes": [],
            "_model_module": "@jupyter-widgets/controls",
            "_model_module_version": "1.5.0",
            "_model_name": "FloatProgressModel",
            "_view_count": null,
            "_view_module": "@jupyter-widgets/controls",
            "_view_module_version": "1.5.0",
            "_view_name": "ProgressView",
            "bar_style": "success",
            "description": "",
            "description_tooltip": null,
            "layout": "IPY_MODEL_02621d9b3dd84b06a60c4242a1a15f17",
            "max": 244,
            "min": 0,
            "orientation": "horizontal",
            "style": "IPY_MODEL_e99762f91d4c4181971da44558ec26a0",
            "value": 244
          }
        },
        "a62788616a3e455db6dd32cbc63a26ec": {
          "model_module": "@jupyter-widgets/controls",
          "model_name": "HTMLModel",
          "model_module_version": "1.5.0",
          "state": {
            "_dom_classes": [],
            "_model_module": "@jupyter-widgets/controls",
            "_model_module_version": "1.5.0",
            "_model_name": "HTMLModel",
            "_view_count": null,
            "_view_module": "@jupyter-widgets/controls",
            "_view_module_version": "1.5.0",
            "_view_name": "HTMLView",
            "description": "",
            "description_tooltip": null,
            "layout": "IPY_MODEL_d663f5ada57641c6abead30585db90bc",
            "placeholder": "​",
            "style": "IPY_MODEL_237cb1b4188b47a8b33ba77aa6f3025d",
            "value": " 244/244 [00:00&lt;00:00, 10.2kB/s]"
          }
        },
        "563a27b0468c4e5c92b299fbb5de543d": {
          "model_module": "@jupyter-widgets/base",
          "model_name": "LayoutModel",
          "model_module_version": "1.2.0",
          "state": {
            "_model_module": "@jupyter-widgets/base",
            "_model_module_version": "1.2.0",
            "_model_name": "LayoutModel",
            "_view_count": null,
            "_view_module": "@jupyter-widgets/base",
            "_view_module_version": "1.2.0",
            "_view_name": "LayoutView",
            "align_content": null,
            "align_items": null,
            "align_self": null,
            "border": null,
            "bottom": null,
            "display": null,
            "flex": null,
            "flex_flow": null,
            "grid_area": null,
            "grid_auto_columns": null,
            "grid_auto_flow": null,
            "grid_auto_rows": null,
            "grid_column": null,
            "grid_gap": null,
            "grid_row": null,
            "grid_template_areas": null,
            "grid_template_columns": null,
            "grid_template_rows": null,
            "height": null,
            "justify_content": null,
            "justify_items": null,
            "left": null,
            "margin": null,
            "max_height": null,
            "max_width": null,
            "min_height": null,
            "min_width": null,
            "object_fit": null,
            "object_position": null,
            "order": null,
            "overflow": null,
            "overflow_x": null,
            "overflow_y": null,
            "padding": null,
            "right": null,
            "top": null,
            "visibility": null,
            "width": null
          }
        },
        "071d0e2d50654233a2b5b91555d85e62": {
          "model_module": "@jupyter-widgets/base",
          "model_name": "LayoutModel",
          "model_module_version": "1.2.0",
          "state": {
            "_model_module": "@jupyter-widgets/base",
            "_model_module_version": "1.2.0",
            "_model_name": "LayoutModel",
            "_view_count": null,
            "_view_module": "@jupyter-widgets/base",
            "_view_module_version": "1.2.0",
            "_view_name": "LayoutView",
            "align_content": null,
            "align_items": null,
            "align_self": null,
            "border": null,
            "bottom": null,
            "display": null,
            "flex": null,
            "flex_flow": null,
            "grid_area": null,
            "grid_auto_columns": null,
            "grid_auto_flow": null,
            "grid_auto_rows": null,
            "grid_column": null,
            "grid_gap": null,
            "grid_row": null,
            "grid_template_areas": null,
            "grid_template_columns": null,
            "grid_template_rows": null,
            "height": null,
            "justify_content": null,
            "justify_items": null,
            "left": null,
            "margin": null,
            "max_height": null,
            "max_width": null,
            "min_height": null,
            "min_width": null,
            "object_fit": null,
            "object_position": null,
            "order": null,
            "overflow": null,
            "overflow_x": null,
            "overflow_y": null,
            "padding": null,
            "right": null,
            "top": null,
            "visibility": null,
            "width": null
          }
        },
        "d5ff37f836e24f25aa93d7af7e64dbea": {
          "model_module": "@jupyter-widgets/controls",
          "model_name": "DescriptionStyleModel",
          "model_module_version": "1.5.0",
          "state": {
            "_model_module": "@jupyter-widgets/controls",
            "_model_module_version": "1.5.0",
            "_model_name": "DescriptionStyleModel",
            "_view_count": null,
            "_view_module": "@jupyter-widgets/base",
            "_view_module_version": "1.2.0",
            "_view_name": "StyleView",
            "description_width": ""
          }
        },
        "02621d9b3dd84b06a60c4242a1a15f17": {
          "model_module": "@jupyter-widgets/base",
          "model_name": "LayoutModel",
          "model_module_version": "1.2.0",
          "state": {
            "_model_module": "@jupyter-widgets/base",
            "_model_module_version": "1.2.0",
            "_model_name": "LayoutModel",
            "_view_count": null,
            "_view_module": "@jupyter-widgets/base",
            "_view_module_version": "1.2.0",
            "_view_name": "LayoutView",
            "align_content": null,
            "align_items": null,
            "align_self": null,
            "border": null,
            "bottom": null,
            "display": null,
            "flex": null,
            "flex_flow": null,
            "grid_area": null,
            "grid_auto_columns": null,
            "grid_auto_flow": null,
            "grid_auto_rows": null,
            "grid_column": null,
            "grid_gap": null,
            "grid_row": null,
            "grid_template_areas": null,
            "grid_template_columns": null,
            "grid_template_rows": null,
            "height": null,
            "justify_content": null,
            "justify_items": null,
            "left": null,
            "margin": null,
            "max_height": null,
            "max_width": null,
            "min_height": null,
            "min_width": null,
            "object_fit": null,
            "object_position": null,
            "order": null,
            "overflow": null,
            "overflow_x": null,
            "overflow_y": null,
            "padding": null,
            "right": null,
            "top": null,
            "visibility": null,
            "width": null
          }
        },
        "e99762f91d4c4181971da44558ec26a0": {
          "model_module": "@jupyter-widgets/controls",
          "model_name": "ProgressStyleModel",
          "model_module_version": "1.5.0",
          "state": {
            "_model_module": "@jupyter-widgets/controls",
            "_model_module_version": "1.5.0",
            "_model_name": "ProgressStyleModel",
            "_view_count": null,
            "_view_module": "@jupyter-widgets/base",
            "_view_module_version": "1.2.0",
            "_view_name": "StyleView",
            "bar_color": null,
            "description_width": ""
          }
        },
        "d663f5ada57641c6abead30585db90bc": {
          "model_module": "@jupyter-widgets/base",
          "model_name": "LayoutModel",
          "model_module_version": "1.2.0",
          "state": {
            "_model_module": "@jupyter-widgets/base",
            "_model_module_version": "1.2.0",
            "_model_name": "LayoutModel",
            "_view_count": null,
            "_view_module": "@jupyter-widgets/base",
            "_view_module_version": "1.2.0",
            "_view_name": "LayoutView",
            "align_content": null,
            "align_items": null,
            "align_self": null,
            "border": null,
            "bottom": null,
            "display": null,
            "flex": null,
            "flex_flow": null,
            "grid_area": null,
            "grid_auto_columns": null,
            "grid_auto_flow": null,
            "grid_auto_rows": null,
            "grid_column": null,
            "grid_gap": null,
            "grid_row": null,
            "grid_template_areas": null,
            "grid_template_columns": null,
            "grid_template_rows": null,
            "height": null,
            "justify_content": null,
            "justify_items": null,
            "left": null,
            "margin": null,
            "max_height": null,
            "max_width": null,
            "min_height": null,
            "min_width": null,
            "object_fit": null,
            "object_position": null,
            "order": null,
            "overflow": null,
            "overflow_x": null,
            "overflow_y": null,
            "padding": null,
            "right": null,
            "top": null,
            "visibility": null,
            "width": null
          }
        },
        "237cb1b4188b47a8b33ba77aa6f3025d": {
          "model_module": "@jupyter-widgets/controls",
          "model_name": "DescriptionStyleModel",
          "model_module_version": "1.5.0",
          "state": {
            "_model_module": "@jupyter-widgets/controls",
            "_model_module_version": "1.5.0",
            "_model_name": "DescriptionStyleModel",
            "_view_count": null,
            "_view_module": "@jupyter-widgets/base",
            "_view_module_version": "1.2.0",
            "_view_name": "StyleView",
            "description_width": ""
          }
        },
        "a93995fa503142d385b35885b036d34f": {
          "model_module": "@jupyter-widgets/controls",
          "model_name": "HBoxModel",
          "model_module_version": "1.5.0",
          "state": {
            "_dom_classes": [],
            "_model_module": "@jupyter-widgets/controls",
            "_model_module_version": "1.5.0",
            "_model_name": "HBoxModel",
            "_view_count": null,
            "_view_module": "@jupyter-widgets/controls",
            "_view_module_version": "1.5.0",
            "_view_name": "HBoxView",
            "box_style": "",
            "children": [
              "IPY_MODEL_a7d063d2cdda4a08b2e3ffff304b58f5",
              "IPY_MODEL_dd02eb92572f40c687ba46d2cecde3c9",
              "IPY_MODEL_07675ecd4c744ad3b8408e9dab916947"
            ],
            "layout": "IPY_MODEL_ce24c59e75f1496eb6fb3def3b689bd2"
          }
        },
        "a7d063d2cdda4a08b2e3ffff304b58f5": {
          "model_module": "@jupyter-widgets/controls",
          "model_name": "HTMLModel",
          "model_module_version": "1.5.0",
          "state": {
            "_dom_classes": [],
            "_model_module": "@jupyter-widgets/controls",
            "_model_module_version": "1.5.0",
            "_model_name": "HTMLModel",
            "_view_count": null,
            "_view_module": "@jupyter-widgets/controls",
            "_view_module_version": "1.5.0",
            "_view_name": "HTMLView",
            "description": "",
            "description_tooltip": null,
            "layout": "IPY_MODEL_2d9f136895454280a018ed9ed77897cd",
            "placeholder": "​",
            "style": "IPY_MODEL_ddbf93cda67a4928beab9d786677dac0",
            "value": "Downloading (…)lve/main/config.json: 100%"
          }
        },
        "dd02eb92572f40c687ba46d2cecde3c9": {
          "model_module": "@jupyter-widgets/controls",
          "model_name": "FloatProgressModel",
          "model_module_version": "1.5.0",
          "state": {
            "_dom_classes": [],
            "_model_module": "@jupyter-widgets/controls",
            "_model_module_version": "1.5.0",
            "_model_name": "FloatProgressModel",
            "_view_count": null,
            "_view_module": "@jupyter-widgets/controls",
            "_view_module_version": "1.5.0",
            "_view_name": "ProgressView",
            "bar_style": "success",
            "description": "",
            "description_tooltip": null,
            "layout": "IPY_MODEL_b53262fe62354a2aace9e09a6b4724e3",
            "max": 454,
            "min": 0,
            "orientation": "horizontal",
            "style": "IPY_MODEL_0948562f60b94d60b56695b767977e1d",
            "value": 454
          }
        },
        "07675ecd4c744ad3b8408e9dab916947": {
          "model_module": "@jupyter-widgets/controls",
          "model_name": "HTMLModel",
          "model_module_version": "1.5.0",
          "state": {
            "_dom_classes": [],
            "_model_module": "@jupyter-widgets/controls",
            "_model_module_version": "1.5.0",
            "_model_name": "HTMLModel",
            "_view_count": null,
            "_view_module": "@jupyter-widgets/controls",
            "_view_module_version": "1.5.0",
            "_view_name": "HTMLView",
            "description": "",
            "description_tooltip": null,
            "layout": "IPY_MODEL_bd178f71bed74968a43f1301f1d059ea",
            "placeholder": "​",
            "style": "IPY_MODEL_4f4a095c10724254a3cdc766a83afbeb",
            "value": " 454/454 [00:00&lt;00:00, 18.3kB/s]"
          }
        },
        "ce24c59e75f1496eb6fb3def3b689bd2": {
          "model_module": "@jupyter-widgets/base",
          "model_name": "LayoutModel",
          "model_module_version": "1.2.0",
          "state": {
            "_model_module": "@jupyter-widgets/base",
            "_model_module_version": "1.2.0",
            "_model_name": "LayoutModel",
            "_view_count": null,
            "_view_module": "@jupyter-widgets/base",
            "_view_module_version": "1.2.0",
            "_view_name": "LayoutView",
            "align_content": null,
            "align_items": null,
            "align_self": null,
            "border": null,
            "bottom": null,
            "display": null,
            "flex": null,
            "flex_flow": null,
            "grid_area": null,
            "grid_auto_columns": null,
            "grid_auto_flow": null,
            "grid_auto_rows": null,
            "grid_column": null,
            "grid_gap": null,
            "grid_row": null,
            "grid_template_areas": null,
            "grid_template_columns": null,
            "grid_template_rows": null,
            "height": null,
            "justify_content": null,
            "justify_items": null,
            "left": null,
            "margin": null,
            "max_height": null,
            "max_width": null,
            "min_height": null,
            "min_width": null,
            "object_fit": null,
            "object_position": null,
            "order": null,
            "overflow": null,
            "overflow_x": null,
            "overflow_y": null,
            "padding": null,
            "right": null,
            "top": null,
            "visibility": null,
            "width": null
          }
        },
        "2d9f136895454280a018ed9ed77897cd": {
          "model_module": "@jupyter-widgets/base",
          "model_name": "LayoutModel",
          "model_module_version": "1.2.0",
          "state": {
            "_model_module": "@jupyter-widgets/base",
            "_model_module_version": "1.2.0",
            "_model_name": "LayoutModel",
            "_view_count": null,
            "_view_module": "@jupyter-widgets/base",
            "_view_module_version": "1.2.0",
            "_view_name": "LayoutView",
            "align_content": null,
            "align_items": null,
            "align_self": null,
            "border": null,
            "bottom": null,
            "display": null,
            "flex": null,
            "flex_flow": null,
            "grid_area": null,
            "grid_auto_columns": null,
            "grid_auto_flow": null,
            "grid_auto_rows": null,
            "grid_column": null,
            "grid_gap": null,
            "grid_row": null,
            "grid_template_areas": null,
            "grid_template_columns": null,
            "grid_template_rows": null,
            "height": null,
            "justify_content": null,
            "justify_items": null,
            "left": null,
            "margin": null,
            "max_height": null,
            "max_width": null,
            "min_height": null,
            "min_width": null,
            "object_fit": null,
            "object_position": null,
            "order": null,
            "overflow": null,
            "overflow_x": null,
            "overflow_y": null,
            "padding": null,
            "right": null,
            "top": null,
            "visibility": null,
            "width": null
          }
        },
        "ddbf93cda67a4928beab9d786677dac0": {
          "model_module": "@jupyter-widgets/controls",
          "model_name": "DescriptionStyleModel",
          "model_module_version": "1.5.0",
          "state": {
            "_model_module": "@jupyter-widgets/controls",
            "_model_module_version": "1.5.0",
            "_model_name": "DescriptionStyleModel",
            "_view_count": null,
            "_view_module": "@jupyter-widgets/base",
            "_view_module_version": "1.2.0",
            "_view_name": "StyleView",
            "description_width": ""
          }
        },
        "b53262fe62354a2aace9e09a6b4724e3": {
          "model_module": "@jupyter-widgets/base",
          "model_name": "LayoutModel",
          "model_module_version": "1.2.0",
          "state": {
            "_model_module": "@jupyter-widgets/base",
            "_model_module_version": "1.2.0",
            "_model_name": "LayoutModel",
            "_view_count": null,
            "_view_module": "@jupyter-widgets/base",
            "_view_module_version": "1.2.0",
            "_view_name": "LayoutView",
            "align_content": null,
            "align_items": null,
            "align_self": null,
            "border": null,
            "bottom": null,
            "display": null,
            "flex": null,
            "flex_flow": null,
            "grid_area": null,
            "grid_auto_columns": null,
            "grid_auto_flow": null,
            "grid_auto_rows": null,
            "grid_column": null,
            "grid_gap": null,
            "grid_row": null,
            "grid_template_areas": null,
            "grid_template_columns": null,
            "grid_template_rows": null,
            "height": null,
            "justify_content": null,
            "justify_items": null,
            "left": null,
            "margin": null,
            "max_height": null,
            "max_width": null,
            "min_height": null,
            "min_width": null,
            "object_fit": null,
            "object_position": null,
            "order": null,
            "overflow": null,
            "overflow_x": null,
            "overflow_y": null,
            "padding": null,
            "right": null,
            "top": null,
            "visibility": null,
            "width": null
          }
        },
        "0948562f60b94d60b56695b767977e1d": {
          "model_module": "@jupyter-widgets/controls",
          "model_name": "ProgressStyleModel",
          "model_module_version": "1.5.0",
          "state": {
            "_model_module": "@jupyter-widgets/controls",
            "_model_module_version": "1.5.0",
            "_model_name": "ProgressStyleModel",
            "_view_count": null,
            "_view_module": "@jupyter-widgets/base",
            "_view_module_version": "1.2.0",
            "_view_name": "StyleView",
            "bar_color": null,
            "description_width": ""
          }
        },
        "bd178f71bed74968a43f1301f1d059ea": {
          "model_module": "@jupyter-widgets/base",
          "model_name": "LayoutModel",
          "model_module_version": "1.2.0",
          "state": {
            "_model_module": "@jupyter-widgets/base",
            "_model_module_version": "1.2.0",
            "_model_name": "LayoutModel",
            "_view_count": null,
            "_view_module": "@jupyter-widgets/base",
            "_view_module_version": "1.2.0",
            "_view_name": "LayoutView",
            "align_content": null,
            "align_items": null,
            "align_self": null,
            "border": null,
            "bottom": null,
            "display": null,
            "flex": null,
            "flex_flow": null,
            "grid_area": null,
            "grid_auto_columns": null,
            "grid_auto_flow": null,
            "grid_auto_rows": null,
            "grid_column": null,
            "grid_gap": null,
            "grid_row": null,
            "grid_template_areas": null,
            "grid_template_columns": null,
            "grid_template_rows": null,
            "height": null,
            "justify_content": null,
            "justify_items": null,
            "left": null,
            "margin": null,
            "max_height": null,
            "max_width": null,
            "min_height": null,
            "min_width": null,
            "object_fit": null,
            "object_position": null,
            "order": null,
            "overflow": null,
            "overflow_x": null,
            "overflow_y": null,
            "padding": null,
            "right": null,
            "top": null,
            "visibility": null,
            "width": null
          }
        },
        "4f4a095c10724254a3cdc766a83afbeb": {
          "model_module": "@jupyter-widgets/controls",
          "model_name": "DescriptionStyleModel",
          "model_module_version": "1.5.0",
          "state": {
            "_model_module": "@jupyter-widgets/controls",
            "_model_module_version": "1.5.0",
            "_model_name": "DescriptionStyleModel",
            "_view_count": null,
            "_view_module": "@jupyter-widgets/base",
            "_view_module_version": "1.2.0",
            "_view_name": "StyleView",
            "description_width": ""
          }
        },
        "ea8552012a3d456e980a0a7f7168e64c": {
          "model_module": "@jupyter-widgets/controls",
          "model_name": "HBoxModel",
          "model_module_version": "1.5.0",
          "state": {
            "_dom_classes": [],
            "_model_module": "@jupyter-widgets/controls",
            "_model_module_version": "1.5.0",
            "_model_name": "HBoxModel",
            "_view_count": null,
            "_view_module": "@jupyter-widgets/controls",
            "_view_module_version": "1.5.0",
            "_view_name": "HBoxView",
            "box_style": "",
            "children": [
              "IPY_MODEL_1b7194f6b44e4deaa5aeee87c86ce9bc",
              "IPY_MODEL_741972e98c1e4a3890f4708b7fca73af",
              "IPY_MODEL_167e63dd666c4379b825e5b0593b6478"
            ],
            "layout": "IPY_MODEL_f354beb8572b4b3786b2ba41ce113a5b"
          }
        },
        "1b7194f6b44e4deaa5aeee87c86ce9bc": {
          "model_module": "@jupyter-widgets/controls",
          "model_name": "HTMLModel",
          "model_module_version": "1.5.0",
          "state": {
            "_dom_classes": [],
            "_model_module": "@jupyter-widgets/controls",
            "_model_module_version": "1.5.0",
            "_model_name": "HTMLModel",
            "_view_count": null,
            "_view_module": "@jupyter-widgets/controls",
            "_view_module_version": "1.5.0",
            "_view_name": "HTMLView",
            "description": "",
            "description_tooltip": null,
            "layout": "IPY_MODEL_6fb1331e90e9403881764f971968492e",
            "placeholder": "​",
            "style": "IPY_MODEL_aacedbf694a14a0baafb731be4e3a547",
            "value": "Downloading pytorch_model.bin: 100%"
          }
        },
        "741972e98c1e4a3890f4708b7fca73af": {
          "model_module": "@jupyter-widgets/controls",
          "model_name": "FloatProgressModel",
          "model_module_version": "1.5.0",
          "state": {
            "_dom_classes": [],
            "_model_module": "@jupyter-widgets/controls",
            "_model_module_version": "1.5.0",
            "_model_name": "FloatProgressModel",
            "_view_count": null,
            "_view_module": "@jupyter-widgets/controls",
            "_view_module_version": "1.5.0",
            "_view_name": "ProgressView",
            "bar_style": "success",
            "description": "",
            "description_tooltip": null,
            "layout": "IPY_MODEL_cabced839ad843e4b4271c8c63bf775f",
            "max": 343268597,
            "min": 0,
            "orientation": "horizontal",
            "style": "IPY_MODEL_7521464a02934f2b81e6a59ba2d1417d",
            "value": 343268597
          }
        },
        "167e63dd666c4379b825e5b0593b6478": {
          "model_module": "@jupyter-widgets/controls",
          "model_name": "HTMLModel",
          "model_module_version": "1.5.0",
          "state": {
            "_dom_classes": [],
            "_model_module": "@jupyter-widgets/controls",
            "_model_module_version": "1.5.0",
            "_model_name": "HTMLModel",
            "_view_count": null,
            "_view_module": "@jupyter-widgets/controls",
            "_view_module_version": "1.5.0",
            "_view_name": "HTMLView",
            "description": "",
            "description_tooltip": null,
            "layout": "IPY_MODEL_e8575266bb4a48158b16a33cf4cdd062",
            "placeholder": "​",
            "style": "IPY_MODEL_7ba7c73285d74bc3bda10977857460d5",
            "value": " 343M/343M [00:02&lt;00:00, 177MB/s]"
          }
        },
        "f354beb8572b4b3786b2ba41ce113a5b": {
          "model_module": "@jupyter-widgets/base",
          "model_name": "LayoutModel",
          "model_module_version": "1.2.0",
          "state": {
            "_model_module": "@jupyter-widgets/base",
            "_model_module_version": "1.2.0",
            "_model_name": "LayoutModel",
            "_view_count": null,
            "_view_module": "@jupyter-widgets/base",
            "_view_module_version": "1.2.0",
            "_view_name": "LayoutView",
            "align_content": null,
            "align_items": null,
            "align_self": null,
            "border": null,
            "bottom": null,
            "display": null,
            "flex": null,
            "flex_flow": null,
            "grid_area": null,
            "grid_auto_columns": null,
            "grid_auto_flow": null,
            "grid_auto_rows": null,
            "grid_column": null,
            "grid_gap": null,
            "grid_row": null,
            "grid_template_areas": null,
            "grid_template_columns": null,
            "grid_template_rows": null,
            "height": null,
            "justify_content": null,
            "justify_items": null,
            "left": null,
            "margin": null,
            "max_height": null,
            "max_width": null,
            "min_height": null,
            "min_width": null,
            "object_fit": null,
            "object_position": null,
            "order": null,
            "overflow": null,
            "overflow_x": null,
            "overflow_y": null,
            "padding": null,
            "right": null,
            "top": null,
            "visibility": null,
            "width": null
          }
        },
        "6fb1331e90e9403881764f971968492e": {
          "model_module": "@jupyter-widgets/base",
          "model_name": "LayoutModel",
          "model_module_version": "1.2.0",
          "state": {
            "_model_module": "@jupyter-widgets/base",
            "_model_module_version": "1.2.0",
            "_model_name": "LayoutModel",
            "_view_count": null,
            "_view_module": "@jupyter-widgets/base",
            "_view_module_version": "1.2.0",
            "_view_name": "LayoutView",
            "align_content": null,
            "align_items": null,
            "align_self": null,
            "border": null,
            "bottom": null,
            "display": null,
            "flex": null,
            "flex_flow": null,
            "grid_area": null,
            "grid_auto_columns": null,
            "grid_auto_flow": null,
            "grid_auto_rows": null,
            "grid_column": null,
            "grid_gap": null,
            "grid_row": null,
            "grid_template_areas": null,
            "grid_template_columns": null,
            "grid_template_rows": null,
            "height": null,
            "justify_content": null,
            "justify_items": null,
            "left": null,
            "margin": null,
            "max_height": null,
            "max_width": null,
            "min_height": null,
            "min_width": null,
            "object_fit": null,
            "object_position": null,
            "order": null,
            "overflow": null,
            "overflow_x": null,
            "overflow_y": null,
            "padding": null,
            "right": null,
            "top": null,
            "visibility": null,
            "width": null
          }
        },
        "aacedbf694a14a0baafb731be4e3a547": {
          "model_module": "@jupyter-widgets/controls",
          "model_name": "DescriptionStyleModel",
          "model_module_version": "1.5.0",
          "state": {
            "_model_module": "@jupyter-widgets/controls",
            "_model_module_version": "1.5.0",
            "_model_name": "DescriptionStyleModel",
            "_view_count": null,
            "_view_module": "@jupyter-widgets/base",
            "_view_module_version": "1.2.0",
            "_view_name": "StyleView",
            "description_width": ""
          }
        },
        "cabced839ad843e4b4271c8c63bf775f": {
          "model_module": "@jupyter-widgets/base",
          "model_name": "LayoutModel",
          "model_module_version": "1.2.0",
          "state": {
            "_model_module": "@jupyter-widgets/base",
            "_model_module_version": "1.2.0",
            "_model_name": "LayoutModel",
            "_view_count": null,
            "_view_module": "@jupyter-widgets/base",
            "_view_module_version": "1.2.0",
            "_view_name": "LayoutView",
            "align_content": null,
            "align_items": null,
            "align_self": null,
            "border": null,
            "bottom": null,
            "display": null,
            "flex": null,
            "flex_flow": null,
            "grid_area": null,
            "grid_auto_columns": null,
            "grid_auto_flow": null,
            "grid_auto_rows": null,
            "grid_column": null,
            "grid_gap": null,
            "grid_row": null,
            "grid_template_areas": null,
            "grid_template_columns": null,
            "grid_template_rows": null,
            "height": null,
            "justify_content": null,
            "justify_items": null,
            "left": null,
            "margin": null,
            "max_height": null,
            "max_width": null,
            "min_height": null,
            "min_width": null,
            "object_fit": null,
            "object_position": null,
            "order": null,
            "overflow": null,
            "overflow_x": null,
            "overflow_y": null,
            "padding": null,
            "right": null,
            "top": null,
            "visibility": null,
            "width": null
          }
        },
        "7521464a02934f2b81e6a59ba2d1417d": {
          "model_module": "@jupyter-widgets/controls",
          "model_name": "ProgressStyleModel",
          "model_module_version": "1.5.0",
          "state": {
            "_model_module": "@jupyter-widgets/controls",
            "_model_module_version": "1.5.0",
            "_model_name": "ProgressStyleModel",
            "_view_count": null,
            "_view_module": "@jupyter-widgets/base",
            "_view_module_version": "1.2.0",
            "_view_name": "StyleView",
            "bar_color": null,
            "description_width": ""
          }
        },
        "e8575266bb4a48158b16a33cf4cdd062": {
          "model_module": "@jupyter-widgets/base",
          "model_name": "LayoutModel",
          "model_module_version": "1.2.0",
          "state": {
            "_model_module": "@jupyter-widgets/base",
            "_model_module_version": "1.2.0",
            "_model_name": "LayoutModel",
            "_view_count": null,
            "_view_module": "@jupyter-widgets/base",
            "_view_module_version": "1.2.0",
            "_view_name": "LayoutView",
            "align_content": null,
            "align_items": null,
            "align_self": null,
            "border": null,
            "bottom": null,
            "display": null,
            "flex": null,
            "flex_flow": null,
            "grid_area": null,
            "grid_auto_columns": null,
            "grid_auto_flow": null,
            "grid_auto_rows": null,
            "grid_column": null,
            "grid_gap": null,
            "grid_row": null,
            "grid_template_areas": null,
            "grid_template_columns": null,
            "grid_template_rows": null,
            "height": null,
            "justify_content": null,
            "justify_items": null,
            "left": null,
            "margin": null,
            "max_height": null,
            "max_width": null,
            "min_height": null,
            "min_width": null,
            "object_fit": null,
            "object_position": null,
            "order": null,
            "overflow": null,
            "overflow_x": null,
            "overflow_y": null,
            "padding": null,
            "right": null,
            "top": null,
            "visibility": null,
            "width": null
          }
        },
        "7ba7c73285d74bc3bda10977857460d5": {
          "model_module": "@jupyter-widgets/controls",
          "model_name": "DescriptionStyleModel",
          "model_module_version": "1.5.0",
          "state": {
            "_model_module": "@jupyter-widgets/controls",
            "_model_module_version": "1.5.0",
            "_model_name": "DescriptionStyleModel",
            "_view_count": null,
            "_view_module": "@jupyter-widgets/base",
            "_view_module_version": "1.2.0",
            "_view_name": "StyleView",
            "description_width": ""
          }
        }
      }
    }
  },
  "cells": [
    {
      "cell_type": "code",
      "execution_count": 1,
      "metadata": {
        "colab": {
          "base_uri": "https://localhost:8080/"
        },
        "id": "BDo5b0y9unrc",
        "outputId": "d2b01fba-2271-4ed7-e5e3-7138c766f6f9"
      },
      "outputs": [
        {
          "output_type": "stream",
          "name": "stdout",
          "text": [
            "/content\n",
            "Cloning into 'clustering'...\n",
            "remote: Enumerating objects: 300, done.\u001b[K\n",
            "remote: Counting objects: 100% (114/114), done.\u001b[K\n",
            "remote: Compressing objects: 100% (82/82), done.\u001b[K\n",
            "remote: Total 300 (delta 73), reused 72 (delta 32), pack-reused 186\u001b[K\n",
            "Receiving objects: 100% (300/300), 21.54 MiB | 15.87 MiB/s, done.\n",
            "Resolving deltas: 100% (187/187), done.\n",
            "/content/clustering\n",
            "total 72\n",
            "4 drwxr-xr-x 5 root root 4096 May 18 11:52 \u001b[0m\u001b[01;34m.\u001b[0m/\n",
            "4 drwxr-xr-x 1 root root 4096 May 18 11:52 \u001b[01;34m..\u001b[0m/\n",
            "8 -rw-r--r-- 1 root root 4916 May 18 11:52 clustering.py\n",
            "4 drwxr-xr-x 2 root root 4096 May 18 11:52 \u001b[01;34mdata\u001b[0m/\n",
            "4 -rw-r--r-- 1 root root 2744 May 18 11:52 evaluate.py\n",
            "8 -rw-r--r-- 1 root root 4191 May 18 11:52 extractor.py\n",
            "4 drwxr-xr-x 8 root root 4096 May 18 11:52 \u001b[01;34m.git\u001b[0m/\n",
            "4 -rw-r--r-- 1 root root 3199 May 18 11:52 .gitignore\n",
            "4 -rw-r--r-- 1 root root  569 May 18 11:52 infer.sh\n",
            "4 -rw-r--r-- 1 root root 1074 May 18 11:52 LICENSE\n",
            "4 drwxr-xr-x 2 root root 4096 May 18 11:52 \u001b[01;34mmodel\u001b[0m/\n",
            "4 -rw-r--r-- 1 root root  694 May 18 11:52 preprocess.sh\n",
            "4 -rw-r--r-- 1 root root   17 May 18 11:52 README.md\n",
            "4 -rw-r--r-- 1 root root 2341 May 18 11:52 requirements.txt\n",
            "8 -rw-r--r-- 1 root root 6870 May 18 11:52 visualizer.py\n"
          ]
        }
      ],
      "source": [
        "%cd /content\n",
        "%rm -rf /content/clustering\n",
        "!git clone https://github.com/hcmus-thesis-gulu/dino-clustering.git clustering\n",
        "%cd /content/clustering\n",
        "%ls -sla"
      ]
    },
    {
      "cell_type": "code",
      "source": [
        "%cd /content/clustering/data\n",
        "!sh download_summe.sh"
      ],
      "metadata": {
        "colab": {
          "base_uri": "https://localhost:8080/"
        },
        "id": "fmLsWym0u1Tv",
        "outputId": "37686ab9-2407-4fee-b378-91affba8b208"
      },
      "execution_count": 2,
      "outputs": [
        {
          "output_type": "stream",
          "name": "stdout",
          "text": [
            "/content/clustering/data\n",
            "--2023-05-18 11:52:35--  https://data.vision.ee.ethz.ch/cvl/SumMe/SumMe.zip\n",
            "Resolving data.vision.ee.ethz.ch (data.vision.ee.ethz.ch)... 129.132.52.178, 2001:67c:10ec:36c2::178\n",
            "Connecting to data.vision.ee.ethz.ch (data.vision.ee.ethz.ch)|129.132.52.178|:443... connected.\n",
            "HTTP request sent, awaiting response... 200 OK\n",
            "Length: 2396688224 (2.2G) [application/zip]\n",
            "Saving to: ‘SumMe.zip’\n",
            "\n",
            "SumMe.zip           100%[===================>]   2.23G  19.0MB/s    in 2m 7s   \n",
            "\n",
            "2023-05-18 11:54:43 (18.1 MB/s) - ‘SumMe.zip’ saved [2396688224/2396688224]\n",
            "\n",
            "Archive:  SumMe.zip\n",
            "   creating: GT/\n",
            "  inflating: GT/Air_Force_One.mat    \n",
            "  inflating: GT/Base jumping.mat     \n",
            "  inflating: GT/Bearpark_climbing.mat  \n",
            "  inflating: GT/Bike Polo.mat        \n",
            "  inflating: GT/Bus_in_Rock_Tunnel.mat  \n",
            "  inflating: GT/Car_railcrossing.mat  \n",
            "  inflating: GT/Cockpit_Landing.mat  \n",
            "  inflating: GT/Cooking.mat          \n",
            "  inflating: GT/Eiffel Tower.mat     \n",
            "  inflating: GT/Excavators river crossing.mat  \n",
            "  inflating: GT/Fire Domino.mat      \n",
            "  inflating: GT/Jumps.mat            \n",
            "  inflating: GT/Kids_playing_in_leaves.mat  \n",
            "  inflating: GT/Notre_Dame.mat       \n",
            "  inflating: GT/Paintball.mat        \n",
            "  inflating: GT/Playing_on_water_slide.mat  \n",
            "  inflating: GT/Saving dolphines.mat  \n",
            "  inflating: GT/Scuba.mat            \n",
            "  inflating: GT/St Maarten Landing.mat  \n",
            "  inflating: GT/Statue of Liberty.mat  \n",
            "  inflating: GT/Uncut_Evening_Flight.mat  \n",
            "  inflating: GT/Valparaiso_Downhill.mat  \n",
            "  inflating: GT/car_over_camera.mat  \n",
            "  inflating: GT/paluma_jump.mat      \n",
            "  inflating: GT/playing_ball.mat     \n",
            "  inflating: README.txt              \n",
            "  inflating: demo.m                  \n",
            "   creating: matlab/\n",
            "  inflating: matlab/summe_evaluateIOU.m  \n",
            "  inflating: matlab/summe_evaluateSummary.m  \n",
            "  inflating: matlab/summe_evaluateSummary.m~  \n",
            "  inflating: matlab/summe_plotAllResults.m  \n",
            "   creating: python/\n",
            "  inflating: python/demo.py          \n",
            "  inflating: python/demo.py~         \n",
            "  inflating: python/summe.py         \n",
            "  inflating: python/summe.py~        \n",
            "   creating: videos/\n",
            "  inflating: videos/.htaccess        \n",
            "  inflating: videos/Air_Force_One.mp4  \n",
            "  inflating: videos/Air_Force_One.webm  \n",
            "  inflating: videos/Base jumping.mp4  \n",
            " extracting: videos/Base jumping.webm  \n",
            "  inflating: videos/Bearpark_climbing.mp4  \n",
            "  inflating: videos/Bearpark_climbing.webm  \n",
            "  inflating: videos/Bike Polo.mp4    \n",
            " extracting: videos/Bike Polo.webm   \n",
            "  inflating: videos/Bus_in_Rock_Tunnel.mp4  \n",
            "  inflating: videos/Bus_in_Rock_Tunnel.webm  \n",
            "  inflating: videos/Car_railcrossing.mp4  \n",
            "  inflating: videos/Car_railcrossing.webm  \n",
            "  inflating: videos/Cockpit_Landing.mp4  \n",
            "  inflating: videos/Cockpit_Landing.webm  \n",
            "  inflating: videos/Cooking.mp4      \n",
            "  inflating: videos/Cooking.webm     \n",
            "  inflating: videos/Eiffel Tower.mp4  \n",
            "  inflating: videos/Eiffel Tower.webm  \n",
            "  inflating: videos/Excavators river crossing.mp4  \n",
            "  inflating: videos/Excavators river crossing.webm  \n",
            "  inflating: videos/Fire Domino.mp4  \n",
            "  inflating: videos/Fire Domino.webm  \n",
            "  inflating: videos/Jumps.mp4        \n",
            "  inflating: videos/Jumps.webm       \n",
            "  inflating: videos/Kids_playing_in_leaves.mp4  \n",
            "  inflating: videos/Kids_playing_in_leaves.webm  \n",
            "  inflating: videos/Notre_Dame.mp4   \n",
            "  inflating: videos/Notre_Dame.webm  \n",
            "  inflating: videos/Paintball.mp4    \n",
            "  inflating: videos/Paintball.webm   \n",
            "  inflating: videos/Playing_on_water_slide.mp4  \n",
            "  inflating: videos/Playing_on_water_slide.webm  \n",
            "  inflating: videos/Saving dolphines.mp4  \n",
            "  inflating: videos/Saving dolphines.webm  \n",
            "  inflating: videos/Scuba.mp4        \n",
            " extracting: videos/Scuba.webm       \n",
            "  inflating: videos/St Maarten Landing.mp4  \n",
            " extracting: videos/St Maarten Landing.webm  \n",
            "  inflating: videos/Statue of Liberty.mp4  \n",
            " extracting: videos/Statue of Liberty.webm  \n",
            "  inflating: videos/Uncut_Evening_Flight.mp4  \n",
            "  inflating: videos/Uncut_Evening_Flight.webm  \n",
            "  inflating: videos/Valparaiso_Downhill.mp4  \n",
            "  inflating: videos/Valparaiso_Downhill.webm  \n",
            "  inflating: videos/car_over_camera.mp4  \n",
            "  inflating: videos/car_over_camera.webm  \n",
            "  inflating: videos/paluma_jump.mp4  \n",
            "  inflating: videos/paluma_jump.webm  \n",
            "  inflating: videos/playing_ball.mp4  \n",
            "  inflating: videos/playing_ball.webm  \n",
            "  inflating: videos/videos2frames.sh~  \n",
            "download_summe.sh: 7: cd: can't cd to SumMe/videos\n",
            "mv: cannot move 'GT' to a subdirectory of itself, 'GT/GT'\n",
            "mv: 'README.txt' and 'README.txt' are the same file\n",
            "mv: 'demo.m' and 'demo.m' are the same file\n",
            "mv: 'download_summe.sh' and 'download_summe.sh' are the same file\n",
            "mv: 'eccv16_dataset_summe_google_pool5.h5' and 'eccv16_dataset_summe_google_pool5.h5' are the same file\n",
            "mv: cannot move 'matlab' to a subdirectory of itself, 'matlab/matlab'\n",
            "mv: cannot move 'python' to a subdirectory of itself, 'python/python'\n",
            "mv: cannot move 'videos' to a subdirectory of itself, 'videos/videos'\n",
            "download_summe.sh: 10: cd: can't cd to ../GT\n",
            "mv: cannot move 'GT' to a subdirectory of itself, 'GT/GT'\n",
            "mv: 'README.txt' and 'README.txt' are the same file\n",
            "mv: 'demo.m' and 'demo.m' are the same file\n",
            "mv: 'download_summe.sh' and 'download_summe.sh' are the same file\n",
            "mv: 'eccv16_dataset_summe_google_pool5.h5' and 'eccv16_dataset_summe_google_pool5.h5' are the same file\n",
            "mv: cannot move 'matlab' to a subdirectory of itself, 'matlab/matlab'\n",
            "mv: cannot move 'python' to a subdirectory of itself, 'python/python'\n",
            "mv: cannot move 'videos' to a subdirectory of itself, 'videos/videos'\n"
          ]
        }
      ]
    },
    {
      "cell_type": "code",
      "source": [
        "%cd /content/clustering\n",
        "!git fetch origin\n",
        "!git reset --hard origin/main"
      ],
      "metadata": {
        "colab": {
          "base_uri": "https://localhost:8080/"
        },
        "id": "PVNo9_oKzY6S",
        "outputId": "d85aaa0f-09ea-49af-c569-748eb4186184"
      },
      "execution_count": 1,
      "outputs": [
        {
          "output_type": "stream",
          "name": "stdout",
          "text": [
            "/content/clustering\n",
            "remote: Enumerating objects: 5, done.\u001b[K\n",
            "remote: Counting objects: 100% (5/5), done.\u001b[K\n",
            "remote: Compressing objects: 100% (1/1), done.\u001b[K\n",
            "remote: Total 3 (delta 2), reused 3 (delta 2), pack-reused 0\u001b[K\n",
            "Unpacking objects: 100% (3/3), 352 bytes | 352.00 KiB/s, done.\n",
            "From https://github.com/hcmus-thesis-gulu/dino-clustering\n",
            "   6b38f88..f0e85d1  main       -> origin/main\n",
            "HEAD is now at f0e85d1 Adjusted pad\n"
          ]
        }
      ]
    },
    {
      "cell_type": "code",
      "source": [
        "%cd /content/clustering\n",
        "%pip install -r requirements.txt"
      ],
      "metadata": {
        "colab": {
          "base_uri": "https://localhost:8080/",
          "height": 1000
        },
        "id": "P-8_KiVXxbHO",
        "outputId": "140d3c67-1512-46b7-956e-f5e56ba9f103"
      },
      "execution_count": 4,
      "outputs": [
        {
          "output_type": "stream",
          "name": "stdout",
          "text": [
            "/content/clustering\n",
            "Looking in indexes: https://pypi.org/simple, https://us-python.pkg.dev/colab-wheels/public/simple/\n",
            "Collecting certifi==2023.5.7 (from -r requirements.txt (line 1))\n",
            "  Downloading certifi-2023.5.7-py3-none-any.whl (156 kB)\n",
            "\u001b[2K     \u001b[90m━━━━━━━━━━━━━━━━━━━━━━━━━━━━━━━━━━━━━━━\u001b[0m \u001b[32m157.0/157.0 kB\u001b[0m \u001b[31m3.5 MB/s\u001b[0m eta \u001b[36m0:00:00\u001b[0m\n",
            "\u001b[?25hCollecting charset-normalizer==3.1.0 (from -r requirements.txt (line 2))\n",
            "  Downloading charset_normalizer-3.1.0-cp310-cp310-manylinux_2_17_x86_64.manylinux2014_x86_64.whl (199 kB)\n",
            "\u001b[2K     \u001b[90m━━━━━━━━━━━━━━━━━━━━━━━━━━━━━━━━━━━━━━━\u001b[0m \u001b[32m199.3/199.3 kB\u001b[0m \u001b[31m9.9 MB/s\u001b[0m eta \u001b[36m0:00:00\u001b[0m\n",
            "\u001b[?25hCollecting ffmpeg==1.4 (from -r requirements.txt (line 3))\n",
            "  Downloading ffmpeg-1.4.tar.gz (5.1 kB)\n",
            "  Preparing metadata (setup.py) ... \u001b[?25l\u001b[?25hdone\n",
            "Requirement already satisfied: filelock==3.12.0 in /usr/local/lib/python3.10/dist-packages (from -r requirements.txt (line 4)) (3.12.0)\n",
            "Collecting fsspec==2023.5.0 (from -r requirements.txt (line 5))\n",
            "  Downloading fsspec-2023.5.0-py3-none-any.whl (160 kB)\n",
            "\u001b[2K     \u001b[90m━━━━━━━━━━━━━━━━━━━━━━━━━━━━━━━━━━━━━━\u001b[0m \u001b[32m160.1/160.1 kB\u001b[0m \u001b[31m17.4 MB/s\u001b[0m eta \u001b[36m0:00:00\u001b[0m\n",
            "\u001b[?25hCollecting huggingface-hub==0.14.1 (from -r requirements.txt (line 6))\n",
            "  Downloading huggingface_hub-0.14.1-py3-none-any.whl (224 kB)\n",
            "\u001b[2K     \u001b[90m━━━━━━━━━━━━━━━━━━━━━━━━━━━━━━━━━━━━━━\u001b[0m \u001b[32m224.5/224.5 kB\u001b[0m \u001b[31m22.5 MB/s\u001b[0m eta \u001b[36m0:00:00\u001b[0m\n",
            "\u001b[?25hRequirement already satisfied: idna==3.4 in /usr/local/lib/python3.10/dist-packages (from -r requirements.txt (line 7)) (3.4)\n",
            "Requirement already satisfied: Jinja2==3.1.2 in /usr/local/lib/python3.10/dist-packages (from -r requirements.txt (line 8)) (3.1.2)\n",
            "Requirement already satisfied: joblib==1.2.0 in /usr/local/lib/python3.10/dist-packages (from -r requirements.txt (line 9)) (1.2.0)\n",
            "Requirement already satisfied: MarkupSafe==2.1.2 in /usr/local/lib/python3.10/dist-packages (from -r requirements.txt (line 10)) (2.1.2)\n",
            "Requirement already satisfied: mpmath==1.3.0 in /usr/local/lib/python3.10/dist-packages (from -r requirements.txt (line 11)) (1.3.0)\n",
            "Requirement already satisfied: networkx==3.1 in /usr/local/lib/python3.10/dist-packages (from -r requirements.txt (line 12)) (3.1)\n",
            "Collecting numpy==1.24.3 (from -r requirements.txt (line 13))\n",
            "  Downloading numpy-1.24.3-cp310-cp310-manylinux_2_17_x86_64.manylinux2014_x86_64.whl (17.3 MB)\n",
            "\u001b[2K     \u001b[90m━━━━━━━━━━━━━━━━━━━━━━━━━━━━━━━━━━━━━━━━\u001b[0m \u001b[32m17.3/17.3 MB\u001b[0m \u001b[31m32.6 MB/s\u001b[0m eta \u001b[36m0:00:00\u001b[0m\n",
            "\u001b[?25hRequirement already satisfied: opencv-python==4.7.0.72 in /usr/local/lib/python3.10/dist-packages (from -r requirements.txt (line 14)) (4.7.0.72)\n",
            "Requirement already satisfied: packaging==23.1 in /usr/local/lib/python3.10/dist-packages (from -r requirements.txt (line 15)) (23.1)\n",
            "Collecting Pillow==9.5.0 (from -r requirements.txt (line 16))\n",
            "  Downloading Pillow-9.5.0-cp310-cp310-manylinux_2_28_x86_64.whl (3.4 MB)\n",
            "\u001b[2K     \u001b[90m━━━━━━━━━━━━━━━━━━━━━━━━━━━━━━━━━━━━━━━━\u001b[0m \u001b[32m3.4/3.4 MB\u001b[0m \u001b[31m86.4 MB/s\u001b[0m eta \u001b[36m0:00:00\u001b[0m\n",
            "\u001b[?25hRequirement already satisfied: PyYAML==6.0 in /usr/local/lib/python3.10/dist-packages (from -r requirements.txt (line 17)) (6.0)\n",
            "Collecting regex==2023.5.5 (from -r requirements.txt (line 18))\n",
            "  Downloading regex-2023.5.5-cp310-cp310-manylinux_2_17_x86_64.manylinux2014_x86_64.whl (769 kB)\n",
            "\u001b[2K     \u001b[90m━━━━━━━━━━━━━━━━━━━━━━━━━━━━━━━━━━━━━━\u001b[0m \u001b[32m769.7/769.7 kB\u001b[0m \u001b[31m59.4 MB/s\u001b[0m eta \u001b[36m0:00:00\u001b[0m\n",
            "\u001b[?25hCollecting requests==2.30.0 (from -r requirements.txt (line 19))\n",
            "  Downloading requests-2.30.0-py3-none-any.whl (62 kB)\n",
            "\u001b[2K     \u001b[90m━━━━━━━━━━━━━━━━━━━━━━━━━━━━━━━━━━━━━━━━\u001b[0m \u001b[32m62.5/62.5 kB\u001b[0m \u001b[31m9.4 MB/s\u001b[0m eta \u001b[36m0:00:00\u001b[0m\n",
            "\u001b[?25hRequirement already satisfied: scikit-learn==1.2.2 in /usr/local/lib/python3.10/dist-packages (from -r requirements.txt (line 20)) (1.2.2)\n",
            "Requirement already satisfied: scipy==1.10.1 in /usr/local/lib/python3.10/dist-packages (from -r requirements.txt (line 21)) (1.10.1)\n",
            "Collecting sympy==1.12 (from -r requirements.txt (line 22))\n",
            "  Downloading sympy-1.12-py3-none-any.whl (5.7 MB)\n",
            "\u001b[2K     \u001b[90m━━━━━━━━━━━━━━━━━━━━━━━━━━━━━━━━━━━━━━━━\u001b[0m \u001b[32m5.7/5.7 MB\u001b[0m \u001b[31m97.5 MB/s\u001b[0m eta \u001b[36m0:00:00\u001b[0m\n",
            "\u001b[?25hRequirement already satisfied: threadpoolctl==3.1.0 in /usr/local/lib/python3.10/dist-packages (from -r requirements.txt (line 23)) (3.1.0)\n",
            "Collecting tokenizers==0.13.3 (from -r requirements.txt (line 24))\n",
            "  Downloading tokenizers-0.13.3-cp310-cp310-manylinux_2_17_x86_64.manylinux2014_x86_64.whl (7.8 MB)\n",
            "\u001b[2K     \u001b[90m━━━━━━━━━━━━━━━━━━━━━━━━━━━━━━━━━━━━━━━━\u001b[0m \u001b[32m7.8/7.8 MB\u001b[0m \u001b[31m104.6 MB/s\u001b[0m eta \u001b[36m0:00:00\u001b[0m\n",
            "\u001b[?25hCollecting torch==2.0.1 (from -r requirements.txt (line 25))\n",
            "  Downloading torch-2.0.1-cp310-cp310-manylinux1_x86_64.whl (619.9 MB)\n",
            "\u001b[2K     \u001b[90m━━━━━━━━━━━━━━━━━━━━━━━━━━━━━━━━━━━━━━━\u001b[0m \u001b[32m619.9/619.9 MB\u001b[0m \u001b[31m2.0 MB/s\u001b[0m eta \u001b[36m0:00:00\u001b[0m\n",
            "\u001b[?25hCollecting torchvision==0.15.2 (from -r requirements.txt (line 26))\n",
            "  Downloading torchvision-0.15.2-cp310-cp310-manylinux1_x86_64.whl (6.0 MB)\n",
            "\u001b[2K     \u001b[90m━━━━━━━━━━━━━━━━━━━━━━━━━━━━━━━━━━━━━━━━\u001b[0m \u001b[32m6.0/6.0 MB\u001b[0m \u001b[31m97.6 MB/s\u001b[0m eta \u001b[36m0:00:00\u001b[0m\n",
            "\u001b[?25hRequirement already satisfied: tqdm==4.65.0 in /usr/local/lib/python3.10/dist-packages (from -r requirements.txt (line 27)) (4.65.0)\n",
            "Collecting transformers==4.29.1 (from -r requirements.txt (line 28))\n",
            "  Downloading transformers-4.29.1-py3-none-any.whl (7.1 MB)\n",
            "\u001b[2K     \u001b[90m━━━━━━━━━━━━━━━━━━━━━━━━━━━━━━━━━━━━━━━━\u001b[0m \u001b[32m7.1/7.1 MB\u001b[0m \u001b[31m103.3 MB/s\u001b[0m eta \u001b[36m0:00:00\u001b[0m\n",
            "\u001b[?25hRequirement already satisfied: typing_extensions==4.5.0 in /usr/local/lib/python3.10/dist-packages (from -r requirements.txt (line 29)) (4.5.0)\n",
            "Collecting urllib3==2.0.2 (from -r requirements.txt (line 30))\n",
            "  Downloading urllib3-2.0.2-py3-none-any.whl (123 kB)\n",
            "\u001b[2K     \u001b[90m━━━━━━━━━━━━━━━━━━━━━━━━━━━━━━━━━━━━━━\u001b[0m \u001b[32m123.2/123.2 kB\u001b[0m \u001b[31m15.8 MB/s\u001b[0m eta \u001b[36m0:00:00\u001b[0m\n",
            "\u001b[?25hRequirement already satisfied: opencv-python-headless==4.7.0.72 in /usr/local/lib/python3.10/dist-packages (from -r requirements.txt (line 45)) (4.7.0.72)\n",
            "Collecting pydub==0.25.1 (from -r requirements.txt (line 48))\n",
            "  Downloading pydub-0.25.1-py2.py3-none-any.whl (32 kB)\n",
            "Collecting sk-video==1.1.10 (from -r requirements.txt (line 86))\n",
            "  Downloading sk_video-1.1.10-py2.py3-none-any.whl (2.3 MB)\n",
            "\u001b[2K     \u001b[90m━━━━━━━━━━━━━━━━━━━━━━━━━━━━━━━━━━━━━━━━\u001b[0m \u001b[32m2.3/2.3 MB\u001b[0m \u001b[31m97.3 MB/s\u001b[0m eta \u001b[36m0:00:00\u001b[0m\n",
            "\u001b[?25hRequirement already satisfied: contourpy==1.0.7 in /usr/local/lib/python3.10/dist-packages (from -r requirements.txt (line 98)) (1.0.7)\n",
            "Requirement already satisfied: cycler==0.11.0 in /usr/local/lib/python3.10/dist-packages (from -r requirements.txt (line 99)) (0.11.0)\n",
            "Collecting fonttools==4.39.4 (from -r requirements.txt (line 102))\n",
            "  Downloading fonttools-4.39.4-py3-none-any.whl (1.0 MB)\n",
            "\u001b[2K     \u001b[90m━━━━━━━━━━━━━━━━━━━━━━━━━━━━━━━━━━━━━━━━\u001b[0m \u001b[32m1.0/1.0 MB\u001b[0m \u001b[31m66.5 MB/s\u001b[0m eta \u001b[36m0:00:00\u001b[0m\n",
            "\u001b[?25hRequirement already satisfied: h5py==3.8.0 in /usr/local/lib/python3.10/dist-packages (from -r requirements.txt (line 104)) (3.8.0)\n",
            "Requirement already satisfied: kiwisolver==1.4.4 in /usr/local/lib/python3.10/dist-packages (from -r requirements.txt (line 109)) (1.4.4)\n",
            "Requirement already satisfied: matplotlib==3.7.1 in /usr/local/lib/python3.10/dist-packages (from -r requirements.txt (line 111)) (3.7.1)\n",
            "Requirement already satisfied: pyparsing==3.0.9 in /usr/local/lib/python3.10/dist-packages (from -r requirements.txt (line 120)) (3.0.9)\n",
            "Requirement already satisfied: python-dateutil==2.8.2 in /usr/local/lib/python3.10/dist-packages (from -r requirements.txt (line 121)) (2.8.2)\n",
            "Requirement already satisfied: six==1.16.0 in /usr/local/lib/python3.10/dist-packages (from -r requirements.txt (line 127)) (1.16.0)\n",
            "Collecting nvidia-cuda-nvrtc-cu11==11.7.99 (from torch==2.0.1->-r requirements.txt (line 25))\n",
            "  Downloading nvidia_cuda_nvrtc_cu11-11.7.99-2-py3-none-manylinux1_x86_64.whl (21.0 MB)\n",
            "\u001b[2K     \u001b[90m━━━━━━━━━━━━━━━━━━━━━━━━━━━━━━━━━━━━━━━━\u001b[0m \u001b[32m21.0/21.0 MB\u001b[0m \u001b[31m69.2 MB/s\u001b[0m eta \u001b[36m0:00:00\u001b[0m\n",
            "\u001b[?25hCollecting nvidia-cuda-runtime-cu11==11.7.99 (from torch==2.0.1->-r requirements.txt (line 25))\n",
            "  Downloading nvidia_cuda_runtime_cu11-11.7.99-py3-none-manylinux1_x86_64.whl (849 kB)\n",
            "\u001b[2K     \u001b[90m━━━━━━━━━━━━━━━━━━━━━━━━━━━━━━━━━━━━━━\u001b[0m \u001b[32m849.3/849.3 kB\u001b[0m \u001b[31m64.2 MB/s\u001b[0m eta \u001b[36m0:00:00\u001b[0m\n",
            "\u001b[?25hCollecting nvidia-cuda-cupti-cu11==11.7.101 (from torch==2.0.1->-r requirements.txt (line 25))\n",
            "  Downloading nvidia_cuda_cupti_cu11-11.7.101-py3-none-manylinux1_x86_64.whl (11.8 MB)\n",
            "\u001b[2K     \u001b[90m━━━━━━━━━━━━━━━━━━━━━━━━━━━━━━━━━━━━━━━━\u001b[0m \u001b[32m11.8/11.8 MB\u001b[0m \u001b[31m92.8 MB/s\u001b[0m eta \u001b[36m0:00:00\u001b[0m\n",
            "\u001b[?25hCollecting nvidia-cudnn-cu11==8.5.0.96 (from torch==2.0.1->-r requirements.txt (line 25))\n",
            "  Downloading nvidia_cudnn_cu11-8.5.0.96-2-py3-none-manylinux1_x86_64.whl (557.1 MB)\n",
            "\u001b[2K     \u001b[90m━━━━━━━━━━━━━━━━━━━━━━━━━━━━━━━━━━━━━━━\u001b[0m \u001b[32m557.1/557.1 MB\u001b[0m \u001b[31m1.4 MB/s\u001b[0m eta \u001b[36m0:00:00\u001b[0m\n",
            "\u001b[?25hCollecting nvidia-cublas-cu11==11.10.3.66 (from torch==2.0.1->-r requirements.txt (line 25))\n",
            "  Downloading nvidia_cublas_cu11-11.10.3.66-py3-none-manylinux1_x86_64.whl (317.1 MB)\n",
            "\u001b[2K     \u001b[90m━━━━━━━━━━━━━━━━━━━━━━━━━━━━━━━━━━━━━━━\u001b[0m \u001b[32m317.1/317.1 MB\u001b[0m \u001b[31m2.6 MB/s\u001b[0m eta \u001b[36m0:00:00\u001b[0m\n",
            "\u001b[?25hCollecting nvidia-cufft-cu11==10.9.0.58 (from torch==2.0.1->-r requirements.txt (line 25))\n",
            "  Downloading nvidia_cufft_cu11-10.9.0.58-py3-none-manylinux1_x86_64.whl (168.4 MB)\n",
            "\u001b[2K     \u001b[90m━━━━━━━━━━━━━━━━━━━━━━━━━━━━━━━━━━━━━━━\u001b[0m \u001b[32m168.4/168.4 MB\u001b[0m \u001b[31m7.0 MB/s\u001b[0m eta \u001b[36m0:00:00\u001b[0m\n",
            "\u001b[?25hCollecting nvidia-curand-cu11==10.2.10.91 (from torch==2.0.1->-r requirements.txt (line 25))\n",
            "  Downloading nvidia_curand_cu11-10.2.10.91-py3-none-manylinux1_x86_64.whl (54.6 MB)\n",
            "\u001b[2K     \u001b[90m━━━━━━━━━━━━━━━━━━━━━━━━━━━━━━━━━━━━━━━━\u001b[0m \u001b[32m54.6/54.6 MB\u001b[0m \u001b[31m11.9 MB/s\u001b[0m eta \u001b[36m0:00:00\u001b[0m\n",
            "\u001b[?25hCollecting nvidia-cusolver-cu11==11.4.0.1 (from torch==2.0.1->-r requirements.txt (line 25))\n",
            "  Downloading nvidia_cusolver_cu11-11.4.0.1-2-py3-none-manylinux1_x86_64.whl (102.6 MB)\n",
            "\u001b[2K     \u001b[90m━━━━━━━━━━━━━━━━━━━━━━━━━━━━━━━━━━━━━━━\u001b[0m \u001b[32m102.6/102.6 MB\u001b[0m \u001b[31m8.8 MB/s\u001b[0m eta \u001b[36m0:00:00\u001b[0m\n",
            "\u001b[?25hCollecting nvidia-cusparse-cu11==11.7.4.91 (from torch==2.0.1->-r requirements.txt (line 25))\n",
            "  Downloading nvidia_cusparse_cu11-11.7.4.91-py3-none-manylinux1_x86_64.whl (173.2 MB)\n",
            "\u001b[2K     \u001b[90m━━━━━━━━━━━━━━━━━━━━━━━━━━━━━━━━━━━━━━━\u001b[0m \u001b[32m173.2/173.2 MB\u001b[0m \u001b[31m2.3 MB/s\u001b[0m eta \u001b[36m0:00:00\u001b[0m\n",
            "\u001b[?25hCollecting nvidia-nccl-cu11==2.14.3 (from torch==2.0.1->-r requirements.txt (line 25))\n",
            "  Downloading nvidia_nccl_cu11-2.14.3-py3-none-manylinux1_x86_64.whl (177.1 MB)\n",
            "\u001b[2K     \u001b[90m━━━━━━━━━━━━━━━━━━━━━━━━━━━━━━━━━━━━━━━\u001b[0m \u001b[32m177.1/177.1 MB\u001b[0m \u001b[31m4.8 MB/s\u001b[0m eta \u001b[36m0:00:00\u001b[0m\n",
            "\u001b[?25hCollecting nvidia-nvtx-cu11==11.7.91 (from torch==2.0.1->-r requirements.txt (line 25))\n",
            "  Downloading nvidia_nvtx_cu11-11.7.91-py3-none-manylinux1_x86_64.whl (98 kB)\n",
            "\u001b[2K     \u001b[90m━━━━━━━━━━━━━━━━━━━━━━━━━━━━━━━━━━━━━━━━\u001b[0m \u001b[32m98.6/98.6 kB\u001b[0m \u001b[31m12.9 MB/s\u001b[0m eta \u001b[36m0:00:00\u001b[0m\n",
            "\u001b[?25hRequirement already satisfied: triton==2.0.0 in /usr/local/lib/python3.10/dist-packages (from torch==2.0.1->-r requirements.txt (line 25)) (2.0.0)\n",
            "Requirement already satisfied: setuptools in /usr/local/lib/python3.10/dist-packages (from nvidia-cublas-cu11==11.10.3.66->torch==2.0.1->-r requirements.txt (line 25)) (67.7.2)\n",
            "Requirement already satisfied: wheel in /usr/local/lib/python3.10/dist-packages (from nvidia-cublas-cu11==11.10.3.66->torch==2.0.1->-r requirements.txt (line 25)) (0.40.0)\n",
            "Requirement already satisfied: cmake in /usr/local/lib/python3.10/dist-packages (from triton==2.0.0->torch==2.0.1->-r requirements.txt (line 25)) (3.25.2)\n",
            "Requirement already satisfied: lit in /usr/local/lib/python3.10/dist-packages (from triton==2.0.0->torch==2.0.1->-r requirements.txt (line 25)) (16.0.3)\n",
            "Building wheels for collected packages: ffmpeg\n",
            "  Building wheel for ffmpeg (setup.py) ... \u001b[?25l\u001b[?25hdone\n",
            "  Created wheel for ffmpeg: filename=ffmpeg-1.4-py3-none-any.whl size=6083 sha256=33faeeed6b3eec2c50901b4ef35d3f019602be1081165bef32640f17933eea5b\n",
            "  Stored in directory: /root/.cache/pip/wheels/8e/7a/69/cd6aeb83b126a7f04cbe7c9d929028dc52a6e7d525ff56003a\n",
            "Successfully built ffmpeg\n",
            "Installing collected packages: tokenizers, pydub, ffmpeg, urllib3, sympy, regex, Pillow, nvidia-nvtx-cu11, nvidia-nccl-cu11, nvidia-cusparse-cu11, nvidia-curand-cu11, nvidia-cufft-cu11, nvidia-cuda-runtime-cu11, nvidia-cuda-nvrtc-cu11, nvidia-cuda-cupti-cu11, nvidia-cublas-cu11, numpy, fsspec, fonttools, charset-normalizer, certifi, requests, nvidia-cusolver-cu11, nvidia-cudnn-cu11, sk-video, huggingface-hub, transformers, torch, torchvision\n",
            "  Attempting uninstall: urllib3\n",
            "    Found existing installation: urllib3 1.26.15\n",
            "    Uninstalling urllib3-1.26.15:\n",
            "      Successfully uninstalled urllib3-1.26.15\n",
            "  Attempting uninstall: sympy\n",
            "    Found existing installation: sympy 1.11.1\n",
            "    Uninstalling sympy-1.11.1:\n",
            "      Successfully uninstalled sympy-1.11.1\n",
            "  Attempting uninstall: regex\n",
            "    Found existing installation: regex 2022.10.31\n",
            "    Uninstalling regex-2022.10.31:\n",
            "      Successfully uninstalled regex-2022.10.31\n",
            "  Attempting uninstall: Pillow\n",
            "    Found existing installation: Pillow 8.4.0\n",
            "    Uninstalling Pillow-8.4.0:\n",
            "      Successfully uninstalled Pillow-8.4.0\n",
            "  Attempting uninstall: numpy\n",
            "    Found existing installation: numpy 1.22.4\n",
            "    Uninstalling numpy-1.22.4:\n",
            "      Successfully uninstalled numpy-1.22.4\n",
            "  Attempting uninstall: fsspec\n",
            "    Found existing installation: fsspec 2023.4.0\n",
            "    Uninstalling fsspec-2023.4.0:\n",
            "      Successfully uninstalled fsspec-2023.4.0\n",
            "  Attempting uninstall: fonttools\n",
            "    Found existing installation: fonttools 4.39.3\n",
            "    Uninstalling fonttools-4.39.3:\n",
            "      Successfully uninstalled fonttools-4.39.3\n",
            "  Attempting uninstall: charset-normalizer\n",
            "    Found existing installation: charset-normalizer 2.0.12\n",
            "    Uninstalling charset-normalizer-2.0.12:\n",
            "      Successfully uninstalled charset-normalizer-2.0.12\n",
            "  Attempting uninstall: certifi\n",
            "    Found existing installation: certifi 2022.12.7\n",
            "    Uninstalling certifi-2022.12.7:\n",
            "      Successfully uninstalled certifi-2022.12.7\n",
            "  Attempting uninstall: requests\n",
            "    Found existing installation: requests 2.27.1\n",
            "    Uninstalling requests-2.27.1:\n",
            "      Successfully uninstalled requests-2.27.1\n",
            "  Attempting uninstall: torch\n",
            "    Found existing installation: torch 2.0.0+cu118\n",
            "    Uninstalling torch-2.0.0+cu118:\n",
            "      Successfully uninstalled torch-2.0.0+cu118\n",
            "  Attempting uninstall: torchvision\n",
            "    Found existing installation: torchvision 0.15.1+cu118\n",
            "    Uninstalling torchvision-0.15.1+cu118:\n",
            "      Successfully uninstalled torchvision-0.15.1+cu118\n",
            "\u001b[31mERROR: pip's dependency resolver does not currently take into account all the packages that are installed. This behaviour is the source of the following dependency conflicts.\n",
            "google-colab 1.0.0 requires requests==2.27.1, but you have requests 2.30.0 which is incompatible.\n",
            "numba 0.56.4 requires numpy<1.24,>=1.18, but you have numpy 1.24.3 which is incompatible.\n",
            "tensorflow 2.12.0 requires numpy<1.24,>=1.22, but you have numpy 1.24.3 which is incompatible.\n",
            "torchaudio 2.0.1+cu118 requires torch==2.0.0, but you have torch 2.0.1 which is incompatible.\n",
            "torchdata 0.6.0 requires torch==2.0.0, but you have torch 2.0.1 which is incompatible.\n",
            "torchtext 0.15.1 requires torch==2.0.0, but you have torch 2.0.1 which is incompatible.\u001b[0m\u001b[31m\n",
            "\u001b[0mSuccessfully installed Pillow-9.5.0 certifi-2023.5.7 charset-normalizer-3.1.0 ffmpeg-1.4 fonttools-4.39.4 fsspec-2023.5.0 huggingface-hub-0.14.1 numpy-1.24.3 nvidia-cublas-cu11-11.10.3.66 nvidia-cuda-cupti-cu11-11.7.101 nvidia-cuda-nvrtc-cu11-11.7.99 nvidia-cuda-runtime-cu11-11.7.99 nvidia-cudnn-cu11-8.5.0.96 nvidia-cufft-cu11-10.9.0.58 nvidia-curand-cu11-10.2.10.91 nvidia-cusolver-cu11-11.4.0.1 nvidia-cusparse-cu11-11.7.4.91 nvidia-nccl-cu11-2.14.3 nvidia-nvtx-cu11-11.7.91 pydub-0.25.1 regex-2023.5.5 requests-2.30.0 sk-video-1.1.10 sympy-1.12 tokenizers-0.13.3 torch-2.0.1 torchvision-0.15.2 transformers-4.29.1 urllib3-2.0.2\n"
          ]
        },
        {
          "output_type": "display_data",
          "data": {
            "application/vnd.colab-display-data+json": {
              "pip_warning": {
                "packages": [
                  "PIL",
                  "certifi",
                  "numpy"
                ]
              }
            }
          },
          "metadata": {}
        }
      ]
    },
    {
      "cell_type": "code",
      "source": [
        "%cd /content/clustering\n",
        "%rm -rf \"/content/drive/MyDrive/HCMUS/Y4/Thesis/Codes/summe/clustering/dino\"\n",
        "%mkdir \"/content/drive/MyDrive/HCMUS/Y4/Thesis/Codes/summe/clustering/dino\"\n",
        "%mkdir \"/content/drive/MyDrive/HCMUS/Y4/Thesis/Codes/summe/clustering/dino/embeddings\"\n",
        "%run extractor.py \\\n",
        "--video-folder data/videos \\\n",
        "--embedding-folder \"/content/drive/MyDrive/HCMUS/Y4/Thesis/Codes/summe/clustering/dino/embeddings\" \\\n",
        "--frame-rate 4 \\\n",
        "--representation cls"
      ],
      "metadata": {
        "colab": {
          "base_uri": "https://localhost:8080/",
          "height": 1000,
          "referenced_widgets": [
            "e932121d73cd4e49b1895d1ae6792ec4",
            "732495730ee6470f9264aeb3bf73005b",
            "ea58a23d3b624f7c98f87f958a9c9bb7",
            "a62788616a3e455db6dd32cbc63a26ec",
            "563a27b0468c4e5c92b299fbb5de543d",
            "071d0e2d50654233a2b5b91555d85e62",
            "d5ff37f836e24f25aa93d7af7e64dbea",
            "02621d9b3dd84b06a60c4242a1a15f17",
            "e99762f91d4c4181971da44558ec26a0",
            "d663f5ada57641c6abead30585db90bc",
            "237cb1b4188b47a8b33ba77aa6f3025d",
            "a93995fa503142d385b35885b036d34f",
            "a7d063d2cdda4a08b2e3ffff304b58f5",
            "dd02eb92572f40c687ba46d2cecde3c9",
            "07675ecd4c744ad3b8408e9dab916947",
            "ce24c59e75f1496eb6fb3def3b689bd2",
            "2d9f136895454280a018ed9ed77897cd",
            "ddbf93cda67a4928beab9d786677dac0",
            "b53262fe62354a2aace9e09a6b4724e3",
            "0948562f60b94d60b56695b767977e1d",
            "bd178f71bed74968a43f1301f1d059ea",
            "4f4a095c10724254a3cdc766a83afbeb",
            "ea8552012a3d456e980a0a7f7168e64c",
            "1b7194f6b44e4deaa5aeee87c86ce9bc",
            "741972e98c1e4a3890f4708b7fca73af",
            "167e63dd666c4379b825e5b0593b6478",
            "f354beb8572b4b3786b2ba41ce113a5b",
            "6fb1331e90e9403881764f971968492e",
            "aacedbf694a14a0baafb731be4e3a547",
            "cabced839ad843e4b4271c8c63bf775f",
            "7521464a02934f2b81e6a59ba2d1417d",
            "e8575266bb4a48158b16a33cf4cdd062",
            "7ba7c73285d74bc3bda10977857460d5"
          ]
        },
        "id": "0MKOvWAMvBkn",
        "outputId": "9ed8bcd6-d4e7-4c3f-9fc6-3f96ba77bc4f"
      },
      "execution_count": 1,
      "outputs": [
        {
          "output_type": "stream",
          "name": "stdout",
          "text": [
            "/content/clustering\n",
            "Loading DINO model from facebook/dino-vitb16...\n"
          ]
        },
        {
          "output_type": "display_data",
          "data": {
            "text/plain": [
              "Downloading (…)rocessor_config.json:   0%|          | 0.00/244 [00:00<?, ?B/s]"
            ],
            "application/vnd.jupyter.widget-view+json": {
              "version_major": 2,
              "version_minor": 0,
              "model_id": "e932121d73cd4e49b1895d1ae6792ec4"
            }
          },
          "metadata": {}
        },
        {
          "output_type": "stream",
          "name": "stderr",
          "text": [
            "/usr/local/lib/python3.10/dist-packages/transformers/models/vit/feature_extraction_vit.py:28: FutureWarning: The class ViTFeatureExtractor is deprecated and will be removed in version 5 of Transformers. Please use ViTImageProcessor instead.\n",
            "  warnings.warn(\n"
          ]
        },
        {
          "output_type": "display_data",
          "data": {
            "text/plain": [
              "Downloading (…)lve/main/config.json:   0%|          | 0.00/454 [00:00<?, ?B/s]"
            ],
            "application/vnd.jupyter.widget-view+json": {
              "version_major": 2,
              "version_minor": 0,
              "model_id": "a93995fa503142d385b35885b036d34f"
            }
          },
          "metadata": {}
        },
        {
          "output_type": "display_data",
          "data": {
            "text/plain": [
              "Downloading pytorch_model.bin:   0%|          | 0.00/343M [00:00<?, ?B/s]"
            ],
            "application/vnd.jupyter.widget-view+json": {
              "version_major": 2,
              "version_minor": 0,
              "model_id": "ea8552012a3d456e980a0a7f7168e64c"
            }
          },
          "metadata": {}
        },
        {
          "output_type": "stream",
          "name": "stderr",
          "text": [
            "Some weights of ViTModel were not initialized from the model checkpoint at facebook/dino-vitb16 and are newly initialized: ['pooler.dense.weight', 'pooler.dense.bias']\n",
            "You should probably TRAIN this model on a down-stream task to be able to use it for predictions and inference.\n"
          ]
        },
        {
          "output_type": "stream",
          "name": "stdout",
          "text": [
            "Using cuda device\n",
            "Extracting features for Air_Force_One.mp4\n"
          ]
        },
        {
          "output_type": "stream",
          "name": "stderr",
          "text": [
            "100%|██████████| 749/749 [04:05<00:00,  3.05it/s]\n"
          ]
        },
        {
          "output_type": "stream",
          "name": "stdout",
          "text": [
            "Extracting features for Notre_Dame.mp4\n"
          ]
        },
        {
          "output_type": "stream",
          "name": "stderr",
          "text": [
            "100%|██████████| 768/768 [04:19<00:00,  2.96it/s]\n"
          ]
        },
        {
          "output_type": "stream",
          "name": "stdout",
          "text": [
            "Extracting features for Playing_on_water_slide.mp4\n"
          ]
        },
        {
          "output_type": "stream",
          "name": "stderr",
          "text": [
            "100%|██████████| 438/438 [00:19<00:00, 22.60it/s]\n"
          ]
        },
        {
          "output_type": "stream",
          "name": "stdout",
          "text": [
            "Extracting features for Bike Polo.mp4\n"
          ]
        },
        {
          "output_type": "stream",
          "name": "stderr",
          "text": [
            "100%|██████████| 438/438 [01:10<00:00,  6.19it/s]\n"
          ]
        },
        {
          "output_type": "stream",
          "name": "stdout",
          "text": [
            "Extracting features for Statue of Liberty.mp4\n"
          ]
        },
        {
          "output_type": "stream",
          "name": "stderr",
          "text": [
            "100%|██████████| 644/644 [00:40<00:00, 16.06it/s]\n"
          ]
        },
        {
          "output_type": "stream",
          "name": "stdout",
          "text": [
            "Extracting features for Jumps.mp4\n"
          ]
        },
        {
          "output_type": "stream",
          "name": "stderr",
          "text": [
            "100%|██████████| 159/159 [00:04<00:00, 33.69it/s]\n"
          ]
        },
        {
          "output_type": "stream",
          "name": "stdout",
          "text": [
            "Extracting features for Fire Domino.mp4\n"
          ]
        },
        {
          "output_type": "stream",
          "name": "stderr",
          "text": [
            "100%|██████████| 231/231 [00:11<00:00, 19.88it/s]\n"
          ]
        },
        {
          "output_type": "stream",
          "name": "stdout",
          "text": [
            "Extracting features for playing_ball.mp4\n"
          ]
        },
        {
          "output_type": "stream",
          "name": "stderr",
          "text": [
            "100%|██████████| 446/446 [00:19<00:00, 22.53it/s]\n"
          ]
        },
        {
          "output_type": "stream",
          "name": "stdout",
          "text": [
            "Extracting features for Cooking.mp4\n"
          ]
        },
        {
          "output_type": "stream",
          "name": "stderr",
          "text": [
            "100%|██████████| 427/427 [00:11<00:00, 36.60it/s]\n"
          ]
        },
        {
          "output_type": "stream",
          "name": "stdout",
          "text": [
            "Extracting features for paluma_jump.mp4\n"
          ]
        },
        {
          "output_type": "stream",
          "name": "stderr",
          "text": [
            "100%|██████████| 368/368 [00:28<00:00, 12.99it/s]\n"
          ]
        },
        {
          "output_type": "stream",
          "name": "stdout",
          "text": [
            "Extracting features for Uncut_Evening_Flight.mp4\n"
          ]
        },
        {
          "output_type": "stream",
          "name": "stderr",
          "text": [
            "100%|██████████| 1382/1382 [03:31<00:00,  6.53it/s]\n"
          ]
        },
        {
          "output_type": "stream",
          "name": "stdout",
          "text": [
            "Extracting features for Eiffel Tower.mp4\n"
          ]
        },
        {
          "output_type": "stream",
          "name": "stderr",
          "text": [
            "100%|██████████| 829/829 [04:37<00:00,  2.99it/s]\n"
          ]
        },
        {
          "output_type": "stream",
          "name": "stdout",
          "text": [
            "Extracting features for St Maarten Landing.mp4\n"
          ]
        },
        {
          "output_type": "stream",
          "name": "stderr",
          "text": [
            "100%|██████████| 292/292 [00:21<00:00, 13.51it/s]\n"
          ]
        },
        {
          "output_type": "stream",
          "name": "stdout",
          "text": [
            "Extracting features for Kids_playing_in_leaves.mp4\n"
          ]
        },
        {
          "output_type": "stream",
          "name": "stderr",
          "text": [
            "100%|██████████| 456/456 [01:15<00:00,  6.06it/s]\n"
          ]
        },
        {
          "output_type": "stream",
          "name": "stdout",
          "text": [
            "Extracting features for Cockpit_Landing.mp4\n"
          ]
        },
        {
          "output_type": "stream",
          "name": "stderr",
          "text": [
            "100%|██████████| 1293/1293 [03:27<00:00,  6.22it/s]\n"
          ]
        },
        {
          "output_type": "stream",
          "name": "stdout",
          "text": [
            "Extracting features for Bus_in_Rock_Tunnel.mp4\n"
          ]
        },
        {
          "output_type": "stream",
          "name": "stderr",
          "text": [
            "100%|██████████| 733/733 [00:38<00:00, 18.94it/s]\n"
          ]
        },
        {
          "output_type": "stream",
          "name": "stdout",
          "text": [
            "Extracting features for Saving dolphines.mp4\n"
          ]
        },
        {
          "output_type": "stream",
          "name": "stderr",
          "text": [
            "100%|██████████| 955/955 [01:53<00:00,  8.44it/s]\n"
          ]
        },
        {
          "output_type": "stream",
          "name": "stdout",
          "text": [
            "Extracting features for Scuba.mp4\n"
          ]
        },
        {
          "output_type": "stream",
          "name": "stderr",
          "text": [
            "100%|██████████| 318/318 [00:52<00:00,  6.08it/s]\n"
          ]
        },
        {
          "output_type": "stream",
          "name": "stdout",
          "text": [
            "Extracting features for Excavators river crossing.mp4\n"
          ]
        },
        {
          "output_type": "stream",
          "name": "stderr",
          "text": [
            "100%|██████████| 1621/1621 [01:23<00:00, 19.44it/s]\n"
          ]
        },
        {
          "output_type": "stream",
          "name": "stdout",
          "text": [
            "Extracting features for car_over_camera.mp4\n"
          ]
        },
        {
          "output_type": "stream",
          "name": "stderr",
          "text": [
            "100%|██████████| 626/626 [00:38<00:00, 16.07it/s]\n"
          ]
        },
        {
          "output_type": "stream",
          "name": "stdout",
          "text": [
            "Extracting features for Base jumping.mp4\n"
          ]
        },
        {
          "output_type": "stream",
          "name": "stderr",
          "text": [
            "100%|██████████| 676/676 [00:53<00:00, 12.73it/s]\n"
          ]
        },
        {
          "output_type": "stream",
          "name": "stdout",
          "text": [
            "Extracting features for Bearpark_climbing.mp4\n"
          ]
        },
        {
          "output_type": "stream",
          "name": "stderr",
          "text": [
            "100%|██████████| 557/557 [01:28<00:00,  6.27it/s]\n"
          ]
        },
        {
          "output_type": "stream",
          "name": "stdout",
          "text": [
            "Extracting features for Valparaiso_Downhill.mp4\n"
          ]
        },
        {
          "output_type": "stream",
          "name": "stderr",
          "text": [
            "100%|██████████| 740/740 [01:59<00:00,  6.17it/s]\n"
          ]
        },
        {
          "output_type": "stream",
          "name": "stdout",
          "text": [
            "Extracting features for Paintball.mp4\n"
          ]
        },
        {
          "output_type": "stream",
          "name": "stderr",
          "text": [
            "100%|██████████| 1220/1220 [02:47<00:00,  7.27it/s]\n"
          ]
        },
        {
          "output_type": "stream",
          "name": "stdout",
          "text": [
            "Extracting features for Car_railcrossing.mp4\n"
          ]
        },
        {
          "output_type": "stream",
          "name": "stderr",
          "text": [
            "100%|██████████| 725/725 [01:49<00:00,  6.60it/s]\n"
          ]
        },
        {
          "output_type": "stream",
          "name": "stdout",
          "text": [
            "--- 2843.3895740509033 seconds ---\n"
          ]
        }
      ]
    },
    {
      "cell_type": "code",
      "source": [
        "%cd /content/clustering\n",
        "%rm -rf \"/content/drive/MyDrive/HCMUS/Y4/Thesis/Codes/summe/clustering/dino/clustering\"\n",
        "%mkdir \"/content/drive/MyDrive/HCMUS/Y4/Thesis/Codes/summe/clustering/dino/clustering\"\n",
        "%run clustering.py \\\n",
        "--embedding-folder \"/content/drive/MyDrive/HCMUS/Y4/Thesis/Codes/summe/clustering/dino/embeddings\" \\\n",
        "--clustering-folder \"/content/drive/MyDrive/HCMUS/Y4/Thesis/Codes/summe/clustering/dino/clustering\" \\\n",
        "--method kmeans \\\n",
        "--num-clusters 6 \\\n",
        "--distance cosine \\\n",
        "--embedding-dim 3 \\\n",
        "--window-size 5 \\\n",
        "--min-seg-length 3"
      ],
      "metadata": {
        "id": "Uldp-KcixXOi",
        "colab": {
          "base_uri": "https://localhost:8080/"
        },
        "outputId": "0b936a70-9fca-41eb-9721-28d628baec24"
      },
      "execution_count": 11,
      "outputs": [
        {
          "output_type": "stream",
          "name": "stdout",
          "text": [
            "/content/clustering\n",
            "Clustering frames of Air_Force_One\n",
            "Using K-Means\n",
            "Number of clusters: 6\n",
            "Clustering frames of Notre_Dame\n",
            "Using K-Means\n",
            "Number of clusters: 6\n",
            "Clustering frames of Playing_on_water_slide\n",
            "Using K-Means\n",
            "Number of clusters: 6\n",
            "Clustering frames of Bike Polo\n",
            "Using K-Means\n",
            "Number of clusters: 6\n",
            "Clustering frames of Statue of Liberty\n",
            "Using K-Means\n",
            "Number of clusters: 6\n",
            "Clustering frames of Jumps\n",
            "Using K-Means\n",
            "Number of clusters: 6\n",
            "Clustering frames of Fire Domino\n",
            "Using K-Means\n",
            "Number of clusters: 6\n",
            "Clustering frames of playing_ball\n",
            "Using K-Means\n",
            "Number of clusters: 6\n",
            "Clustering frames of Cooking\n",
            "Using K-Means\n",
            "Number of clusters: 6\n",
            "Clustering frames of paluma_jump\n",
            "Using K-Means\n",
            "Number of clusters: 6\n",
            "Clustering frames of Uncut_Evening_Flight\n",
            "Using K-Means\n",
            "Number of clusters: 6\n",
            "Clustering frames of Eiffel Tower\n",
            "Using K-Means\n",
            "Number of clusters: 6\n",
            "Clustering frames of St Maarten Landing\n",
            "Using K-Means\n",
            "Number of clusters: 6\n",
            "Clustering frames of Kids_playing_in_leaves\n",
            "Using K-Means\n",
            "Number of clusters: 6\n",
            "Clustering frames of Cockpit_Landing\n",
            "Using K-Means\n",
            "Number of clusters: 6\n",
            "Clustering frames of Bus_in_Rock_Tunnel\n",
            "Using K-Means\n",
            "Number of clusters: 6\n",
            "Clustering frames of Saving dolphines\n",
            "Using K-Means\n",
            "Number of clusters: 6\n",
            "Clustering frames of Scuba\n",
            "Using K-Means\n",
            "Number of clusters: 6\n",
            "Clustering frames of Excavators river crossing\n",
            "Using K-Means\n",
            "Number of clusters: 6\n",
            "Clustering frames of car_over_camera\n",
            "Using K-Means\n",
            "Number of clusters: 6\n",
            "Clustering frames of Base jumping\n",
            "Using K-Means\n",
            "Number of clusters: 6\n",
            "Clustering frames of Bearpark_climbing\n",
            "Using K-Means\n",
            "Number of clusters: 6\n",
            "Clustering frames of Valparaiso_Downhill\n",
            "Using K-Means\n",
            "Number of clusters: 6\n",
            "Clustering frames of Paintball\n",
            "Using K-Means\n",
            "Number of clusters: 6\n",
            "Clustering frames of Car_railcrossing\n",
            "Using K-Means\n",
            "Number of clusters: 6\n",
            "--- 403.67392444610596 seconds ---\n"
          ]
        }
      ]
    },
    {
      "cell_type": "code",
      "source": [
        "%cd /content/clustering\n",
        "%rm -rf \"/content/drive/MyDrive/HCMUS/Y4/Thesis/Codes/summe/clustering/dino/demo\"\n",
        "%mkdir \"/content/drive/MyDrive/HCMUS/Y4/Thesis/Codes/summe/clustering/dino/demo\""
      ],
      "metadata": {
        "colab": {
          "base_uri": "https://localhost:8080/"
        },
        "id": "-FHFmIqy57mu",
        "outputId": "8314e015-e95f-4a1e-cb90-f4bf0f1c5687"
      },
      "execution_count": 12,
      "outputs": [
        {
          "output_type": "stream",
          "name": "stdout",
          "text": [
            "/content/clustering\n"
          ]
        }
      ]
    },
    {
      "cell_type": "code",
      "source": [
        "%run visualizer.py \\\n",
        "--video-folder data/videos \\\n",
        "--embedding-folder \"/content/drive/MyDrive/HCMUS/Y4/Thesis/Codes/summe/clustering/dino/embeddings\" \\\n",
        "--clustering-folder \"/content/drive/MyDrive/HCMUS/Y4/Thesis/Codes/summe/clustering/dino/clustering\" \\\n",
        "--demo-folder \"/content/drive/MyDrive/HCMUS/Y4/Thesis/Codes/summe/clustering/dino/demo\" \\\n",
        "--video-name car_over_camera\\\n",
        "--visual-type cluster \\\n",
        "--show-image \\\n",
        "--output-fps 4 \\\n",
        "--color-value label"
      ],
      "metadata": {
        "colab": {
          "base_uri": "https://localhost:8080/",
          "height": 490
        },
        "id": "a2OcbUhs984z",
        "outputId": "acca0a3e-60c7-4c8d-fa79-7216975f56d3"
      },
      "execution_count": 13,
      "outputs": [
        {
          "output_type": "stream",
          "name": "stderr",
          "text": [
            "100%|██████████| 626/626 [00:09<00:00, 65.91it/s]\n"
          ]
        },
        {
          "output_type": "display_data",
          "data": {
            "text/plain": [
              "<Figure size 640x480 with 2 Axes>"
            ],
            "image/png": "[encoded data removed]"
          },
          "metadata": {}
        },
        {
          "output_type": "display_data",
          "data": {
            "text/plain": [
              "<Figure size 640x480 with 0 Axes>"
            ]
          },
          "metadata": {}
        }
      ]
    },
    {
      "cell_type": "code",
      "source": [
        "%run visualizer.py \\\n",
        "--video-folder data/videos \\\n",
        "--embedding-folder \"/content/drive/MyDrive/HCMUS/Y4/Thesis/Codes/summe/clustering/dino/embeddings\" \\\n",
        "--clustering-folder \"/content/drive/MyDrive/HCMUS/Y4/Thesis/Codes/summe/clustering/dino/clustering\" \\\n",
        "--demo-folder \"/content/drive/MyDrive/HCMUS/Y4/Thesis/Codes/summe/clustering/dino/demo\" \\\n",
        "--video-name car_over_camera\\\n",
        "--visual-type video \\\n",
        "--output-fps 4 \\\n",
        "--color-value label"
      ],
      "metadata": {
        "colab": {
          "base_uri": "https://localhost:8080/"
        },
        "id": "VAMCQHub4GzF",
        "outputId": "45e2f094-1234-44ba-dc5c-f3045264df8e"
      },
      "execution_count": 14,
      "outputs": [
        {
          "output_type": "stream",
          "name": "stderr",
          "text": [
            "100%|██████████| 626/626 [00:13<00:00, 46.53it/s]\n",
            "100%|██████████| 11/11 [00:08<00:00,  1.34it/s]\n"
          ]
        }
      ]
    },
    {
      "cell_type": "code",
      "source": [
        "%ls -sla \"/content/drive/MyDrive/HCMUS/Y4/Thesis/Codes/summe/clustering/dino/demo/\""
      ],
      "metadata": {
        "id": "SpUL33LnDPRQ",
        "colab": {
          "base_uri": "https://localhost:8080/"
        },
        "outputId": "c457df91-41fa-47cd-9306-ce7afd8a5345"
      },
      "execution_count": 10,
      "outputs": [
        {
          "output_type": "stream",
          "name": "stdout",
          "text": [
            "total 14813\n",
            "  314 -rw------- 1 root root   321392 May 18 12:48 car_over_camera_keyframes.avi\n",
            "14499 -rw------- 1 root root 14845958 May 18 12:48 car_over_camera_sample.avi\n"
          ]
        }
      ]
    },
    {
      "cell_type": "code",
      "source": [],
      "metadata": {
        "id": "lxu8-ImhuUDi"
      },
      "execution_count": null,
      "outputs": []
    }
  ]
}