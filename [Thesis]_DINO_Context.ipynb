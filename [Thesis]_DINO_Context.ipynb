{
  "nbformat": 4,
  "nbformat_minor": 0,
  "metadata": {
    "colab": {
      "provenance": [],
      "gpuType": "T4"
    },
    "kernelspec": {
      "name": "python3",
      "display_name": "Python 3"
    },
    "language_info": {
      "name": "python"
    },
    "widgets": {
      "application/vnd.jupyter.widget-state+json": {
        "d065d1f899af4b7986fede087ebc46c9": {
          "model_module": "@jupyter-widgets/controls",
          "model_name": "HBoxModel",
          "model_module_version": "1.5.0",
          "state": {
            "_dom_classes": [],
            "_model_module": "@jupyter-widgets/controls",
            "_model_module_version": "1.5.0",
            "_model_name": "HBoxModel",
            "_view_count": null,
            "_view_module": "@jupyter-widgets/controls",
            "_view_module_version": "1.5.0",
            "_view_name": "HBoxView",
            "box_style": "",
            "children": [
              "IPY_MODEL_ecf4c24bf307456ba023c79d0564b2e8",
              "IPY_MODEL_7979b04b09844cfe99bc3e2f1c3e8226",
              "IPY_MODEL_7d8386644cf347cab2018467550bc3a4"
            ],
            "layout": "IPY_MODEL_148f40decb514190a7b5b91a84e9b386"
          }
        },
        "ecf4c24bf307456ba023c79d0564b2e8": {
          "model_module": "@jupyter-widgets/controls",
          "model_name": "HTMLModel",
          "model_module_version": "1.5.0",
          "state": {
            "_dom_classes": [],
            "_model_module": "@jupyter-widgets/controls",
            "_model_module_version": "1.5.0",
            "_model_name": "HTMLModel",
            "_view_count": null,
            "_view_module": "@jupyter-widgets/controls",
            "_view_module_version": "1.5.0",
            "_view_name": "HTMLView",
            "description": "",
            "description_tooltip": null,
            "layout": "IPY_MODEL_ffb9016c12f146c6a53ca85a3ed1c318",
            "placeholder": "​",
            "style": "IPY_MODEL_2ddc7ebc19894058be11ed844e4a2031",
            "value": "Downloading (…)rocessor_config.json: 100%"
          }
        },
        "7979b04b09844cfe99bc3e2f1c3e8226": {
          "model_module": "@jupyter-widgets/controls",
          "model_name": "FloatProgressModel",
          "model_module_version": "1.5.0",
          "state": {
            "_dom_classes": [],
            "_model_module": "@jupyter-widgets/controls",
            "_model_module_version": "1.5.0",
            "_model_name": "FloatProgressModel",
            "_view_count": null,
            "_view_module": "@jupyter-widgets/controls",
            "_view_module_version": "1.5.0",
            "_view_name": "ProgressView",
            "bar_style": "success",
            "description": "",
            "description_tooltip": null,
            "layout": "IPY_MODEL_1fa625cd0b99417db44311cb08e88239",
            "max": 244,
            "min": 0,
            "orientation": "horizontal",
            "style": "IPY_MODEL_066bc3dc9ce446f9bbaf5fbb2d5f9a16",
            "value": 244
          }
        },
        "7d8386644cf347cab2018467550bc3a4": {
          "model_module": "@jupyter-widgets/controls",
          "model_name": "HTMLModel",
          "model_module_version": "1.5.0",
          "state": {
            "_dom_classes": [],
            "_model_module": "@jupyter-widgets/controls",
            "_model_module_version": "1.5.0",
            "_model_name": "HTMLModel",
            "_view_count": null,
            "_view_module": "@jupyter-widgets/controls",
            "_view_module_version": "1.5.0",
            "_view_name": "HTMLView",
            "description": "",
            "description_tooltip": null,
            "layout": "IPY_MODEL_385ea6fb7dfe43f1af7e7237a3d55955",
            "placeholder": "​",
            "style": "IPY_MODEL_6475ff103cc0491ebab7b480527ac0c1",
            "value": " 244/244 [00:00&lt;00:00, 13.3kB/s]"
          }
        },
        "148f40decb514190a7b5b91a84e9b386": {
          "model_module": "@jupyter-widgets/base",
          "model_name": "LayoutModel",
          "model_module_version": "1.2.0",
          "state": {
            "_model_module": "@jupyter-widgets/base",
            "_model_module_version": "1.2.0",
            "_model_name": "LayoutModel",
            "_view_count": null,
            "_view_module": "@jupyter-widgets/base",
            "_view_module_version": "1.2.0",
            "_view_name": "LayoutView",
            "align_content": null,
            "align_items": null,
            "align_self": null,
            "border": null,
            "bottom": null,
            "display": null,
            "flex": null,
            "flex_flow": null,
            "grid_area": null,
            "grid_auto_columns": null,
            "grid_auto_flow": null,
            "grid_auto_rows": null,
            "grid_column": null,
            "grid_gap": null,
            "grid_row": null,
            "grid_template_areas": null,
            "grid_template_columns": null,
            "grid_template_rows": null,
            "height": null,
            "justify_content": null,
            "justify_items": null,
            "left": null,
            "margin": null,
            "max_height": null,
            "max_width": null,
            "min_height": null,
            "min_width": null,
            "object_fit": null,
            "object_position": null,
            "order": null,
            "overflow": null,
            "overflow_x": null,
            "overflow_y": null,
            "padding": null,
            "right": null,
            "top": null,
            "visibility": null,
            "width": null
          }
        },
        "ffb9016c12f146c6a53ca85a3ed1c318": {
          "model_module": "@jupyter-widgets/base",
          "model_name": "LayoutModel",
          "model_module_version": "1.2.0",
          "state": {
            "_model_module": "@jupyter-widgets/base",
            "_model_module_version": "1.2.0",
            "_model_name": "LayoutModel",
            "_view_count": null,
            "_view_module": "@jupyter-widgets/base",
            "_view_module_version": "1.2.0",
            "_view_name": "LayoutView",
            "align_content": null,
            "align_items": null,
            "align_self": null,
            "border": null,
            "bottom": null,
            "display": null,
            "flex": null,
            "flex_flow": null,
            "grid_area": null,
            "grid_auto_columns": null,
            "grid_auto_flow": null,
            "grid_auto_rows": null,
            "grid_column": null,
            "grid_gap": null,
            "grid_row": null,
            "grid_template_areas": null,
            "grid_template_columns": null,
            "grid_template_rows": null,
            "height": null,
            "justify_content": null,
            "justify_items": null,
            "left": null,
            "margin": null,
            "max_height": null,
            "max_width": null,
            "min_height": null,
            "min_width": null,
            "object_fit": null,
            "object_position": null,
            "order": null,
            "overflow": null,
            "overflow_x": null,
            "overflow_y": null,
            "padding": null,
            "right": null,
            "top": null,
            "visibility": null,
            "width": null
          }
        },
        "2ddc7ebc19894058be11ed844e4a2031": {
          "model_module": "@jupyter-widgets/controls",
          "model_name": "DescriptionStyleModel",
          "model_module_version": "1.5.0",
          "state": {
            "_model_module": "@jupyter-widgets/controls",
            "_model_module_version": "1.5.0",
            "_model_name": "DescriptionStyleModel",
            "_view_count": null,
            "_view_module": "@jupyter-widgets/base",
            "_view_module_version": "1.2.0",
            "_view_name": "StyleView",
            "description_width": ""
          }
        },
        "1fa625cd0b99417db44311cb08e88239": {
          "model_module": "@jupyter-widgets/base",
          "model_name": "LayoutModel",
          "model_module_version": "1.2.0",
          "state": {
            "_model_module": "@jupyter-widgets/base",
            "_model_module_version": "1.2.0",
            "_model_name": "LayoutModel",
            "_view_count": null,
            "_view_module": "@jupyter-widgets/base",
            "_view_module_version": "1.2.0",
            "_view_name": "LayoutView",
            "align_content": null,
            "align_items": null,
            "align_self": null,
            "border": null,
            "bottom": null,
            "display": null,
            "flex": null,
            "flex_flow": null,
            "grid_area": null,
            "grid_auto_columns": null,
            "grid_auto_flow": null,
            "grid_auto_rows": null,
            "grid_column": null,
            "grid_gap": null,
            "grid_row": null,
            "grid_template_areas": null,
            "grid_template_columns": null,
            "grid_template_rows": null,
            "height": null,
            "justify_content": null,
            "justify_items": null,
            "left": null,
            "margin": null,
            "max_height": null,
            "max_width": null,
            "min_height": null,
            "min_width": null,
            "object_fit": null,
            "object_position": null,
            "order": null,
            "overflow": null,
            "overflow_x": null,
            "overflow_y": null,
            "padding": null,
            "right": null,
            "top": null,
            "visibility": null,
            "width": null
          }
        },
        "066bc3dc9ce446f9bbaf5fbb2d5f9a16": {
          "model_module": "@jupyter-widgets/controls",
          "model_name": "ProgressStyleModel",
          "model_module_version": "1.5.0",
          "state": {
            "_model_module": "@jupyter-widgets/controls",
            "_model_module_version": "1.5.0",
            "_model_name": "ProgressStyleModel",
            "_view_count": null,
            "_view_module": "@jupyter-widgets/base",
            "_view_module_version": "1.2.0",
            "_view_name": "StyleView",
            "bar_color": null,
            "description_width": ""
          }
        },
        "385ea6fb7dfe43f1af7e7237a3d55955": {
          "model_module": "@jupyter-widgets/base",
          "model_name": "LayoutModel",
          "model_module_version": "1.2.0",
          "state": {
            "_model_module": "@jupyter-widgets/base",
            "_model_module_version": "1.2.0",
            "_model_name": "LayoutModel",
            "_view_count": null,
            "_view_module": "@jupyter-widgets/base",
            "_view_module_version": "1.2.0",
            "_view_name": "LayoutView",
            "align_content": null,
            "align_items": null,
            "align_self": null,
            "border": null,
            "bottom": null,
            "display": null,
            "flex": null,
            "flex_flow": null,
            "grid_area": null,
            "grid_auto_columns": null,
            "grid_auto_flow": null,
            "grid_auto_rows": null,
            "grid_column": null,
            "grid_gap": null,
            "grid_row": null,
            "grid_template_areas": null,
            "grid_template_columns": null,
            "grid_template_rows": null,
            "height": null,
            "justify_content": null,
            "justify_items": null,
            "left": null,
            "margin": null,
            "max_height": null,
            "max_width": null,
            "min_height": null,
            "min_width": null,
            "object_fit": null,
            "object_position": null,
            "order": null,
            "overflow": null,
            "overflow_x": null,
            "overflow_y": null,
            "padding": null,
            "right": null,
            "top": null,
            "visibility": null,
            "width": null
          }
        },
        "6475ff103cc0491ebab7b480527ac0c1": {
          "model_module": "@jupyter-widgets/controls",
          "model_name": "DescriptionStyleModel",
          "model_module_version": "1.5.0",
          "state": {
            "_model_module": "@jupyter-widgets/controls",
            "_model_module_version": "1.5.0",
            "_model_name": "DescriptionStyleModel",
            "_view_count": null,
            "_view_module": "@jupyter-widgets/base",
            "_view_module_version": "1.2.0",
            "_view_name": "StyleView",
            "description_width": ""
          }
        },
        "045fec9796584a1e82f8c0dc29b4c460": {
          "model_module": "@jupyter-widgets/controls",
          "model_name": "HBoxModel",
          "model_module_version": "1.5.0",
          "state": {
            "_dom_classes": [],
            "_model_module": "@jupyter-widgets/controls",
            "_model_module_version": "1.5.0",
            "_model_name": "HBoxModel",
            "_view_count": null,
            "_view_module": "@jupyter-widgets/controls",
            "_view_module_version": "1.5.0",
            "_view_name": "HBoxView",
            "box_style": "",
            "children": [
              "IPY_MODEL_6c0e3cd79de0494389e4f0fe27a664c9",
              "IPY_MODEL_096145f89bf64129a392582ec02353e8",
              "IPY_MODEL_c464ff4bb25d403d8c9c1ecbcfca5dcf"
            ],
            "layout": "IPY_MODEL_ddeacfbfce094ff7a76d8696b12028d8"
          }
        },
        "6c0e3cd79de0494389e4f0fe27a664c9": {
          "model_module": "@jupyter-widgets/controls",
          "model_name": "HTMLModel",
          "model_module_version": "1.5.0",
          "state": {
            "_dom_classes": [],
            "_model_module": "@jupyter-widgets/controls",
            "_model_module_version": "1.5.0",
            "_model_name": "HTMLModel",
            "_view_count": null,
            "_view_module": "@jupyter-widgets/controls",
            "_view_module_version": "1.5.0",
            "_view_name": "HTMLView",
            "description": "",
            "description_tooltip": null,
            "layout": "IPY_MODEL_e56b2c90a4944659ba2ad019dd03d8f6",
            "placeholder": "​",
            "style": "IPY_MODEL_c00e55274bc24d7aa98a88208cc1cb6a",
            "value": "Downloading (…)lve/main/config.json: 100%"
          }
        },
        "096145f89bf64129a392582ec02353e8": {
          "model_module": "@jupyter-widgets/controls",
          "model_name": "FloatProgressModel",
          "model_module_version": "1.5.0",
          "state": {
            "_dom_classes": [],
            "_model_module": "@jupyter-widgets/controls",
            "_model_module_version": "1.5.0",
            "_model_name": "FloatProgressModel",
            "_view_count": null,
            "_view_module": "@jupyter-widgets/controls",
            "_view_module_version": "1.5.0",
            "_view_name": "ProgressView",
            "bar_style": "success",
            "description": "",
            "description_tooltip": null,
            "layout": "IPY_MODEL_d7f8049c73184c06ba5cdefdcc477b8b",
            "max": 454,
            "min": 0,
            "orientation": "horizontal",
            "style": "IPY_MODEL_da4d31ba6111459b90d10d39d9057172",
            "value": 454
          }
        },
        "c464ff4bb25d403d8c9c1ecbcfca5dcf": {
          "model_module": "@jupyter-widgets/controls",
          "model_name": "HTMLModel",
          "model_module_version": "1.5.0",
          "state": {
            "_dom_classes": [],
            "_model_module": "@jupyter-widgets/controls",
            "_model_module_version": "1.5.0",
            "_model_name": "HTMLModel",
            "_view_count": null,
            "_view_module": "@jupyter-widgets/controls",
            "_view_module_version": "1.5.0",
            "_view_name": "HTMLView",
            "description": "",
            "description_tooltip": null,
            "layout": "IPY_MODEL_1b8b114d221a4d9fb14b6ad27993a97a",
            "placeholder": "​",
            "style": "IPY_MODEL_69e7d8707fa04cd4b4d053b9cd6ad50b",
            "value": " 454/454 [00:00&lt;00:00, 26.4kB/s]"
          }
        },
        "ddeacfbfce094ff7a76d8696b12028d8": {
          "model_module": "@jupyter-widgets/base",
          "model_name": "LayoutModel",
          "model_module_version": "1.2.0",
          "state": {
            "_model_module": "@jupyter-widgets/base",
            "_model_module_version": "1.2.0",
            "_model_name": "LayoutModel",
            "_view_count": null,
            "_view_module": "@jupyter-widgets/base",
            "_view_module_version": "1.2.0",
            "_view_name": "LayoutView",
            "align_content": null,
            "align_items": null,
            "align_self": null,
            "border": null,
            "bottom": null,
            "display": null,
            "flex": null,
            "flex_flow": null,
            "grid_area": null,
            "grid_auto_columns": null,
            "grid_auto_flow": null,
            "grid_auto_rows": null,
            "grid_column": null,
            "grid_gap": null,
            "grid_row": null,
            "grid_template_areas": null,
            "grid_template_columns": null,
            "grid_template_rows": null,
            "height": null,
            "justify_content": null,
            "justify_items": null,
            "left": null,
            "margin": null,
            "max_height": null,
            "max_width": null,
            "min_height": null,
            "min_width": null,
            "object_fit": null,
            "object_position": null,
            "order": null,
            "overflow": null,
            "overflow_x": null,
            "overflow_y": null,
            "padding": null,
            "right": null,
            "top": null,
            "visibility": null,
            "width": null
          }
        },
        "e56b2c90a4944659ba2ad019dd03d8f6": {
          "model_module": "@jupyter-widgets/base",
          "model_name": "LayoutModel",
          "model_module_version": "1.2.0",
          "state": {
            "_model_module": "@jupyter-widgets/base",
            "_model_module_version": "1.2.0",
            "_model_name": "LayoutModel",
            "_view_count": null,
            "_view_module": "@jupyter-widgets/base",
            "_view_module_version": "1.2.0",
            "_view_name": "LayoutView",
            "align_content": null,
            "align_items": null,
            "align_self": null,
            "border": null,
            "bottom": null,
            "display": null,
            "flex": null,
            "flex_flow": null,
            "grid_area": null,
            "grid_auto_columns": null,
            "grid_auto_flow": null,
            "grid_auto_rows": null,
            "grid_column": null,
            "grid_gap": null,
            "grid_row": null,
            "grid_template_areas": null,
            "grid_template_columns": null,
            "grid_template_rows": null,
            "height": null,
            "justify_content": null,
            "justify_items": null,
            "left": null,
            "margin": null,
            "max_height": null,
            "max_width": null,
            "min_height": null,
            "min_width": null,
            "object_fit": null,
            "object_position": null,
            "order": null,
            "overflow": null,
            "overflow_x": null,
            "overflow_y": null,
            "padding": null,
            "right": null,
            "top": null,
            "visibility": null,
            "width": null
          }
        },
        "c00e55274bc24d7aa98a88208cc1cb6a": {
          "model_module": "@jupyter-widgets/controls",
          "model_name": "DescriptionStyleModel",
          "model_module_version": "1.5.0",
          "state": {
            "_model_module": "@jupyter-widgets/controls",
            "_model_module_version": "1.5.0",
            "_model_name": "DescriptionStyleModel",
            "_view_count": null,
            "_view_module": "@jupyter-widgets/base",
            "_view_module_version": "1.2.0",
            "_view_name": "StyleView",
            "description_width": ""
          }
        },
        "d7f8049c73184c06ba5cdefdcc477b8b": {
          "model_module": "@jupyter-widgets/base",
          "model_name": "LayoutModel",
          "model_module_version": "1.2.0",
          "state": {
            "_model_module": "@jupyter-widgets/base",
            "_model_module_version": "1.2.0",
            "_model_name": "LayoutModel",
            "_view_count": null,
            "_view_module": "@jupyter-widgets/base",
            "_view_module_version": "1.2.0",
            "_view_name": "LayoutView",
            "align_content": null,
            "align_items": null,
            "align_self": null,
            "border": null,
            "bottom": null,
            "display": null,
            "flex": null,
            "flex_flow": null,
            "grid_area": null,
            "grid_auto_columns": null,
            "grid_auto_flow": null,
            "grid_auto_rows": null,
            "grid_column": null,
            "grid_gap": null,
            "grid_row": null,
            "grid_template_areas": null,
            "grid_template_columns": null,
            "grid_template_rows": null,
            "height": null,
            "justify_content": null,
            "justify_items": null,
            "left": null,
            "margin": null,
            "max_height": null,
            "max_width": null,
            "min_height": null,
            "min_width": null,
            "object_fit": null,
            "object_position": null,
            "order": null,
            "overflow": null,
            "overflow_x": null,
            "overflow_y": null,
            "padding": null,
            "right": null,
            "top": null,
            "visibility": null,
            "width": null
          }
        },
        "da4d31ba6111459b90d10d39d9057172": {
          "model_module": "@jupyter-widgets/controls",
          "model_name": "ProgressStyleModel",
          "model_module_version": "1.5.0",
          "state": {
            "_model_module": "@jupyter-widgets/controls",
            "_model_module_version": "1.5.0",
            "_model_name": "ProgressStyleModel",
            "_view_count": null,
            "_view_module": "@jupyter-widgets/base",
            "_view_module_version": "1.2.0",
            "_view_name": "StyleView",
            "bar_color": null,
            "description_width": ""
          }
        },
        "1b8b114d221a4d9fb14b6ad27993a97a": {
          "model_module": "@jupyter-widgets/base",
          "model_name": "LayoutModel",
          "model_module_version": "1.2.0",
          "state": {
            "_model_module": "@jupyter-widgets/base",
            "_model_module_version": "1.2.0",
            "_model_name": "LayoutModel",
            "_view_count": null,
            "_view_module": "@jupyter-widgets/base",
            "_view_module_version": "1.2.0",
            "_view_name": "LayoutView",
            "align_content": null,
            "align_items": null,
            "align_self": null,
            "border": null,
            "bottom": null,
            "display": null,
            "flex": null,
            "flex_flow": null,
            "grid_area": null,
            "grid_auto_columns": null,
            "grid_auto_flow": null,
            "grid_auto_rows": null,
            "grid_column": null,
            "grid_gap": null,
            "grid_row": null,
            "grid_template_areas": null,
            "grid_template_columns": null,
            "grid_template_rows": null,
            "height": null,
            "justify_content": null,
            "justify_items": null,
            "left": null,
            "margin": null,
            "max_height": null,
            "max_width": null,
            "min_height": null,
            "min_width": null,
            "object_fit": null,
            "object_position": null,
            "order": null,
            "overflow": null,
            "overflow_x": null,
            "overflow_y": null,
            "padding": null,
            "right": null,
            "top": null,
            "visibility": null,
            "width": null
          }
        },
        "69e7d8707fa04cd4b4d053b9cd6ad50b": {
          "model_module": "@jupyter-widgets/controls",
          "model_name": "DescriptionStyleModel",
          "model_module_version": "1.5.0",
          "state": {
            "_model_module": "@jupyter-widgets/controls",
            "_model_module_version": "1.5.0",
            "_model_name": "DescriptionStyleModel",
            "_view_count": null,
            "_view_module": "@jupyter-widgets/base",
            "_view_module_version": "1.2.0",
            "_view_name": "StyleView",
            "description_width": ""
          }
        },
        "f7d55bb241c342b28e73f9623a46c907": {
          "model_module": "@jupyter-widgets/controls",
          "model_name": "HBoxModel",
          "model_module_version": "1.5.0",
          "state": {
            "_dom_classes": [],
            "_model_module": "@jupyter-widgets/controls",
            "_model_module_version": "1.5.0",
            "_model_name": "HBoxModel",
            "_view_count": null,
            "_view_module": "@jupyter-widgets/controls",
            "_view_module_version": "1.5.0",
            "_view_name": "HBoxView",
            "box_style": "",
            "children": [
              "IPY_MODEL_c865c6e628e64da39c809625e7f1c9cf",
              "IPY_MODEL_d2e15ada57a14ea4a3c6d03c24e02088",
              "IPY_MODEL_bd5073bb2bb94dffac92cf1029477c47"
            ],
            "layout": "IPY_MODEL_a47bfe39c2c14b46be44bd867cddd7c4"
          }
        },
        "c865c6e628e64da39c809625e7f1c9cf": {
          "model_module": "@jupyter-widgets/controls",
          "model_name": "HTMLModel",
          "model_module_version": "1.5.0",
          "state": {
            "_dom_classes": [],
            "_model_module": "@jupyter-widgets/controls",
            "_model_module_version": "1.5.0",
            "_model_name": "HTMLModel",
            "_view_count": null,
            "_view_module": "@jupyter-widgets/controls",
            "_view_module_version": "1.5.0",
            "_view_name": "HTMLView",
            "description": "",
            "description_tooltip": null,
            "layout": "IPY_MODEL_63d83e667e2a449e900486a2f989e196",
            "placeholder": "​",
            "style": "IPY_MODEL_e69df449788645949946cbe40a34bd5e",
            "value": "Downloading pytorch_model.bin: 100%"
          }
        },
        "d2e15ada57a14ea4a3c6d03c24e02088": {
          "model_module": "@jupyter-widgets/controls",
          "model_name": "FloatProgressModel",
          "model_module_version": "1.5.0",
          "state": {
            "_dom_classes": [],
            "_model_module": "@jupyter-widgets/controls",
            "_model_module_version": "1.5.0",
            "_model_name": "FloatProgressModel",
            "_view_count": null,
            "_view_module": "@jupyter-widgets/controls",
            "_view_module_version": "1.5.0",
            "_view_name": "ProgressView",
            "bar_style": "success",
            "description": "",
            "description_tooltip": null,
            "layout": "IPY_MODEL_13672bdf90844858ad58fa03ec198fbc",
            "max": 343268597,
            "min": 0,
            "orientation": "horizontal",
            "style": "IPY_MODEL_0fa9996be1654e51ac44598ca7058d24",
            "value": 343268597
          }
        },
        "bd5073bb2bb94dffac92cf1029477c47": {
          "model_module": "@jupyter-widgets/controls",
          "model_name": "HTMLModel",
          "model_module_version": "1.5.0",
          "state": {
            "_dom_classes": [],
            "_model_module": "@jupyter-widgets/controls",
            "_model_module_version": "1.5.0",
            "_model_name": "HTMLModel",
            "_view_count": null,
            "_view_module": "@jupyter-widgets/controls",
            "_view_module_version": "1.5.0",
            "_view_name": "HTMLView",
            "description": "",
            "description_tooltip": null,
            "layout": "IPY_MODEL_835ba02bff534cddafcc1fffa39f15e3",
            "placeholder": "​",
            "style": "IPY_MODEL_c13b6205e96643979caae49b4090674c",
            "value": " 343M/343M [00:01&lt;00:00, 343MB/s]"
          }
        },
        "a47bfe39c2c14b46be44bd867cddd7c4": {
          "model_module": "@jupyter-widgets/base",
          "model_name": "LayoutModel",
          "model_module_version": "1.2.0",
          "state": {
            "_model_module": "@jupyter-widgets/base",
            "_model_module_version": "1.2.0",
            "_model_name": "LayoutModel",
            "_view_count": null,
            "_view_module": "@jupyter-widgets/base",
            "_view_module_version": "1.2.0",
            "_view_name": "LayoutView",
            "align_content": null,
            "align_items": null,
            "align_self": null,
            "border": null,
            "bottom": null,
            "display": null,
            "flex": null,
            "flex_flow": null,
            "grid_area": null,
            "grid_auto_columns": null,
            "grid_auto_flow": null,
            "grid_auto_rows": null,
            "grid_column": null,
            "grid_gap": null,
            "grid_row": null,
            "grid_template_areas": null,
            "grid_template_columns": null,
            "grid_template_rows": null,
            "height": null,
            "justify_content": null,
            "justify_items": null,
            "left": null,
            "margin": null,
            "max_height": null,
            "max_width": null,
            "min_height": null,
            "min_width": null,
            "object_fit": null,
            "object_position": null,
            "order": null,
            "overflow": null,
            "overflow_x": null,
            "overflow_y": null,
            "padding": null,
            "right": null,
            "top": null,
            "visibility": null,
            "width": null
          }
        },
        "63d83e667e2a449e900486a2f989e196": {
          "model_module": "@jupyter-widgets/base",
          "model_name": "LayoutModel",
          "model_module_version": "1.2.0",
          "state": {
            "_model_module": "@jupyter-widgets/base",
            "_model_module_version": "1.2.0",
            "_model_name": "LayoutModel",
            "_view_count": null,
            "_view_module": "@jupyter-widgets/base",
            "_view_module_version": "1.2.0",
            "_view_name": "LayoutView",
            "align_content": null,
            "align_items": null,
            "align_self": null,
            "border": null,
            "bottom": null,
            "display": null,
            "flex": null,
            "flex_flow": null,
            "grid_area": null,
            "grid_auto_columns": null,
            "grid_auto_flow": null,
            "grid_auto_rows": null,
            "grid_column": null,
            "grid_gap": null,
            "grid_row": null,
            "grid_template_areas": null,
            "grid_template_columns": null,
            "grid_template_rows": null,
            "height": null,
            "justify_content": null,
            "justify_items": null,
            "left": null,
            "margin": null,
            "max_height": null,
            "max_width": null,
            "min_height": null,
            "min_width": null,
            "object_fit": null,
            "object_position": null,
            "order": null,
            "overflow": null,
            "overflow_x": null,
            "overflow_y": null,
            "padding": null,
            "right": null,
            "top": null,
            "visibility": null,
            "width": null
          }
        },
        "e69df449788645949946cbe40a34bd5e": {
          "model_module": "@jupyter-widgets/controls",
          "model_name": "DescriptionStyleModel",
          "model_module_version": "1.5.0",
          "state": {
            "_model_module": "@jupyter-widgets/controls",
            "_model_module_version": "1.5.0",
            "_model_name": "DescriptionStyleModel",
            "_view_count": null,
            "_view_module": "@jupyter-widgets/base",
            "_view_module_version": "1.2.0",
            "_view_name": "StyleView",
            "description_width": ""
          }
        },
        "13672bdf90844858ad58fa03ec198fbc": {
          "model_module": "@jupyter-widgets/base",
          "model_name": "LayoutModel",
          "model_module_version": "1.2.0",
          "state": {
            "_model_module": "@jupyter-widgets/base",
            "_model_module_version": "1.2.0",
            "_model_name": "LayoutModel",
            "_view_count": null,
            "_view_module": "@jupyter-widgets/base",
            "_view_module_version": "1.2.0",
            "_view_name": "LayoutView",
            "align_content": null,
            "align_items": null,
            "align_self": null,
            "border": null,
            "bottom": null,
            "display": null,
            "flex": null,
            "flex_flow": null,
            "grid_area": null,
            "grid_auto_columns": null,
            "grid_auto_flow": null,
            "grid_auto_rows": null,
            "grid_column": null,
            "grid_gap": null,
            "grid_row": null,
            "grid_template_areas": null,
            "grid_template_columns": null,
            "grid_template_rows": null,
            "height": null,
            "justify_content": null,
            "justify_items": null,
            "left": null,
            "margin": null,
            "max_height": null,
            "max_width": null,
            "min_height": null,
            "min_width": null,
            "object_fit": null,
            "object_position": null,
            "order": null,
            "overflow": null,
            "overflow_x": null,
            "overflow_y": null,
            "padding": null,
            "right": null,
            "top": null,
            "visibility": null,
            "width": null
          }
        },
        "0fa9996be1654e51ac44598ca7058d24": {
          "model_module": "@jupyter-widgets/controls",
          "model_name": "ProgressStyleModel",
          "model_module_version": "1.5.0",
          "state": {
            "_model_module": "@jupyter-widgets/controls",
            "_model_module_version": "1.5.0",
            "_model_name": "ProgressStyleModel",
            "_view_count": null,
            "_view_module": "@jupyter-widgets/base",
            "_view_module_version": "1.2.0",
            "_view_name": "StyleView",
            "bar_color": null,
            "description_width": ""
          }
        },
        "835ba02bff534cddafcc1fffa39f15e3": {
          "model_module": "@jupyter-widgets/base",
          "model_name": "LayoutModel",
          "model_module_version": "1.2.0",
          "state": {
            "_model_module": "@jupyter-widgets/base",
            "_model_module_version": "1.2.0",
            "_model_name": "LayoutModel",
            "_view_count": null,
            "_view_module": "@jupyter-widgets/base",
            "_view_module_version": "1.2.0",
            "_view_name": "LayoutView",
            "align_content": null,
            "align_items": null,
            "align_self": null,
            "border": null,
            "bottom": null,
            "display": null,
            "flex": null,
            "flex_flow": null,
            "grid_area": null,
            "grid_auto_columns": null,
            "grid_auto_flow": null,
            "grid_auto_rows": null,
            "grid_column": null,
            "grid_gap": null,
            "grid_row": null,
            "grid_template_areas": null,
            "grid_template_columns": null,
            "grid_template_rows": null,
            "height": null,
            "justify_content": null,
            "justify_items": null,
            "left": null,
            "margin": null,
            "max_height": null,
            "max_width": null,
            "min_height": null,
            "min_width": null,
            "object_fit": null,
            "object_position": null,
            "order": null,
            "overflow": null,
            "overflow_x": null,
            "overflow_y": null,
            "padding": null,
            "right": null,
            "top": null,
            "visibility": null,
            "width": null
          }
        },
        "c13b6205e96643979caae49b4090674c": {
          "model_module": "@jupyter-widgets/controls",
          "model_name": "DescriptionStyleModel",
          "model_module_version": "1.5.0",
          "state": {
            "_model_module": "@jupyter-widgets/controls",
            "_model_module_version": "1.5.0",
            "_model_name": "DescriptionStyleModel",
            "_view_count": null,
            "_view_module": "@jupyter-widgets/base",
            "_view_module_version": "1.2.0",
            "_view_name": "StyleView",
            "description_width": ""
          }
        }
      }
    }
  },
  "cells": [
    {
      "cell_type": "code",
      "execution_count": null,
      "metadata": {
        "colab": {
          "base_uri": "https://localhost:8080/"
        },
        "id": "BDo5b0y9unrc",
        "outputId": "59e30412-db1b-49d4-a8e2-3d5121ca60ba"
      },
      "outputs": [
        {
          "output_type": "stream",
          "name": "stdout",
          "text": [
            "/content\n",
            "Cloning into 'context'...\n",
            "remote: Enumerating objects: 446, done.\u001b[K\n",
            "remote: Counting objects: 100% (12/12), done.\u001b[K\n",
            "remote: Compressing objects: 100% (9/9), done.\u001b[K\n",
            "remote: Total 446 (delta 3), reused 6 (delta 3), pack-reused 434\u001b[K\n",
            "Receiving objects: 100% (446/446), 21.62 MiB | 25.48 MiB/s, done.\n",
            "Resolving deltas: 100% (294/294), done.\n",
            "/content/context\n",
            "total 228\n",
            "  4 drwxr-xr-x 6 root root   4096 Jun 12 14:51 \u001b[0m\u001b[01;34m.\u001b[0m/\n",
            "  4 drwxr-xr-x 1 root root   4096 Jun 12 14:51 \u001b[01;34m..\u001b[0m/\n",
            "176 -rw-r--r-- 1 root root 178717 Jun 12 14:51 Colab_Clustering.ipynb\n",
            "  4 drwxr-xr-x 2 root root   4096 Jun 12 14:51 \u001b[01;34mdata\u001b[0m/\n",
            "  4 drwxr-xr-x 8 root root   4096 Jun 12 14:51 \u001b[01;34m.git\u001b[0m/\n",
            "  4 -rw-r--r-- 1 root root   3199 Jun 12 14:51 .gitignore\n",
            "  4 -rw-r--r-- 1 root root    517 Jun 12 14:51 infer.sh\n",
            "  4 -rw-r--r-- 1 root root   1074 Jun 12 14:51 LICENSE\n",
            "  4 drwxr-xr-x 2 root root   4096 Jun 12 14:51 \u001b[01;34mmodel\u001b[0m/\n",
            "  4 -rw-r--r-- 1 root root    729 Jun 12 14:51 preprocess.sh\n",
            "  4 -rw-r--r-- 1 root root     17 Jun 12 14:51 README.md\n",
            "  4 -rw-r--r-- 1 root root   2341 Jun 12 14:51 requirements.txt\n",
            "  4 drwxr-xr-x 2 root root   4096 Jun 12 14:51 \u001b[01;34mscripts\u001b[0m/\n",
            "  4 -rw-r--r-- 1 root root    567 Jun 12 14:51 visualize.sh\n"
          ]
        }
      ],
      "source": [
        "%cd /content\n",
        "%rm -rf /content/context\n",
        "!git clone https://github.com/hcmus-thesis-gulu/dino-clustering.git context\n",
        "%cd /content/context\n",
        "%ls -sla"
      ]
    },
    {
      "cell_type": "code",
      "source": [
        "%cd /content/context/data\n",
        "!sh download_summe.sh"
      ],
      "metadata": {
        "colab": {
          "base_uri": "https://localhost:8080/"
        },
        "id": "fmLsWym0u1Tv",
        "outputId": "36609293-1106-4614-8f30-8d68b8edb664"
      },
      "execution_count": 5,
      "outputs": [
        {
          "output_type": "stream",
          "name": "stdout",
          "text": [
            "/content/context/data\n",
            "--2023-06-12 18:08:08--  https://data.vision.ee.ethz.ch/cvl/SumMe/SumMe.zip\n",
            "Resolving data.vision.ee.ethz.ch (data.vision.ee.ethz.ch)... 129.132.52.178, 2001:67c:10ec:36c2::178\n",
            "Connecting to data.vision.ee.ethz.ch (data.vision.ee.ethz.ch)|129.132.52.178|:443... connected.\n",
            "HTTP request sent, awaiting response... 200 OK\n",
            "Length: 2396688224 (2.2G) [application/zip]\n",
            "Saving to: ‘SumMe.zip’\n",
            "\n",
            "SumMe.zip           100%[===================>]   2.23G  16.2MB/s    in 94s     \n",
            "\n",
            "2023-06-12 18:09:43 (24.2 MB/s) - ‘SumMe.zip’ saved [2396688224/2396688224]\n",
            "\n",
            "Archive:  SumMe.zip\n",
            "   creating: GT/\n",
            "  inflating: GT/Air_Force_One.mat    \n",
            "  inflating: GT/Base jumping.mat     \n",
            "  inflating: GT/Bearpark_climbing.mat  \n",
            "  inflating: GT/Bike Polo.mat        \n",
            "  inflating: GT/Bus_in_Rock_Tunnel.mat  \n",
            "  inflating: GT/Car_railcrossing.mat  \n",
            "  inflating: GT/Cockpit_Landing.mat  \n",
            "  inflating: GT/Cooking.mat          \n",
            "  inflating: GT/Eiffel Tower.mat     \n",
            "  inflating: GT/Excavators river crossing.mat  \n",
            "  inflating: GT/Fire Domino.mat      \n",
            "  inflating: GT/Jumps.mat            \n",
            "  inflating: GT/Kids_playing_in_leaves.mat  \n",
            "  inflating: GT/Notre_Dame.mat       \n",
            "  inflating: GT/Paintball.mat        \n",
            "  inflating: GT/Playing_on_water_slide.mat  \n",
            "  inflating: GT/Saving dolphines.mat  \n",
            "  inflating: GT/Scuba.mat            \n",
            "  inflating: GT/St Maarten Landing.mat  \n",
            "  inflating: GT/Statue of Liberty.mat  \n",
            "  inflating: GT/Uncut_Evening_Flight.mat  \n",
            "  inflating: GT/Valparaiso_Downhill.mat  \n",
            "  inflating: GT/car_over_camera.mat  \n",
            "  inflating: GT/paluma_jump.mat      \n",
            "  inflating: GT/playing_ball.mat     \n",
            "  inflating: README.txt              \n",
            "  inflating: demo.m                  \n",
            "   creating: matlab/\n",
            "  inflating: matlab/summe_evaluateIOU.m  \n",
            "  inflating: matlab/summe_evaluateSummary.m  \n",
            "  inflating: matlab/summe_evaluateSummary.m~  \n",
            "  inflating: matlab/summe_plotAllResults.m  \n",
            "   creating: python/\n",
            "  inflating: python/demo.py          \n",
            "  inflating: python/demo.py~         \n",
            "  inflating: python/summe.py         \n",
            "  inflating: python/summe.py~        \n",
            "   creating: videos/\n",
            "  inflating: videos/.htaccess        \n",
            "  inflating: videos/Air_Force_One.mp4  \n",
            "  inflating: videos/Air_Force_One.webm  \n",
            "  inflating: videos/Base jumping.mp4  \n",
            " extracting: videos/Base jumping.webm  \n",
            "  inflating: videos/Bearpark_climbing.mp4  \n",
            "  inflating: videos/Bearpark_climbing.webm  \n",
            "  inflating: videos/Bike Polo.mp4    \n",
            " extracting: videos/Bike Polo.webm   \n",
            "  inflating: videos/Bus_in_Rock_Tunnel.mp4  \n",
            "  inflating: videos/Bus_in_Rock_Tunnel.webm  \n",
            "  inflating: videos/Car_railcrossing.mp4  \n",
            "  inflating: videos/Car_railcrossing.webm  \n",
            "  inflating: videos/Cockpit_Landing.mp4  \n",
            "  inflating: videos/Cockpit_Landing.webm  \n",
            "  inflating: videos/Cooking.mp4      \n",
            "  inflating: videos/Cooking.webm     \n",
            "  inflating: videos/Eiffel Tower.mp4  \n",
            "  inflating: videos/Eiffel Tower.webm  \n",
            "  inflating: videos/Excavators river crossing.mp4  \n",
            "  inflating: videos/Excavators river crossing.webm  \n",
            "  inflating: videos/Fire Domino.mp4  \n",
            "  inflating: videos/Fire Domino.webm  \n",
            "  inflating: videos/Jumps.mp4        \n",
            "  inflating: videos/Jumps.webm       \n",
            "  inflating: videos/Kids_playing_in_leaves.mp4  \n",
            "  inflating: videos/Kids_playing_in_leaves.webm  \n",
            "  inflating: videos/Notre_Dame.mp4   \n",
            "  inflating: videos/Notre_Dame.webm  \n",
            "  inflating: videos/Paintball.mp4    \n",
            "  inflating: videos/Paintball.webm   \n",
            "  inflating: videos/Playing_on_water_slide.mp4  \n",
            "  inflating: videos/Playing_on_water_slide.webm  \n",
            "  inflating: videos/Saving dolphines.mp4  \n",
            "  inflating: videos/Saving dolphines.webm  \n",
            "  inflating: videos/Scuba.mp4        \n",
            " extracting: videos/Scuba.webm       \n",
            "  inflating: videos/St Maarten Landing.mp4  \n",
            " extracting: videos/St Maarten Landing.webm  \n",
            "  inflating: videos/Statue of Liberty.mp4  \n",
            " extracting: videos/Statue of Liberty.webm  \n",
            "  inflating: videos/Uncut_Evening_Flight.mp4  \n",
            "  inflating: videos/Uncut_Evening_Flight.webm  \n",
            "  inflating: videos/Valparaiso_Downhill.mp4  \n",
            "  inflating: videos/Valparaiso_Downhill.webm  \n",
            "  inflating: videos/car_over_camera.mp4  \n",
            "  inflating: videos/car_over_camera.webm  \n",
            "  inflating: videos/paluma_jump.mp4  \n",
            "  inflating: videos/paluma_jump.webm  \n",
            "  inflating: videos/playing_ball.mp4  \n",
            "  inflating: videos/playing_ball.webm  \n",
            "  inflating: videos/videos2frames.sh~  \n",
            "download_summe.sh: 7: cd: can't cd to SumMe/videos\n",
            "mv: cannot move 'GT' to a subdirectory of itself, 'GT/GT'\n",
            "mv: 'README.txt' and 'README.txt' are the same file\n",
            "mv: 'demo.m' and 'demo.m' are the same file\n",
            "mv: 'download_summe.sh' and 'download_summe.sh' are the same file\n",
            "mv: 'eccv16_dataset_summe_google_pool5.h5' and 'eccv16_dataset_summe_google_pool5.h5' are the same file\n",
            "mv: cannot move 'matlab' to a subdirectory of itself, 'matlab/matlab'\n",
            "mv: cannot move 'python' to a subdirectory of itself, 'python/python'\n",
            "mv: cannot move 'videos' to a subdirectory of itself, 'videos/videos'\n",
            "download_summe.sh: 10: cd: can't cd to ../GT\n",
            "mv: cannot move 'GT' to a subdirectory of itself, 'GT/GT'\n",
            "mv: 'README.txt' and 'README.txt' are the same file\n",
            "mv: 'demo.m' and 'demo.m' are the same file\n",
            "mv: 'download_summe.sh' and 'download_summe.sh' are the same file\n",
            "mv: 'eccv16_dataset_summe_google_pool5.h5' and 'eccv16_dataset_summe_google_pool5.h5' are the same file\n",
            "mv: cannot move 'matlab' to a subdirectory of itself, 'matlab/matlab'\n",
            "mv: cannot move 'python' to a subdirectory of itself, 'python/python'\n",
            "mv: cannot move 'videos' to a subdirectory of itself, 'videos/videos'\n"
          ]
        }
      ]
    },
    {
      "cell_type": "code",
      "source": [
        "%cd /content/context\n",
        "!git fetch origin\n",
        "!git reset --hard origin/main"
      ],
      "metadata": {
        "colab": {
          "base_uri": "https://localhost:8080/"
        },
        "id": "PVNo9_oKzY6S",
        "outputId": "3412d0b4-a597-4872-a28a-cdc83f944de4"
      },
      "execution_count": null,
      "outputs": [
        {
          "output_type": "stream",
          "name": "stdout",
          "text": [
            "/content/context\n",
            "HEAD is now at 5c872e9 Sorted keyframes with autoselection\n"
          ]
        }
      ]
    },
    {
      "cell_type": "code",
      "source": [
        "%cd /content/context\n",
        "%pip install -r requirements.txt"
      ],
      "metadata": {
        "colab": {
          "base_uri": "https://localhost:8080/",
          "height": 1000
        },
        "id": "P-8_KiVXxbHO",
        "outputId": "ddb7823c-850f-4ed2-b506-60c9f937bc34"
      },
      "execution_count": null,
      "outputs": [
        {
          "output_type": "stream",
          "name": "stdout",
          "text": [
            "/content/context\n",
            "Looking in indexes: https://pypi.org/simple, https://us-python.pkg.dev/colab-wheels/public/simple/\n",
            "Collecting certifi==2023.5.7 (from -r requirements.txt (line 1))\n",
            "  Downloading certifi-2023.5.7-py3-none-any.whl (156 kB)\n",
            "\u001b[2K     \u001b[90m━━━━━━━━━━━━━━━━━━━━━━━━━━━━━━━━━━━━━━━\u001b[0m \u001b[32m157.0/157.0 kB\u001b[0m \u001b[31m4.1 MB/s\u001b[0m eta \u001b[36m0:00:00\u001b[0m\n",
            "\u001b[?25hCollecting charset-normalizer==3.1.0 (from -r requirements.txt (line 2))\n",
            "  Downloading charset_normalizer-3.1.0-cp310-cp310-manylinux_2_17_x86_64.manylinux2014_x86_64.whl (199 kB)\n",
            "\u001b[2K     \u001b[90m━━━━━━━━━━━━━━━━━━━━━━━━━━━━━━━━━━━━━━\u001b[0m \u001b[32m199.3/199.3 kB\u001b[0m \u001b[31m10.3 MB/s\u001b[0m eta \u001b[36m0:00:00\u001b[0m\n",
            "\u001b[?25hCollecting ffmpeg==1.4 (from -r requirements.txt (line 3))\n",
            "  Downloading ffmpeg-1.4.tar.gz (5.1 kB)\n",
            "  Preparing metadata (setup.py) ... \u001b[?25l\u001b[?25hdone\n",
            "Requirement already satisfied: filelock==3.12.0 in /usr/local/lib/python3.10/dist-packages (from -r requirements.txt (line 4)) (3.12.0)\n",
            "Collecting fsspec==2023.5.0 (from -r requirements.txt (line 5))\n",
            "  Downloading fsspec-2023.5.0-py3-none-any.whl (160 kB)\n",
            "\u001b[2K     \u001b[90m━━━━━━━━━━━━━━━━━━━━━━━━━━━━━━━━━━━━━━\u001b[0m \u001b[32m160.1/160.1 kB\u001b[0m \u001b[31m13.4 MB/s\u001b[0m eta \u001b[36m0:00:00\u001b[0m\n",
            "\u001b[?25hCollecting huggingface-hub==0.14.1 (from -r requirements.txt (line 6))\n",
            "  Downloading huggingface_hub-0.14.1-py3-none-any.whl (224 kB)\n",
            "\u001b[2K     \u001b[90m━━━━━━━━━━━━━━━━━━━━━━━━━━━━━━━━━━━━━━\u001b[0m \u001b[32m224.5/224.5 kB\u001b[0m \u001b[31m15.7 MB/s\u001b[0m eta \u001b[36m0:00:00\u001b[0m\n",
            "\u001b[?25hRequirement already satisfied: idna==3.4 in /usr/local/lib/python3.10/dist-packages (from -r requirements.txt (line 7)) (3.4)\n",
            "Requirement already satisfied: Jinja2==3.1.2 in /usr/local/lib/python3.10/dist-packages (from -r requirements.txt (line 8)) (3.1.2)\n",
            "Requirement already satisfied: joblib==1.2.0 in /usr/local/lib/python3.10/dist-packages (from -r requirements.txt (line 9)) (1.2.0)\n",
            "Requirement already satisfied: MarkupSafe==2.1.2 in /usr/local/lib/python3.10/dist-packages (from -r requirements.txt (line 10)) (2.1.2)\n",
            "Requirement already satisfied: mpmath==1.3.0 in /usr/local/lib/python3.10/dist-packages (from -r requirements.txt (line 11)) (1.3.0)\n",
            "Requirement already satisfied: networkx==3.1 in /usr/local/lib/python3.10/dist-packages (from -r requirements.txt (line 12)) (3.1)\n",
            "Collecting numpy==1.24.3 (from -r requirements.txt (line 13))\n",
            "  Downloading numpy-1.24.3-cp310-cp310-manylinux_2_17_x86_64.manylinux2014_x86_64.whl (17.3 MB)\n",
            "\u001b[2K     \u001b[90m━━━━━━━━━━━━━━━━━━━━━━━━━━━━━━━━━━━━━━━━\u001b[0m \u001b[32m17.3/17.3 MB\u001b[0m \u001b[31m23.1 MB/s\u001b[0m eta \u001b[36m0:00:00\u001b[0m\n",
            "\u001b[?25hRequirement already satisfied: opencv-python==4.7.0.72 in /usr/local/lib/python3.10/dist-packages (from -r requirements.txt (line 14)) (4.7.0.72)\n",
            "Requirement already satisfied: packaging==23.1 in /usr/local/lib/python3.10/dist-packages (from -r requirements.txt (line 15)) (23.1)\n",
            "Collecting Pillow==9.5.0 (from -r requirements.txt (line 16))\n",
            "  Downloading Pillow-9.5.0-cp310-cp310-manylinux_2_28_x86_64.whl (3.4 MB)\n",
            "\u001b[2K     \u001b[90m━━━━━━━━━━━━━━━━━━━━━━━━━━━━━━━━━━━━━━━━\u001b[0m \u001b[32m3.4/3.4 MB\u001b[0m \u001b[31m37.0 MB/s\u001b[0m eta \u001b[36m0:00:00\u001b[0m\n",
            "\u001b[?25hRequirement already satisfied: PyYAML==6.0 in /usr/local/lib/python3.10/dist-packages (from -r requirements.txt (line 17)) (6.0)\n",
            "Collecting regex==2023.5.5 (from -r requirements.txt (line 18))\n",
            "  Downloading regex-2023.5.5-cp310-cp310-manylinux_2_17_x86_64.manylinux2014_x86_64.whl (769 kB)\n",
            "\u001b[2K     \u001b[90m━━━━━━━━━━━━━━━━━━━━━━━━━━━━━━━━━━━━━━━\u001b[0m \u001b[32m769.7/769.7 kB\u001b[0m \u001b[31m7.6 MB/s\u001b[0m eta \u001b[36m0:00:00\u001b[0m\n",
            "\u001b[?25hCollecting requests==2.30.0 (from -r requirements.txt (line 19))\n",
            "  Downloading requests-2.30.0-py3-none-any.whl (62 kB)\n",
            "\u001b[2K     \u001b[90m━━━━━━━━━━━━━━━━━━━━━━━━━━━━━━━━━━━━━━━━\u001b[0m \u001b[32m62.5/62.5 kB\u001b[0m \u001b[31m6.5 MB/s\u001b[0m eta \u001b[36m0:00:00\u001b[0m\n",
            "\u001b[?25hRequirement already satisfied: scikit-learn==1.2.2 in /usr/local/lib/python3.10/dist-packages (from -r requirements.txt (line 20)) (1.2.2)\n",
            "Requirement already satisfied: scipy==1.10.1 in /usr/local/lib/python3.10/dist-packages (from -r requirements.txt (line 21)) (1.10.1)\n",
            "Collecting sympy==1.12 (from -r requirements.txt (line 22))\n",
            "  Downloading sympy-1.12-py3-none-any.whl (5.7 MB)\n",
            "\u001b[2K     \u001b[90m━━━━━━━━━━━━━━━━━━━━━━━━━━━━━━━━━━━━━━━━\u001b[0m \u001b[32m5.7/5.7 MB\u001b[0m \u001b[31m57.8 MB/s\u001b[0m eta \u001b[36m0:00:00\u001b[0m\n",
            "\u001b[?25hRequirement already satisfied: threadpoolctl==3.1.0 in /usr/local/lib/python3.10/dist-packages (from -r requirements.txt (line 23)) (3.1.0)\n",
            "Collecting tokenizers==0.13.3 (from -r requirements.txt (line 24))\n",
            "  Downloading tokenizers-0.13.3-cp310-cp310-manylinux_2_17_x86_64.manylinux2014_x86_64.whl (7.8 MB)\n",
            "\u001b[2K     \u001b[90m━━━━━━━━━━━━━━━━━━━━━━━━━━━━━━━━━━━━━━━━\u001b[0m \u001b[32m7.8/7.8 MB\u001b[0m \u001b[31m42.3 MB/s\u001b[0m eta \u001b[36m0:00:00\u001b[0m\n",
            "\u001b[?25hRequirement already satisfied: torch==2.0.1 in /usr/local/lib/python3.10/dist-packages (from -r requirements.txt (line 25)) (2.0.1+cu118)\n",
            "Requirement already satisfied: torchvision==0.15.2 in /usr/local/lib/python3.10/dist-packages (from -r requirements.txt (line 26)) (0.15.2+cu118)\n",
            "Requirement already satisfied: tqdm==4.65.0 in /usr/local/lib/python3.10/dist-packages (from -r requirements.txt (line 27)) (4.65.0)\n",
            "Collecting transformers==4.29.1 (from -r requirements.txt (line 28))\n",
            "  Downloading transformers-4.29.1-py3-none-any.whl (7.1 MB)\n",
            "\u001b[2K     \u001b[90m━━━━━━━━━━━━━━━━━━━━━━━━━━━━━━━━━━━━━━━━\u001b[0m \u001b[32m7.1/7.1 MB\u001b[0m \u001b[31m47.1 MB/s\u001b[0m eta \u001b[36m0:00:00\u001b[0m\n",
            "\u001b[?25hRequirement already satisfied: typing_extensions==4.5.0 in /usr/local/lib/python3.10/dist-packages (from -r requirements.txt (line 29)) (4.5.0)\n",
            "Collecting urllib3==2.0.2 (from -r requirements.txt (line 30))\n",
            "  Downloading urllib3-2.0.2-py3-none-any.whl (123 kB)\n",
            "\u001b[2K     \u001b[90m━━━━━━━━━━━━━━━━━━━━━━━━━━━━━━━━━━━━━━\u001b[0m \u001b[32m123.2/123.2 kB\u001b[0m \u001b[31m13.6 MB/s\u001b[0m eta \u001b[36m0:00:00\u001b[0m\n",
            "\u001b[?25hRequirement already satisfied: opencv-python-headless==4.7.0.72 in /usr/local/lib/python3.10/dist-packages (from -r requirements.txt (line 45)) (4.7.0.72)\n",
            "Collecting pydub==0.25.1 (from -r requirements.txt (line 48))\n",
            "  Downloading pydub-0.25.1-py2.py3-none-any.whl (32 kB)\n",
            "Collecting sk-video==1.1.10 (from -r requirements.txt (line 86))\n",
            "  Downloading sk_video-1.1.10-py2.py3-none-any.whl (2.3 MB)\n",
            "\u001b[2K     \u001b[90m━━━━━━━━━━━━━━━━━━━━━━━━━━━━━━━━━━━━━━━━\u001b[0m \u001b[32m2.3/2.3 MB\u001b[0m \u001b[31m42.2 MB/s\u001b[0m eta \u001b[36m0:00:00\u001b[0m\n",
            "\u001b[?25hRequirement already satisfied: contourpy==1.0.7 in /usr/local/lib/python3.10/dist-packages (from -r requirements.txt (line 98)) (1.0.7)\n",
            "Requirement already satisfied: cycler==0.11.0 in /usr/local/lib/python3.10/dist-packages (from -r requirements.txt (line 99)) (0.11.0)\n",
            "Collecting fonttools==4.39.4 (from -r requirements.txt (line 102))\n",
            "  Downloading fonttools-4.39.4-py3-none-any.whl (1.0 MB)\n",
            "\u001b[2K     \u001b[90m━━━━━━━━━━━━━━━━━━━━━━━━━━━━━━━━━━━━━━━━\u001b[0m \u001b[32m1.0/1.0 MB\u001b[0m \u001b[31m51.0 MB/s\u001b[0m eta \u001b[36m0:00:00\u001b[0m\n",
            "\u001b[?25hRequirement already satisfied: h5py==3.8.0 in /usr/local/lib/python3.10/dist-packages (from -r requirements.txt (line 104)) (3.8.0)\n",
            "Requirement already satisfied: kiwisolver==1.4.4 in /usr/local/lib/python3.10/dist-packages (from -r requirements.txt (line 109)) (1.4.4)\n",
            "Requirement already satisfied: matplotlib==3.7.1 in /usr/local/lib/python3.10/dist-packages (from -r requirements.txt (line 111)) (3.7.1)\n",
            "Requirement already satisfied: pyparsing==3.0.9 in /usr/local/lib/python3.10/dist-packages (from -r requirements.txt (line 120)) (3.0.9)\n",
            "Requirement already satisfied: python-dateutil==2.8.2 in /usr/local/lib/python3.10/dist-packages (from -r requirements.txt (line 121)) (2.8.2)\n",
            "Requirement already satisfied: six==1.16.0 in /usr/local/lib/python3.10/dist-packages (from -r requirements.txt (line 127)) (1.16.0)\n",
            "Requirement already satisfied: triton==2.0.0 in /usr/local/lib/python3.10/dist-packages (from torch==2.0.1->-r requirements.txt (line 25)) (2.0.0)\n",
            "Requirement already satisfied: cmake in /usr/local/lib/python3.10/dist-packages (from triton==2.0.0->torch==2.0.1->-r requirements.txt (line 25)) (3.25.2)\n",
            "Requirement already satisfied: lit in /usr/local/lib/python3.10/dist-packages (from triton==2.0.0->torch==2.0.1->-r requirements.txt (line 25)) (16.0.5)\n",
            "Building wheels for collected packages: ffmpeg\n",
            "  Building wheel for ffmpeg (setup.py) ... \u001b[?25l\u001b[?25hdone\n",
            "  Created wheel for ffmpeg: filename=ffmpeg-1.4-py3-none-any.whl size=6083 sha256=c2c4b7c6fbbc07984c2a7f9b48abd3eb9c9cf0c67701d59faf01691d2e425c32\n",
            "  Stored in directory: /root/.cache/pip/wheels/8e/7a/69/cd6aeb83b126a7f04cbe7c9d929028dc52a6e7d525ff56003a\n",
            "Successfully built ffmpeg\n",
            "Installing collected packages: tokenizers, pydub, ffmpeg, urllib3, sympy, regex, Pillow, numpy, fsspec, fonttools, charset-normalizer, certifi, requests, sk-video, huggingface-hub, transformers\n",
            "  Attempting uninstall: urllib3\n",
            "    Found existing installation: urllib3 1.26.15\n",
            "    Uninstalling urllib3-1.26.15:\n",
            "      Successfully uninstalled urllib3-1.26.15\n",
            "  Attempting uninstall: sympy\n",
            "    Found existing installation: sympy 1.11.1\n",
            "    Uninstalling sympy-1.11.1:\n",
            "      Successfully uninstalled sympy-1.11.1\n",
            "  Attempting uninstall: regex\n",
            "    Found existing installation: regex 2022.10.31\n",
            "    Uninstalling regex-2022.10.31:\n",
            "      Successfully uninstalled regex-2022.10.31\n",
            "  Attempting uninstall: Pillow\n",
            "    Found existing installation: Pillow 8.4.0\n",
            "    Uninstalling Pillow-8.4.0:\n",
            "      Successfully uninstalled Pillow-8.4.0\n",
            "  Attempting uninstall: numpy\n",
            "    Found existing installation: numpy 1.22.4\n",
            "    Uninstalling numpy-1.22.4:\n",
            "      Successfully uninstalled numpy-1.22.4\n",
            "  Attempting uninstall: fsspec\n",
            "    Found existing installation: fsspec 2023.4.0\n",
            "    Uninstalling fsspec-2023.4.0:\n",
            "      Successfully uninstalled fsspec-2023.4.0\n",
            "  Attempting uninstall: fonttools\n",
            "    Found existing installation: fonttools 4.39.3\n",
            "    Uninstalling fonttools-4.39.3:\n",
            "      Successfully uninstalled fonttools-4.39.3\n",
            "  Attempting uninstall: charset-normalizer\n",
            "    Found existing installation: charset-normalizer 2.0.12\n",
            "    Uninstalling charset-normalizer-2.0.12:\n",
            "      Successfully uninstalled charset-normalizer-2.0.12\n",
            "  Attempting uninstall: certifi\n",
            "    Found existing installation: certifi 2022.12.7\n",
            "    Uninstalling certifi-2022.12.7:\n",
            "      Successfully uninstalled certifi-2022.12.7\n",
            "  Attempting uninstall: requests\n",
            "    Found existing installation: requests 2.27.1\n",
            "    Uninstalling requests-2.27.1:\n",
            "      Successfully uninstalled requests-2.27.1\n",
            "\u001b[31mERROR: pip's dependency resolver does not currently take into account all the packages that are installed. This behaviour is the source of the following dependency conflicts.\n",
            "google-colab 1.0.0 requires requests==2.27.1, but you have requests 2.30.0 which is incompatible.\n",
            "numba 0.56.4 requires numpy<1.24,>=1.18, but you have numpy 1.24.3 which is incompatible.\n",
            "tensorflow 2.12.0 requires numpy<1.24,>=1.22, but you have numpy 1.24.3 which is incompatible.\u001b[0m\u001b[31m\n",
            "\u001b[0mSuccessfully installed Pillow-9.5.0 certifi-2023.5.7 charset-normalizer-3.1.0 ffmpeg-1.4 fonttools-4.39.4 fsspec-2023.5.0 huggingface-hub-0.14.1 numpy-1.24.3 pydub-0.25.1 regex-2023.5.5 requests-2.30.0 sk-video-1.1.10 sympy-1.12 tokenizers-0.13.3 transformers-4.29.1 urllib3-2.0.2\n"
          ]
        },
        {
          "output_type": "display_data",
          "data": {
            "application/vnd.colab-display-data+json": {
              "pip_warning": {
                "packages": [
                  "PIL",
                  "certifi",
                  "numpy"
                ]
              }
            }
          },
          "metadata": {}
        }
      ]
    },
    {
      "cell_type": "code",
      "source": [
        "%rm -rf \"/content/drive/MyDrive/HCMUS/Y4/Thesis/Codes/summe/context\"\n",
        "%mkdir \"/content/drive/MyDrive/HCMUS/Y4/Thesis/Codes/summe/context\""
      ],
      "metadata": {
        "id": "Hn0lF9193PHT"
      },
      "execution_count": null,
      "outputs": []
    },
    {
      "cell_type": "code",
      "source": [
        "%cd /content/context\n",
        "%rm -rf \"/content/drive/MyDrive/HCMUS/Y4/Thesis/Codes/summe/context/dino\"\n",
        "%mkdir \"/content/drive/MyDrive/HCMUS/Y4/Thesis/Codes/summe/context/dino\"\n",
        "%mkdir \"/content/drive/MyDrive/HCMUS/Y4/Thesis/Codes/summe/context/dino/embeddings\"\n",
        "%run scripts/context.py \\\n",
        "--video-folder data/videos \\\n",
        "--embedding-folder \"/content/drive/MyDrive/HCMUS/Y4/Thesis/Codes/summe/context/dino/embeddings\" \\\n",
        "--frame-rate 4 \\\n",
        "--representation cls"
      ],
      "metadata": {
        "colab": {
          "base_uri": "https://localhost:8080/",
          "height": 1000,
          "referenced_widgets": [
            "d065d1f899af4b7986fede087ebc46c9",
            "ecf4c24bf307456ba023c79d0564b2e8",
            "7979b04b09844cfe99bc3e2f1c3e8226",
            "7d8386644cf347cab2018467550bc3a4",
            "148f40decb514190a7b5b91a84e9b386",
            "ffb9016c12f146c6a53ca85a3ed1c318",
            "2ddc7ebc19894058be11ed844e4a2031",
            "1fa625cd0b99417db44311cb08e88239",
            "066bc3dc9ce446f9bbaf5fbb2d5f9a16",
            "385ea6fb7dfe43f1af7e7237a3d55955",
            "6475ff103cc0491ebab7b480527ac0c1",
            "045fec9796584a1e82f8c0dc29b4c460",
            "6c0e3cd79de0494389e4f0fe27a664c9",
            "096145f89bf64129a392582ec02353e8",
            "c464ff4bb25d403d8c9c1ecbcfca5dcf",
            "ddeacfbfce094ff7a76d8696b12028d8",
            "e56b2c90a4944659ba2ad019dd03d8f6",
            "c00e55274bc24d7aa98a88208cc1cb6a",
            "d7f8049c73184c06ba5cdefdcc477b8b",
            "da4d31ba6111459b90d10d39d9057172",
            "1b8b114d221a4d9fb14b6ad27993a97a",
            "69e7d8707fa04cd4b4d053b9cd6ad50b",
            "f7d55bb241c342b28e73f9623a46c907",
            "c865c6e628e64da39c809625e7f1c9cf",
            "d2e15ada57a14ea4a3c6d03c24e02088",
            "bd5073bb2bb94dffac92cf1029477c47",
            "a47bfe39c2c14b46be44bd867cddd7c4",
            "63d83e667e2a449e900486a2f989e196",
            "e69df449788645949946cbe40a34bd5e",
            "13672bdf90844858ad58fa03ec198fbc",
            "0fa9996be1654e51ac44598ca7058d24",
            "835ba02bff534cddafcc1fffa39f15e3",
            "c13b6205e96643979caae49b4090674c"
          ]
        },
        "id": "0MKOvWAMvBkn",
        "outputId": "6c37bd64-f567-44f3-b824-19e17a2569b7"
      },
      "execution_count": null,
      "outputs": [
        {
          "output_type": "stream",
          "name": "stdout",
          "text": [
            "/content/clustering\n",
            "Loading DINO model from facebook/dino-vitb16...\n"
          ]
        },
        {
          "output_type": "display_data",
          "data": {
            "text/plain": [
              "Downloading (…)rocessor_config.json:   0%|          | 0.00/244 [00:00<?, ?B/s]"
            ],
            "application/vnd.jupyter.widget-view+json": {
              "version_major": 2,
              "version_minor": 0,
              "model_id": "d065d1f899af4b7986fede087ebc46c9"
            }
          },
          "metadata": {}
        },
        {
          "output_type": "stream",
          "name": "stderr",
          "text": [
            "/usr/local/lib/python3.10/dist-packages/transformers/models/vit/feature_extraction_vit.py:28: FutureWarning: The class ViTFeatureExtractor is deprecated and will be removed in version 5 of Transformers. Please use ViTImageProcessor instead.\n",
            "  warnings.warn(\n"
          ]
        },
        {
          "output_type": "display_data",
          "data": {
            "text/plain": [
              "Downloading (…)lve/main/config.json:   0%|          | 0.00/454 [00:00<?, ?B/s]"
            ],
            "application/vnd.jupyter.widget-view+json": {
              "version_major": 2,
              "version_minor": 0,
              "model_id": "045fec9796584a1e82f8c0dc29b4c460"
            }
          },
          "metadata": {}
        },
        {
          "output_type": "display_data",
          "data": {
            "text/plain": [
              "Downloading pytorch_model.bin:   0%|          | 0.00/343M [00:00<?, ?B/s]"
            ],
            "application/vnd.jupyter.widget-view+json": {
              "version_major": 2,
              "version_minor": 0,
              "model_id": "f7d55bb241c342b28e73f9623a46c907"
            }
          },
          "metadata": {}
        },
        {
          "output_type": "stream",
          "name": "stderr",
          "text": [
            "Some weights of ViTModel were not initialized from the model checkpoint at facebook/dino-vitb16 and are newly initialized: ['pooler.dense.weight', 'pooler.dense.bias']\n",
            "You should probably TRAIN this model on a down-stream task to be able to use it for predictions and inference.\n"
          ]
        },
        {
          "output_type": "stream",
          "name": "stdout",
          "text": [
            "Using cuda device\n",
            "Extracting features for playing_ball.mp4\n"
          ]
        },
        {
          "output_type": "stream",
          "name": "stderr",
          "text": [
            "100%|██████████| 446/446 [00:25<00:00, 17.62it/s]\n"
          ]
        },
        {
          "output_type": "stream",
          "name": "stdout",
          "text": [
            "Extracting features for Excavators river crossing.mp4\n"
          ]
        },
        {
          "output_type": "stream",
          "name": "stderr",
          "text": [
            "100%|██████████| 1621/1621 [01:25<00:00, 19.02it/s]\n"
          ]
        },
        {
          "output_type": "stream",
          "name": "stdout",
          "text": [
            "Extracting features for Car_railcrossing.mp4\n"
          ]
        },
        {
          "output_type": "stream",
          "name": "stderr",
          "text": [
            "100%|██████████| 725/725 [01:50<00:00,  6.54it/s]\n"
          ]
        },
        {
          "output_type": "stream",
          "name": "stdout",
          "text": [
            "Extracting features for Statue of Liberty.mp4\n"
          ]
        },
        {
          "output_type": "stream",
          "name": "stderr",
          "text": [
            "100%|██████████| 644/644 [00:40<00:00, 15.90it/s]\n"
          ]
        },
        {
          "output_type": "stream",
          "name": "stdout",
          "text": [
            "Extracting features for Eiffel Tower.mp4\n"
          ]
        },
        {
          "output_type": "stream",
          "name": "stderr",
          "text": [
            "100%|██████████| 829/829 [04:27<00:00,  3.10it/s]\n"
          ]
        },
        {
          "output_type": "stream",
          "name": "stdout",
          "text": [
            "Extracting features for Notre_Dame.mp4\n"
          ]
        },
        {
          "output_type": "stream",
          "name": "stderr",
          "text": [
            "100%|██████████| 768/768 [04:08<00:00,  3.08it/s]\n"
          ]
        },
        {
          "output_type": "stream",
          "name": "stdout",
          "text": [
            "Extracting features for Paintball.mp4\n"
          ]
        },
        {
          "output_type": "stream",
          "name": "stderr",
          "text": [
            "100%|██████████| 1220/1220 [02:48<00:00,  7.23it/s]\n"
          ]
        },
        {
          "output_type": "stream",
          "name": "stdout",
          "text": [
            "Extracting features for paluma_jump.mp4\n"
          ]
        },
        {
          "output_type": "stream",
          "name": "stderr",
          "text": [
            "100%|██████████| 368/368 [00:25<00:00, 14.35it/s]\n"
          ]
        },
        {
          "output_type": "stream",
          "name": "stdout",
          "text": [
            "Extracting features for Bike Polo.mp4\n"
          ]
        },
        {
          "output_type": "stream",
          "name": "stderr",
          "text": [
            "100%|██████████| 438/438 [01:09<00:00,  6.35it/s]\n"
          ]
        },
        {
          "output_type": "stream",
          "name": "stdout",
          "text": [
            "Extracting features for Scuba.mp4\n"
          ]
        },
        {
          "output_type": "stream",
          "name": "stderr",
          "text": [
            "100%|██████████| 318/318 [00:52<00:00,  6.06it/s]\n"
          ]
        },
        {
          "output_type": "stream",
          "name": "stdout",
          "text": [
            "Extracting features for Kids_playing_in_leaves.mp4\n"
          ]
        },
        {
          "output_type": "stream",
          "name": "stderr",
          "text": [
            "100%|██████████| 456/456 [01:12<00:00,  6.27it/s]\n"
          ]
        },
        {
          "output_type": "stream",
          "name": "stdout",
          "text": [
            "Extracting features for St Maarten Landing.mp4\n"
          ]
        },
        {
          "output_type": "stream",
          "name": "stderr",
          "text": [
            "100%|██████████| 292/292 [00:23<00:00, 12.35it/s]\n"
          ]
        },
        {
          "output_type": "stream",
          "name": "stdout",
          "text": [
            "Extracting features for Air_Force_One.mp4\n"
          ]
        },
        {
          "output_type": "stream",
          "name": "stderr",
          "text": [
            "100%|██████████| 749/749 [03:48<00:00,  3.28it/s]\n"
          ]
        },
        {
          "output_type": "stream",
          "name": "stdout",
          "text": [
            "Extracting features for Bus_in_Rock_Tunnel.mp4\n"
          ]
        },
        {
          "output_type": "stream",
          "name": "stderr",
          "text": [
            "100%|██████████| 733/733 [00:39<00:00, 18.46it/s]\n"
          ]
        },
        {
          "output_type": "stream",
          "name": "stdout",
          "text": [
            "Extracting features for Cooking.mp4\n"
          ]
        },
        {
          "output_type": "stream",
          "name": "stderr",
          "text": [
            "100%|██████████| 427/427 [00:12<00:00, 33.54it/s]\n"
          ]
        },
        {
          "output_type": "stream",
          "name": "stdout",
          "text": [
            "Extracting features for car_over_camera.mp4\n"
          ]
        },
        {
          "output_type": "stream",
          "name": "stderr",
          "text": [
            "100%|██████████| 626/626 [00:38<00:00, 16.05it/s]\n"
          ]
        },
        {
          "output_type": "stream",
          "name": "stdout",
          "text": [
            "Extracting features for Uncut_Evening_Flight.mp4\n"
          ]
        },
        {
          "output_type": "stream",
          "name": "stderr",
          "text": [
            "100%|██████████| 1382/1382 [03:32<00:00,  6.49it/s]\n"
          ]
        },
        {
          "output_type": "stream",
          "name": "stdout",
          "text": [
            "Extracting features for Saving dolphines.mp4\n"
          ]
        },
        {
          "output_type": "stream",
          "name": "stderr",
          "text": [
            "100%|██████████| 955/955 [02:01<00:00,  7.86it/s]\n"
          ]
        },
        {
          "output_type": "stream",
          "name": "stdout",
          "text": [
            "Extracting features for Bearpark_climbing.mp4\n"
          ]
        },
        {
          "output_type": "stream",
          "name": "stderr",
          "text": [
            "100%|██████████| 557/557 [01:33<00:00,  5.98it/s]\n"
          ]
        },
        {
          "output_type": "stream",
          "name": "stdout",
          "text": [
            "Extracting features for Jumps.mp4\n"
          ]
        },
        {
          "output_type": "stream",
          "name": "stderr",
          "text": [
            "100%|██████████| 159/159 [00:05<00:00, 30.52it/s]\n"
          ]
        },
        {
          "output_type": "stream",
          "name": "stdout",
          "text": [
            "Extracting features for Base jumping.mp4\n"
          ]
        },
        {
          "output_type": "stream",
          "name": "stderr",
          "text": [
            "100%|██████████| 676/676 [01:02<00:00, 10.81it/s]\n"
          ]
        },
        {
          "output_type": "stream",
          "name": "stdout",
          "text": [
            "Extracting features for Valparaiso_Downhill.mp4\n"
          ]
        },
        {
          "output_type": "stream",
          "name": "stderr",
          "text": [
            "100%|██████████| 740/740 [02:00<00:00,  6.13it/s]\n"
          ]
        },
        {
          "output_type": "stream",
          "name": "stdout",
          "text": [
            "Extracting features for Playing_on_water_slide.mp4\n"
          ]
        },
        {
          "output_type": "stream",
          "name": "stderr",
          "text": [
            "100%|██████████| 438/438 [00:19<00:00, 22.37it/s]\n"
          ]
        },
        {
          "output_type": "stream",
          "name": "stdout",
          "text": [
            "Extracting features for Fire Domino.mp4\n"
          ]
        },
        {
          "output_type": "stream",
          "name": "stderr",
          "text": [
            "100%|██████████| 231/231 [00:09<00:00, 23.85it/s]\n"
          ]
        },
        {
          "output_type": "stream",
          "name": "stdout",
          "text": [
            "Extracting features for Cockpit_Landing.mp4\n"
          ]
        },
        {
          "output_type": "stream",
          "name": "stderr",
          "text": [
            "100%|██████████| 1293/1293 [03:22<00:00,  6.39it/s]\n"
          ]
        },
        {
          "output_type": "stream",
          "name": "stdout",
          "text": [
            "--- 2827.8229434490204 seconds ---\n"
          ]
        }
      ]
    },
    {
      "cell_type": "code",
      "source": [
        "%cd /content/context\n",
        "%rm -rf \"/content/drive/MyDrive/HCMUS/Y4/Thesis/Codes/summe/context/dino/contexts\"\n",
        "%mkdir \"/content/drive/MyDrive/HCMUS/Y4/Thesis/Codes/summe/context/dino/contexts\"\n",
        "%run scripts/extraction.py \\\n",
        "--embedding-folder \"/content/drive/MyDrive/HCMUS/Y4/Thesis/Codes/summe/context/dino/embeddings\" \\\n",
        "--context-folder \"/content/drive/MyDrive/HCMUS/Y4/Thesis/Codes/summe/context/dino/contexts\" \\\n",
        "--method ours \\\n",
        "--num-clusters 6 \\\n",
        "--distance cosine \\\n",
        "--embedding-dim 3 \\\n",
        "--window-size 5 \\\n",
        "--min-seg-length 3 \\\n",
        "--modulation 1e-3"
      ],
      "metadata": {
        "id": "Uldp-KcixXOi",
        "colab": {
          "base_uri": "https://localhost:8080/"
        },
        "outputId": "06b7fa2f-43bf-407f-f840-7aca436eb1ea"
      },
      "execution_count": null,
      "outputs": [
        {
          "output_type": "stream",
          "name": "stdout",
          "text": [
            "/content/context\n",
            "Processing the context of video playing_ball\n",
            "The extracted context has 446 embeddings\n",
            "Clustering frames of playing_ball\n",
            "Initial number of clusters is 52 with modulation 0.001\n",
            "Using our method\n",
            "Using our method with cosine distance metric and 52 clusters\n"
          ]
        },
        {
          "output_type": "stream",
          "name": "stderr",
          "text": [
            "/usr/local/lib/python3.10/dist-packages/sklearn/cluster/_agglomerative.py:552: UserWarning: the number of connected components of the connectivity matrix is 39 > 1. Completing it to avoid stopping the tree early.\n",
            "  connectivity, n_connected_components = _fix_connectivity(\n"
          ]
        },
        {
          "output_type": "stream",
          "name": "stdout",
          "text": [
            "Number of clusters: 52\n",
            "Number of segments: 53\n",
            "Processing the context of video Excavators river crossing\n",
            "The extracted context has 1621 embeddings\n",
            "Clustering frames of Excavators river crossing\n",
            "Initial number of clusters is 160 with modulation 0.001\n",
            "Using our method\n",
            "Using our method with cosine distance metric and 160 clusters\n"
          ]
        },
        {
          "output_type": "stream",
          "name": "stderr",
          "text": [
            "/usr/local/lib/python3.10/dist-packages/sklearn/cluster/_agglomerative.py:552: UserWarning: the number of connected components of the connectivity matrix is 48 > 1. Completing it to avoid stopping the tree early.\n",
            "  connectivity, n_connected_components = _fix_connectivity(\n"
          ]
        },
        {
          "output_type": "stream",
          "name": "stdout",
          "text": [
            "Number of clusters: 160\n",
            "Number of segments: 200\n",
            "Processing the context of video Car_railcrossing\n",
            "The extracted context has 725 embeddings\n",
            "Clustering frames of Car_railcrossing\n",
            "Initial number of clusters is 83 with modulation 0.001\n",
            "Using our method\n",
            "Using our method with cosine distance metric and 83 clusters\n",
            "Number of clusters: 83\n",
            "Number of segments: 51\n",
            "Processing the context of video Statue of Liberty\n",
            "The extracted context has 644 embeddings\n",
            "Clustering frames of Statue of Liberty\n",
            "Initial number of clusters is 74 with modulation 0.001\n",
            "Using our method\n"
          ]
        },
        {
          "output_type": "stream",
          "name": "stderr",
          "text": [
            "/usr/local/lib/python3.10/dist-packages/sklearn/cluster/_agglomerative.py:552: UserWarning: the number of connected components of the connectivity matrix is 16 > 1. Completing it to avoid stopping the tree early.\n",
            "  connectivity, n_connected_components = _fix_connectivity(\n"
          ]
        },
        {
          "output_type": "stream",
          "name": "stdout",
          "text": [
            "Using our method with cosine distance metric and 74 clusters\n"
          ]
        },
        {
          "output_type": "stream",
          "name": "stderr",
          "text": [
            "/usr/local/lib/python3.10/dist-packages/sklearn/cluster/_agglomerative.py:552: UserWarning: the number of connected components of the connectivity matrix is 24 > 1. Completing it to avoid stopping the tree early.\n",
            "  connectivity, n_connected_components = _fix_connectivity(\n"
          ]
        },
        {
          "output_type": "stream",
          "name": "stdout",
          "text": [
            "Number of clusters: 74\n",
            "Number of segments: 60\n",
            "Processing the context of video Eiffel Tower\n",
            "The extracted context has 829 embeddings\n",
            "Clustering frames of Eiffel Tower\n",
            "Initial number of clusters is 94 with modulation 0.001\n",
            "Using our method\n",
            "Using our method with cosine distance metric and 94 clusters\n",
            "Number of clusters: 94\n",
            "Number of segments: 82\n",
            "Processing the context of video Notre_Dame\n"
          ]
        },
        {
          "output_type": "stream",
          "name": "stderr",
          "text": [
            "/usr/local/lib/python3.10/dist-packages/sklearn/cluster/_agglomerative.py:552: UserWarning: the number of connected components of the connectivity matrix is 17 > 1. Completing it to avoid stopping the tree early.\n",
            "  connectivity, n_connected_components = _fix_connectivity(\n"
          ]
        },
        {
          "output_type": "stream",
          "name": "stdout",
          "text": [
            "The extracted context has 768 embeddings\n",
            "Clustering frames of Notre_Dame\n",
            "Initial number of clusters is 87 with modulation 0.001\n",
            "Using our method\n",
            "Using our method with cosine distance metric and 87 clusters\n"
          ]
        },
        {
          "output_type": "stream",
          "name": "stderr",
          "text": [
            "/usr/local/lib/python3.10/dist-packages/sklearn/cluster/_agglomerative.py:552: UserWarning: the number of connected components of the connectivity matrix is 27 > 1. Completing it to avoid stopping the tree early.\n",
            "  connectivity, n_connected_components = _fix_connectivity(\n"
          ]
        },
        {
          "output_type": "stream",
          "name": "stdout",
          "text": [
            "Number of clusters: 87\n",
            "Number of segments: 75\n",
            "Processing the context of video Paintball\n",
            "The extracted context has 1220 embeddings\n",
            "Clustering frames of Paintball\n",
            "Initial number of clusters is 130 with modulation 0.001\n",
            "Using our method\n",
            "Using our method with cosine distance metric and 130 clusters\n"
          ]
        },
        {
          "output_type": "stream",
          "name": "stderr",
          "text": [
            "/usr/local/lib/python3.10/dist-packages/sklearn/cluster/_agglomerative.py:552: UserWarning: the number of connected components of the connectivity matrix is 20 > 1. Completing it to avoid stopping the tree early.\n",
            "  connectivity, n_connected_components = _fix_connectivity(\n"
          ]
        },
        {
          "output_type": "stream",
          "name": "stdout",
          "text": [
            "Number of clusters: 130\n",
            "Number of segments: 85\n",
            "Processing the context of video paluma_jump\n",
            "The extracted context has 368 embeddings\n",
            "Clustering frames of paluma_jump\n",
            "Initial number of clusters is 43 with modulation 0.001\n",
            "Using our method\n",
            "Using our method with cosine distance metric and 43 clusters\n"
          ]
        },
        {
          "output_type": "stream",
          "name": "stderr",
          "text": [
            "/usr/local/lib/python3.10/dist-packages/sklearn/cluster/_agglomerative.py:552: UserWarning: the number of connected components of the connectivity matrix is 28 > 1. Completing it to avoid stopping the tree early.\n",
            "  connectivity, n_connected_components = _fix_connectivity(\n"
          ]
        },
        {
          "output_type": "stream",
          "name": "stdout",
          "text": [
            "Number of clusters: 43\n",
            "Number of segments: 47\n",
            "Processing the context of video Bike Polo\n",
            "The extracted context has 438 embeddings\n",
            "Clustering frames of Bike Polo\n",
            "Initial number of clusters is 51 with modulation 0.001\n",
            "Using our method\n",
            "Using our method with cosine distance metric and 51 clusters\n"
          ]
        },
        {
          "output_type": "stream",
          "name": "stderr",
          "text": [
            "/usr/local/lib/python3.10/dist-packages/sklearn/cluster/_agglomerative.py:552: UserWarning: the number of connected components of the connectivity matrix is 29 > 1. Completing it to avoid stopping the tree early.\n",
            "  connectivity, n_connected_components = _fix_connectivity(\n"
          ]
        },
        {
          "output_type": "stream",
          "name": "stdout",
          "text": [
            "Number of clusters: 51\n",
            "Number of segments: 50\n",
            "Processing the context of video Scuba\n",
            "The extracted context has 318 embeddings\n",
            "Clustering frames of Scuba\n",
            "Initial number of clusters is 37 with modulation 0.001\n",
            "Using our method\n",
            "Using our method with cosine distance metric and 37 clusters\n",
            "Number of clusters: 37\n",
            "Number of segments: 38\n"
          ]
        },
        {
          "output_type": "stream",
          "name": "stderr",
          "text": [
            "/usr/local/lib/python3.10/dist-packages/sklearn/cluster/_agglomerative.py:552: UserWarning: the number of connected components of the connectivity matrix is 26 > 1. Completing it to avoid stopping the tree early.\n",
            "  connectivity, n_connected_components = _fix_connectivity(\n"
          ]
        },
        {
          "output_type": "stream",
          "name": "stdout",
          "text": [
            "Processing the context of video Kids_playing_in_leaves\n",
            "The extracted context has 456 embeddings\n",
            "Clustering frames of Kids_playing_in_leaves\n",
            "Initial number of clusters is 53 with modulation 0.001\n",
            "Using our method\n",
            "Using our method with cosine distance metric and 53 clusters\n",
            "Number of clusters: 53\n",
            "Number of segments: 39\n",
            "Processing the context of video St Maarten Landing\n",
            "The extracted context has 292 embeddings\n",
            "Clustering frames of St Maarten Landing\n",
            "Initial number of clusters is 34 with modulation 0.001\n",
            "Using our method\n"
          ]
        },
        {
          "output_type": "stream",
          "name": "stderr",
          "text": [
            "/usr/local/lib/python3.10/dist-packages/sklearn/cluster/_agglomerative.py:552: UserWarning: the number of connected components of the connectivity matrix is 22 > 1. Completing it to avoid stopping the tree early.\n",
            "  connectivity, n_connected_components = _fix_connectivity(\n"
          ]
        },
        {
          "output_type": "stream",
          "name": "stdout",
          "text": [
            "Using our method with cosine distance metric and 34 clusters\n",
            "Number of clusters: 34\n",
            "Number of segments: 26\n",
            "Processing the context of video Air_Force_One\n",
            "The extracted context has 749 embeddings\n",
            "Clustering frames of Air_Force_One\n",
            "Initial number of clusters is 85 with modulation 0.001\n",
            "Using our method\n"
          ]
        },
        {
          "output_type": "stream",
          "name": "stderr",
          "text": [
            "/usr/local/lib/python3.10/dist-packages/sklearn/cluster/_agglomerative.py:552: UserWarning: the number of connected components of the connectivity matrix is 17 > 1. Completing it to avoid stopping the tree early.\n",
            "  connectivity, n_connected_components = _fix_connectivity(\n"
          ]
        },
        {
          "output_type": "stream",
          "name": "stdout",
          "text": [
            "Using our method with cosine distance metric and 85 clusters\n",
            "Number of clusters: 85\n",
            "Number of segments: 56\n",
            "Processing the context of video Bus_in_Rock_Tunnel\n",
            "The extracted context has 733 embeddings\n",
            "Clustering frames of Bus_in_Rock_Tunnel\n",
            "Initial number of clusters is 84 with modulation 0.001\n",
            "Using our method\n"
          ]
        },
        {
          "output_type": "stream",
          "name": "stderr",
          "text": [
            "/usr/local/lib/python3.10/dist-packages/sklearn/cluster/_agglomerative.py:552: UserWarning: the number of connected components of the connectivity matrix is 10 > 1. Completing it to avoid stopping the tree early.\n",
            "  connectivity, n_connected_components = _fix_connectivity(\n"
          ]
        },
        {
          "output_type": "stream",
          "name": "stdout",
          "text": [
            "Using our method with cosine distance metric and 84 clusters\n"
          ]
        },
        {
          "output_type": "stream",
          "name": "stderr",
          "text": [
            "/usr/local/lib/python3.10/dist-packages/sklearn/cluster/_agglomerative.py:552: UserWarning: the number of connected components of the connectivity matrix is 30 > 1. Completing it to avoid stopping the tree early.\n",
            "  connectivity, n_connected_components = _fix_connectivity(\n"
          ]
        },
        {
          "output_type": "stream",
          "name": "stdout",
          "text": [
            "Number of clusters: 84\n",
            "Number of segments: 54\n",
            "Processing the context of video Cooking\n",
            "The extracted context has 427 embeddings\n",
            "Clustering frames of Cooking\n",
            "Initial number of clusters is 50 with modulation 0.001\n",
            "Using our method\n",
            "Using our method with cosine distance metric and 50 clusters\n"
          ]
        },
        {
          "output_type": "stream",
          "name": "stderr",
          "text": [
            "/usr/local/lib/python3.10/dist-packages/sklearn/cluster/_agglomerative.py:552: UserWarning: the number of connected components of the connectivity matrix is 37 > 1. Completing it to avoid stopping the tree early.\n",
            "  connectivity, n_connected_components = _fix_connectivity(\n"
          ]
        },
        {
          "output_type": "stream",
          "name": "stdout",
          "text": [
            "Number of clusters: 50\n",
            "Number of segments: 53\n",
            "Processing the context of video car_over_camera\n",
            "The extracted context has 626 embeddings\n",
            "Clustering frames of car_over_camera\n",
            "Initial number of clusters is 72 with modulation 0.001\n",
            "Using our method\n",
            "Using our method with cosine distance metric and 72 clusters\n"
          ]
        },
        {
          "output_type": "stream",
          "name": "stderr",
          "text": [
            "/usr/local/lib/python3.10/dist-packages/sklearn/cluster/_agglomerative.py:552: UserWarning: the number of connected components of the connectivity matrix is 15 > 1. Completing it to avoid stopping the tree early.\n",
            "  connectivity, n_connected_components = _fix_connectivity(\n"
          ]
        },
        {
          "output_type": "stream",
          "name": "stdout",
          "text": [
            "Number of clusters: 72\n",
            "Number of segments: 46\n",
            "Processing the context of video Uncut_Evening_Flight\n",
            "The extracted context has 1382 embeddings\n",
            "Clustering frames of Uncut_Evening_Flight\n",
            "Initial number of clusters is 143 with modulation 0.001\n",
            "Using our method\n",
            "Using our method with cosine distance metric and 143 clusters\n"
          ]
        },
        {
          "output_type": "stream",
          "name": "stderr",
          "text": [
            "/usr/local/lib/python3.10/dist-packages/sklearn/cluster/_agglomerative.py:552: UserWarning: the number of connected components of the connectivity matrix is 27 > 1. Completing it to avoid stopping the tree early.\n",
            "  connectivity, n_connected_components = _fix_connectivity(\n"
          ]
        },
        {
          "output_type": "stream",
          "name": "stdout",
          "text": [
            "Number of clusters: 143\n",
            "Number of segments: 131\n",
            "Processing the context of video Saving dolphines\n",
            "The extracted context has 955 embeddings\n",
            "Clustering frames of Saving dolphines\n",
            "Initial number of clusters is 106 with modulation 0.001\n",
            "Using our method\n",
            "Using our method with cosine distance metric and 106 clusters\n"
          ]
        },
        {
          "output_type": "stream",
          "name": "stderr",
          "text": [
            "/usr/local/lib/python3.10/dist-packages/sklearn/cluster/_agglomerative.py:552: UserWarning: the number of connected components of the connectivity matrix is 34 > 1. Completing it to avoid stopping the tree early.\n",
            "  connectivity, n_connected_components = _fix_connectivity(\n"
          ]
        },
        {
          "output_type": "stream",
          "name": "stdout",
          "text": [
            "Number of clusters: 106\n",
            "Number of segments: 114\n",
            "Processing the context of video Bearpark_climbing\n",
            "The extracted context has 557 embeddings\n",
            "Clustering frames of Bearpark_climbing\n",
            "Initial number of clusters is 65 with modulation 0.001\n",
            "Using our method\n",
            "Using our method with cosine distance metric and 65 clusters\n"
          ]
        },
        {
          "output_type": "stream",
          "name": "stderr",
          "text": [
            "/usr/local/lib/python3.10/dist-packages/sklearn/cluster/_agglomerative.py:552: UserWarning: the number of connected components of the connectivity matrix is 24 > 1. Completing it to avoid stopping the tree early.\n",
            "  connectivity, n_connected_components = _fix_connectivity(\n"
          ]
        },
        {
          "output_type": "stream",
          "name": "stdout",
          "text": [
            "Number of clusters: 65\n",
            "Number of segments: 52\n",
            "Processing the context of video Jumps\n",
            "The extracted context has 159 embeddings\n",
            "Clustering frames of Jumps\n",
            "Initial number of clusters is 19 with modulation 0.001\n",
            "Using our method\n",
            "Using our method with cosine distance metric and 19 clusters\n"
          ]
        },
        {
          "output_type": "stream",
          "name": "stderr",
          "text": [
            "/usr/local/lib/python3.10/dist-packages/sklearn/cluster/_agglomerative.py:552: UserWarning: the number of connected components of the connectivity matrix is 34 > 1. Completing it to avoid stopping the tree early.\n",
            "  connectivity, n_connected_components = _fix_connectivity(\n"
          ]
        },
        {
          "output_type": "stream",
          "name": "stdout",
          "text": [
            "Number of clusters: 19\n",
            "Number of segments: 11\n",
            "Processing the context of video Base jumping\n",
            "The extracted context has 676 embeddings\n",
            "Clustering frames of Base jumping\n",
            "Initial number of clusters is 78 with modulation 0.001\n",
            "Using our method\n",
            "Using our method with cosine distance metric and 78 clusters\n"
          ]
        },
        {
          "output_type": "stream",
          "name": "stderr",
          "text": [
            "/usr/local/lib/python3.10/dist-packages/sklearn/cluster/_agglomerative.py:552: UserWarning: the number of connected components of the connectivity matrix is 28 > 1. Completing it to avoid stopping the tree early.\n",
            "  connectivity, n_connected_components = _fix_connectivity(\n"
          ]
        },
        {
          "output_type": "stream",
          "name": "stdout",
          "text": [
            "Number of clusters: 78\n",
            "Number of segments: 71\n",
            "Processing the context of video Valparaiso_Downhill\n",
            "The extracted context has 740 embeddings\n",
            "Clustering frames of Valparaiso_Downhill\n",
            "Initial number of clusters is 84 with modulation 0.001\n",
            "Using our method\n",
            "Using our method with cosine distance metric and 84 clusters\n"
          ]
        },
        {
          "output_type": "stream",
          "name": "stderr",
          "text": [
            "/usr/local/lib/python3.10/dist-packages/sklearn/cluster/_agglomerative.py:552: UserWarning: the number of connected components of the connectivity matrix is 43 > 1. Completing it to avoid stopping the tree early.\n",
            "  connectivity, n_connected_components = _fix_connectivity(\n"
          ]
        },
        {
          "output_type": "stream",
          "name": "stdout",
          "text": [
            "Number of clusters: 84\n",
            "Number of segments: 95\n",
            "Processing the context of video Playing_on_water_slide\n",
            "The extracted context has 438 embeddings\n",
            "Clustering frames of Playing_on_water_slide\n",
            "Initial number of clusters is 51 with modulation 0.001\n",
            "Using our method\n",
            "Using our method with cosine distance metric and 51 clusters\n"
          ]
        },
        {
          "output_type": "stream",
          "name": "stderr",
          "text": [
            "/usr/local/lib/python3.10/dist-packages/sklearn/cluster/_agglomerative.py:552: UserWarning: the number of connected components of the connectivity matrix is 23 > 1. Completing it to avoid stopping the tree early.\n",
            "  connectivity, n_connected_components = _fix_connectivity(\n"
          ]
        },
        {
          "output_type": "stream",
          "name": "stdout",
          "text": [
            "Number of clusters: 51\n",
            "Number of segments: 42\n",
            "Processing the context of video Fire Domino\n",
            "The extracted context has 231 embeddings\n",
            "Clustering frames of Fire Domino\n",
            "Initial number of clusters is 27 with modulation 0.001\n",
            "Using our method\n",
            "Using our method with cosine distance metric and 27 clusters\n",
            "Number of clusters: 27\n",
            "Number of segments: 17\n",
            "Processing the context of video Cockpit_Landing\n",
            "The extracted context has 1293 embeddings\n",
            "Clustering frames of Cockpit_Landing\n",
            "Initial number of clusters is 136 with modulation 0.001\n",
            "Using our method\n"
          ]
        },
        {
          "output_type": "stream",
          "name": "stderr",
          "text": [
            "/usr/local/lib/python3.10/dist-packages/sklearn/cluster/_agglomerative.py:552: UserWarning: the number of connected components of the connectivity matrix is 13 > 1. Completing it to avoid stopping the tree early.\n",
            "  connectivity, n_connected_components = _fix_connectivity(\n"
          ]
        },
        {
          "output_type": "stream",
          "name": "stdout",
          "text": [
            "Using our method with cosine distance metric and 136 clusters\n"
          ]
        },
        {
          "output_type": "stream",
          "name": "stderr",
          "text": [
            "/usr/local/lib/python3.10/dist-packages/sklearn/cluster/_agglomerative.py:552: UserWarning: the number of connected components of the connectivity matrix is 36 > 1. Completing it to avoid stopping the tree early.\n",
            "  connectivity, n_connected_components = _fix_connectivity(\n"
          ]
        },
        {
          "output_type": "stream",
          "name": "stdout",
          "text": [
            "Number of clusters: 136\n",
            "Number of segments: 168\n",
            "--- 432.70801281929016 seconds ---\n"
          ]
        }
      ]
    },
    {
      "cell_type": "code",
      "source": [
        "%cd /content/context\n",
        "%rm -rf \"/content/drive/MyDrive/HCMUS/Y4/Thesis/Codes/summe/context/dino/summaries\"\n",
        "%mkdir -p \"/content/drive/MyDrive/HCMUS/Y4/Thesis/Codes/summe/context/dino/summaries\"\n",
        "%run scripts/summarization.py \\\n",
        "--embedding-folder \"/content/drive/MyDrive/HCMUS/Y4/Thesis/Codes/summe/context/dino/embeddings\" \\\n",
        "--context-folder \"/content/drive/MyDrive/HCMUS/Y4/Thesis/Codes/summe/context/dino/contexts\" \\\n",
        "--summary-folder \"/content/drive/MyDrive/HCMUS/Y4/Thesis/Codes/summe/context/dino/summaries\" \\\n",
        "--representative \"middle\" \\\n",
        "--reduced-emb \\\n",
        "--max-len 0"
      ],
      "metadata": {
        "colab": {
          "base_uri": "https://localhost:8080/"
        },
        "id": "a5h0NUyi2oFp",
        "outputId": "0315ee73-1e3f-45b2-9a63-8bcc7f138292"
      },
      "execution_count": null,
      "outputs": [
        {
          "output_type": "stream",
          "name": "stdout",
          "text": [
            "[Errno 2] No such file or directory: '/content/context'\n",
            "/content/clustering\n",
            "Processing the context of video playing_ball\n",
            "The extracted context has 446 embeddings\n",
            "The extracted context has 51 segments\n",
            "Summarizing video playing_ball\n",
            "Selected 51 keyframes\n",
            "Processing the context of video Excavators river crossing\n",
            "The extracted context has 1621 embeddings\n",
            "The extracted context has 207 segments\n",
            "Summarizing video Excavators river crossing\n",
            "Selected 207 keyframes\n",
            "Processing the context of video Car_railcrossing\n",
            "The extracted context has 725 embeddings\n",
            "The extracted context has 48 segments\n",
            "Summarizing video Car_railcrossing\n",
            "Selected 48 keyframes\n",
            "Processing the context of video Statue of Liberty\n",
            "The extracted context has 644 embeddings\n",
            "The extracted context has 58 segments\n",
            "Summarizing video Statue of Liberty\n",
            "Selected 58 keyframes\n",
            "Processing the context of video Eiffel Tower\n",
            "The extracted context has 829 embeddings\n",
            "The extracted context has 86 segments\n",
            "Summarizing video Eiffel Tower\n",
            "Selected 86 keyframes\n",
            "Processing the context of video Notre_Dame\n",
            "The extracted context has 768 embeddings\n",
            "The extracted context has 72 segments\n",
            "Summarizing video Notre_Dame\n",
            "Selected 72 keyframes\n",
            "Processing the context of video paluma_jump\n",
            "The extracted context has 368 embeddings\n",
            "The extracted context has 44 segments\n",
            "Summarizing video paluma_jump\n",
            "Selected 44 keyframes\n",
            "Processing the context of video Paintball\n",
            "The extracted context has 1220 embeddings\n",
            "The extracted context has 86 segments\n",
            "Summarizing video Paintball\n",
            "Selected 86 keyframes\n",
            "Processing the context of video Bike Polo\n",
            "The extracted context has 438 embeddings\n",
            "The extracted context has 56 segments\n",
            "Summarizing video Bike Polo\n",
            "Selected 56 keyframes\n",
            "Processing the context of video Scuba\n",
            "The extracted context has 318 embeddings\n",
            "The extracted context has 29 segments\n",
            "Summarizing video Scuba\n",
            "Selected 29 keyframes\n",
            "Processing the context of video Kids_playing_in_leaves\n",
            "The extracted context has 456 embeddings\n",
            "The extracted context has 35 segments\n",
            "Summarizing video Kids_playing_in_leaves\n",
            "Selected 35 keyframes\n",
            "Processing the context of video St Maarten Landing\n",
            "The extracted context has 292 embeddings\n",
            "The extracted context has 27 segments\n",
            "Summarizing video St Maarten Landing\n",
            "Selected 27 keyframes\n",
            "Processing the context of video Air_Force_One\n",
            "The extracted context has 749 embeddings\n",
            "The extracted context has 56 segments\n",
            "Summarizing video Air_Force_One\n",
            "Selected 56 keyframes\n",
            "Processing the context of video Bus_in_Rock_Tunnel\n",
            "The extracted context has 733 embeddings\n",
            "The extracted context has 71 segments\n",
            "Summarizing video Bus_in_Rock_Tunnel\n",
            "Selected 71 keyframes\n",
            "Processing the context of video Cooking\n",
            "The extracted context has 427 embeddings\n",
            "The extracted context has 51 segments\n",
            "Summarizing video Cooking\n",
            "Selected 51 keyframes\n",
            "Processing the context of video car_over_camera\n",
            "The extracted context has 626 embeddings\n",
            "The extracted context has 49 segments\n",
            "Summarizing video car_over_camera\n",
            "Selected 49 keyframes\n",
            "Processing the context of video Uncut_Evening_Flight\n",
            "The extracted context has 1382 embeddings\n",
            "The extracted context has 127 segments\n",
            "Summarizing video Uncut_Evening_Flight\n",
            "Selected 127 keyframes\n",
            "Processing the context of video Saving dolphines\n",
            "The extracted context has 955 embeddings\n",
            "The extracted context has 117 segments\n",
            "Summarizing video Saving dolphines\n",
            "Selected 117 keyframes\n",
            "Processing the context of video Bearpark_climbing\n",
            "The extracted context has 557 embeddings\n",
            "The extracted context has 56 segments\n",
            "Summarizing video Bearpark_climbing\n",
            "Selected 56 keyframes\n",
            "Processing the context of video Jumps\n",
            "The extracted context has 159 embeddings\n",
            "The extracted context has 12 segments\n",
            "Summarizing video Jumps\n",
            "Selected 12 keyframes\n",
            "Processing the context of video Base jumping\n",
            "The extracted context has 676 embeddings\n",
            "The extracted context has 72 segments\n",
            "Summarizing video Base jumping\n",
            "Selected 72 keyframes\n",
            "Processing the context of video Valparaiso_Downhill\n",
            "The extracted context has 740 embeddings\n",
            "The extracted context has 97 segments\n",
            "Summarizing video Valparaiso_Downhill\n",
            "Selected 97 keyframes\n",
            "Processing the context of video Playing_on_water_slide\n",
            "The extracted context has 438 embeddings\n",
            "The extracted context has 34 segments\n",
            "Summarizing video Playing_on_water_slide\n",
            "Selected 34 keyframes\n",
            "Processing the context of video Fire Domino\n",
            "The extracted context has 231 embeddings\n",
            "The extracted context has 13 segments\n",
            "Summarizing video Fire Domino\n",
            "Selected 13 keyframes\n",
            "Processing the context of video Cockpit_Landing\n",
            "The extracted context has 1293 embeddings\n",
            "The extracted context has 179 segments\n",
            "Summarizing video Cockpit_Landing\n",
            "Selected 179 keyframes\n",
            "--- 0.5803277492523193 seconds ---\n"
          ]
        }
      ]
    },
    {
      "cell_type": "code",
      "source": [
        "%cd /content/context\n",
        "%rm -rf \"/content/drive/MyDrive/HCMUS/Y4/Thesis/Codes/summe/clustering/dino/demo\"\n",
        "%mkdir \"/content/drive/MyDrive/HCMUS/Y4/Thesis/Codes/summe/clustering/dino/demo\""
      ],
      "metadata": {
        "colab": {
          "base_uri": "https://localhost:8080/"
        },
        "id": "-FHFmIqy57mu",
        "outputId": "f30b8fe5-d97d-457e-a94d-a4d1d16142aa"
      },
      "execution_count": null,
      "outputs": [
        {
          "output_type": "stream",
          "name": "stdout",
          "text": [
            "/content/clustering\n"
          ]
        }
      ]
    },
    {
      "cell_type": "code",
      "source": [
        "%run visualizer.py \\\n",
        "--video-folder data/videos \\\n",
        "--embedding-folder \"/content/drive/MyDrive/HCMUS/Y4/Thesis/Codes/summe/clustering/dino/embeddings\" \\\n",
        "--clustering-folder \"/content/drive/MyDrive/HCMUS/Y4/Thesis/Codes/summe/clustering/dino/clustering\" \\\n",
        "--demo-folder \"/content/drive/MyDrive/HCMUS/Y4/Thesis/Codes/summe/clustering/dino/demo\" \\\n",
        "--video-name Paintball \\\n",
        "--visual-type cluster \\\n",
        "--show-image \\\n",
        "--output-fps 4 \\\n",
        "--color-value label"
      ],
      "metadata": {
        "colab": {
          "base_uri": "https://localhost:8080/",
          "height": 490
        },
        "id": "a2OcbUhs984z",
        "outputId": "338e2b96-9a4b-45b2-ac8f-348f4c7c4fda"
      },
      "execution_count": null,
      "outputs": [
        {
          "output_type": "stream",
          "name": "stderr",
          "text": [
            "100%|██████████| 1220/1220 [00:33<00:00, 36.29it/s]\n"
          ]
        },
        {
          "output_type": "display_data",
          "data": {
            "text/plain": [
              "<Figure size 640x480 with 2 Axes>"
            ],
            "image/png": "[encoded data removed]"
          },
          "metadata": {}
        },
        {
          "output_type": "display_data",
          "data": {
            "text/plain": [
              "<Figure size 640x480 with 0 Axes>"
            ]
          },
          "metadata": {}
        }
      ]
    },
    {
      "cell_type": "code",
      "source": [
        "%run visualizer.py \\\n",
        "--video-folder data/videos \\\n",
        "--embedding-folder \"/content/drive/MyDrive/HCMUS/Y4/Thesis/Codes/summe/clustering/dino/embeddings\" \\\n",
        "--clustering-folder \"/content/drive/MyDrive/HCMUS/Y4/Thesis/Codes/summe/clustering/dino/clustering\" \\\n",
        "--demo-folder \"/content/drive/MyDrive/HCMUS/Y4/Thesis/Codes/summe/clustering/dino/demo\" \\\n",
        "--video-name Paintball \\\n",
        "--visual-type cluster \\\n",
        "--output-fps 4 \\\n",
        "--color-value label"
      ],
      "metadata": {
        "colab": {
          "base_uri": "https://localhost:8080/",
          "height": 473
        },
        "id": "OpLLOUTvWTG4",
        "outputId": "3144335d-6976-4f03-89fd-7b305e2ccb83"
      },
      "execution_count": null,
      "outputs": [
        {
          "output_type": "display_data",
          "data": {
            "text/plain": [
              "<Figure size 640x480 with 2 Axes>"
            ],
            "image/png": "[encoded data removed]"
          },
          "metadata": {}
        },
        {
          "output_type": "display_data",
          "data": {
            "text/plain": [
              "<Figure size 640x480 with 0 Axes>"
            ]
          },
          "metadata": {}
        }
      ]
    },
    {
      "cell_type": "code",
      "source": [
        "%run visualizer.py \\\n",
        "--video-folder data/videos \\\n",
        "--embedding-folder \"/content/drive/MyDrive/HCMUS/Y4/Thesis/Codes/summe/clustering/dino/embeddings\" \\\n",
        "--clustering-folder \"/content/drive/MyDrive/HCMUS/Y4/Thesis/Codes/summe/clustering/dino/clustering\" \\\n",
        "--demo-folder \"/content/drive/MyDrive/HCMUS/Y4/Thesis/Codes/summe/clustering/dino/demo\" \\\n",
        "--video-name Paintball \\\n",
        "--visual-type video \\\n",
        "--output-fps 4 \\\n",
        "--color-value label"
      ],
      "metadata": {
        "colab": {
          "base_uri": "https://localhost:8080/"
        },
        "id": "VAMCQHub4GzF",
        "outputId": "3cd7d69a-d335-4bd3-9918-9f0e4418bc7d"
      },
      "execution_count": null,
      "outputs": [
        {
          "output_type": "stream",
          "name": "stderr",
          "text": [
            "100%|██████████| 1220/1220 [00:43<00:00, 28.02it/s]\n",
            "100%|██████████| 17/17 [00:27<00:00,  1.62s/it]\n"
          ]
        }
      ]
    },
    {
      "cell_type": "code",
      "source": [],
      "metadata": {
        "id": "N5qkuTUyCa8x"
      },
      "execution_count": null,
      "outputs": []
    }
  ]
}